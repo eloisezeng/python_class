{
 "cells": [
  {
   "cell_type": "markdown",
   "metadata": {},
   "source": [
    "# Dictionaries\n",
    "\n",
    "<p style='font-size:1.25rem;line-height:1.5'>\n",
    "    <b style=\"color:red\">Dictionaries</b> store data using <b style=\"color:blue\">keys</b> and <b style=\"color:blue\">values</b>. Instead of accessing items using indices, dictionaries allow us to look up values using keys. An analogy is a real dictionary, in which we look up definitions using words.\n",
    "    </p>"
   ]
  },
  {
   "cell_type": "markdown",
   "metadata": {},
   "source": [
    "<p style='font-size:1.25rem;line-height:1.5'>\n",
    "    Keys can be any data type, as long as they are <strong>unique</strong> (no repeated keys) and <strong>immutable</strong>. Values can be any data type.\n",
    "    </p>"
   ]
  },
  {
   "cell_type": "markdown",
   "metadata": {},
   "source": [
    "<p style='font-size:1.25rem;line-height:1.5'>\n",
    "    In Python, dictionaries are written using <b style=\"color:blue\">curly brackets</b> <code>{}</code>, <b style=\"color:blue\">colons</b> <code>:</code> to separate keys and values, and <b style=\"color:blue\">commas</b> <code>,</code> to separate key/value pairs.\n",
    "    </p>"
   ]
  },
  {
   "cell_type": "markdown",
   "metadata": {},
   "source": [
    "<p style='font-size:1.25rem;line-height:1.5'>\n",
    "    Here is an example of a dictionary (run this code block):\n",
    "    </p>"
   ]
  },
  {
   "cell_type": "code",
   "execution_count": null,
   "metadata": {},
   "outputs": [],
   "source": [
    "items_to_prices = {'cheese': 2.53, \n",
    "                   'milk': 3.40, \n",
    "                   'frozen pizza': 8.01}"
   ]
  },
  {
   "cell_type": "markdown",
   "metadata": {},
   "source": [
    "<p style='font-size:1.25rem;line-height:1.5'>\n",
    "    This dictionary maps items to their price. Now we can easily look up the price of an item! Try running the code below:\n",
    "    </p>"
   ]
  },
  {
   "cell_type": "code",
   "execution_count": null,
   "metadata": {},
   "outputs": [],
   "source": [
    "items_to_prices['frozen pizza']"
   ]
  },
  {
   "cell_type": "markdown",
   "metadata": {},
   "source": [
    "<p style='font-size:1.25rem;line-height:1.5'>\n",
    "    The given dictionary stores lists of scores by student name. \n",
    "    <br>Output the score for Jason.\n",
    "    </p>"
   ]
  },
  {
   "cell_type": "code",
   "execution_count": null,
   "metadata": {},
   "outputs": [],
   "source": [
    "names_to_scores = {'Jason': [65, 50, 80], 'Matt': [100, 99, 90]}\n",
    "\n",
    "# Start your code here\n"
   ]
  }
 ],
 "metadata": {
  "kernelspec": {
   "display_name": "Python 3",
   "language": "python",
   "name": "python3"
  },
  "language_info": {
   "codemirror_mode": {
    "name": "ipython",
    "version": 3
   },
   "file_extension": ".py",
   "mimetype": "text/x-python",
   "name": "python",
   "nbconvert_exporter": "python",
   "pygments_lexer": "ipython3",
   "version": "3.7.4"
  }
 },
 "nbformat": 4,
 "nbformat_minor": 4
}
