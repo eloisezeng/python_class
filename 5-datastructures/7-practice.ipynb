{
 "cells": [
  {
   "cell_type": "markdown",
   "metadata": {},
   "source": [
    "# Datastructures Practice"
   ]
  },
  {
   "cell_type": "markdown",
   "metadata": {},
   "source": [
    "# 1. Middle String\n",
    "\n",
    "<p style='font-size:1.25rem;line-height:1.5'>\n",
    "    Given 2 strings, <code>a</code> and <code>b</code>, return a string of the form short + long + short, with the shorter string on the outside and the longer string in the middle. If the strings are the same length, print <code>a + b</code>. For example:\n",
    "    </p>\n",
    "<ul style='font-size:1.25rem;line-height:1.5'>\n",
    "    <li>For <code>Racecar</code> and <code>Beaver</code>, print <code>BeaverRacecarBeaver</code>.</li>\n",
    "    <li>For <code>Hello</code> and <code>World</code>, print <code>HelloWorld</code>.</li>\n",
    "</ul>\n",
    "<p style='font-size:1.25rem;line-height:1.5'>\n",
    "    Check your code by changing the strings passed into the function!\n",
    "    </p>"
   ]
  },
  {
   "cell_type": "code",
   "execution_count": null,
   "metadata": {},
   "outputs": [],
   "source": [
    "def middle_string(a, b):\n",
    "    # Start your code here\n",
    "\n",
    "    \n",
    "    \n",
    "\n",
    "# Change the strings to test your code!\n",
    "str1 = 'Race'\n",
    "str2 = 'Car'\n",
    "middle_string(str1, str2)"
   ]
  },
  {
   "cell_type": "markdown",
   "metadata": {},
   "source": [
    "# 2. Common Ends\n",
    "\n",
    "<p style='font-size:1.25rem;line-height:1.5'>\n",
    "    Given 2 lists, <code>a</code> and <code>b</code>, return <code>True</code> if they have the same first element <strong>OR</strong> if they have the same last element. For example:\n",
    "    </p>\n",
    "<ul style='font-size:1.25rem;line-height:1.5'>\n",
    "    <li>For <code>['RACECAR', 1, 2, 3]</code> and <code>[3, 2, 1, 2, 3]</code>, output <code>True</code> (same last element).</li>\n",
    "</ul>\n",
    "<p style='font-size:1.25rem;line-height:1.5'>\n",
    "    Check your code by changing the lists passed into the function!\n",
    "    </p>"
   ]
  },
  {
   "cell_type": "code",
   "execution_count": null,
   "metadata": {},
   "outputs": [],
   "source": [
    "def common_ends(a, b):\n",
    "    # Start your code here\n",
    "    \n",
    "\n",
    "    \n",
    "\n",
    "# Change the lists to test your code!\n",
    "list1 = [1, 'jfio', 9, 0, 9, 2, 1, 'same']\n",
    "list2 = [2, 'same']\n",
    "common_ends(list1, list2)"
   ]
  },
  {
   "cell_type": "markdown",
   "metadata": {},
   "source": [
    "# 3. Reverse Sum\n",
    "\n",
    "<p style='font-size:1.25rem;line-height:1.5'>\n",
    "    Given a list of two numbers, <code>a</code> and <code>b</code>, return <code>a + b</code>, but in reverse order. For example:\n",
    "    </p>\n",
    "<ul style='font-size:1.25rem;line-height:1.5'>\n",
    "    <li>If <code>a</code> is <code>[1, 2, 'racecar']</code> and <code>b</code> is <code>[4, True, 6]</code>, return <code>[6, True, 4, 'racecar', 2, 1]</code>.</li>\n",
    "</ul>\n",
    "    </p>\n",
    "<p style='font-size:1.25rem;line-height:1.5'>\n",
    "    Check your code by changing the lists passed into the function!\n",
    "    </p>"
   ]
  },
  {
   "cell_type": "code",
   "execution_count": null,
   "metadata": {},
   "outputs": [],
   "source": [
    "def reverse_sum(a, b):\n",
    "    # Start your code here\n",
    "    \n",
    "    \n",
    "    \n",
    "    \n",
    "\n",
    "# Change the lists to test your code!\n",
    "list1 = [2, 4, 1, 'a', '9', 'b']\n",
    "list2 = [False, 'first item']\n",
    "reverse_sum(list1, list2)"
   ]
  },
  {
   "cell_type": "markdown",
   "metadata": {},
   "source": [
    "# 4. Zero Padding\n",
    "\n",
    "<p style='font-size:1.25rem;line-height:1.5'>\n",
    "    Given a list <code>a</code> of numbers, return a list with <code>n</code> zeroes <code>0</code> at both ends of <code>a</code>. For example:\n",
    "    </p>\n",
    "<ul style='font-size:1.25rem;line-height:1.5'>\n",
    "    <li><code>zero_padding([9.3, 8, 1, 3, -4], 2)</code> should return <code>[0, 0, 9.3, 8, 1, 3, -4, 0, 0]</code>.</li>\n",
    "</ul>\n",
    "<p style='font-size:1.25rem;line-height:1.5'>\n",
    "    Check your code by calling <code>zero_padding</code> on a few lists and values of <code>n</code>!\n",
    "    </p>"
   ]
  },
  {
   "cell_type": "code",
   "execution_count": null,
   "metadata": {},
   "outputs": [],
   "source": [
    "def zero_padding (a, n):\n",
    "    # Start your code here\n",
    "    \n",
    "    \n",
    "    \n",
    "\n",
    "# Change the list and n to test your code!\n",
    "my_list = [-5, 120, -45, 98, 180, 359]\n",
    "n = 3\n",
    "print(zero_padding(my_list, n))"
   ]
  },
  {
   "cell_type": "markdown",
   "metadata": {},
   "source": [
    "# 5. Nested Lists\n",
    "\n",
    "<p style='font-size:1.25rem;line-height:1.5'>\n",
    "    You can have lists inside lists. You can index each layer with an additional bracket.\n",
    "    </p>\n",
    "\n",
    "<p style='font-size:1.25rem;line-height:1.5'>\n",
    "    Example:\n",
    "    </p>\n",
    "        \n",
    "```python\n",
    "x = [[0, 0, 0, 0, 0], \n",
    "     [0, 0, 5, 0, 0],\n",
    "     [0, 0, 0, 0, 0],\n",
    "     [0, 0, 0, 0, 0],\n",
    "     [0, 0, 0, 0, 0]]\n",
    "\n",
    "x[1][2] will index into the 5.\n",
    "```"
   ]
  },
  {
   "cell_type": "markdown",
   "metadata": {},
   "source": [
    "<p style='font-size:1.25rem;line-height:1.5'>\n",
    "    Try to create a nested list with 3 layers. And index into the third layer.\n",
    "    </p>"
   ]
  },
  {
   "cell_type": "code",
   "execution_count": null,
   "metadata": {},
   "outputs": [],
   "source": [
    "# Start your code here"
   ]
  },
  {
   "cell_type": "markdown",
   "metadata": {},
   "source": [
    "<p style='font-size:1.25rem;line-height:1.5'>\n",
    "    <strong>Challenge:</strong> Try to slice into the 2 layer nested list below. Change all the values of row 5 from 0 to 255. \n",
    "    </p>"
   ]
  },
  {
   "cell_type": "code",
   "execution_count": null,
   "metadata": {},
   "outputs": [],
   "source": [
    "x = [[0, 0, 0, 0, 0], \n",
    "     [0, 0, 0, 0, 0],\n",
    "     [0, 0, 0, 0, 0],\n",
    "     [0, 0, 0, 0, 0],\n",
    "     [0, 0, 0, 0, 0]]\n",
    "\n",
    "# Start your code here"
   ]
  }
 ],
 "metadata": {
  "kernelspec": {
   "display_name": "Python 3",
   "language": "python",
   "name": "python3"
  },
  "language_info": {
   "codemirror_mode": {
    "name": "ipython",
    "version": 3
   },
   "file_extension": ".py",
   "mimetype": "text/x-python",
   "name": "python",
   "nbconvert_exporter": "python",
   "pygments_lexer": "ipython3",
   "version": "3.7.4"
  }
 },
 "nbformat": 4,
 "nbformat_minor": 4
}
