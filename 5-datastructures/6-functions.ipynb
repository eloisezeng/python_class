{
 "cells": [
  {
   "cell_type": "markdown",
   "metadata": {},
   "source": [
    "# Python Functions for Numbers\n",
    "\n",
    "<p style='font-size:1.25rem;line-height:1.5'>\n",
    "    There are a few <b style=\"color:red\">built-in Python functions</b> that take lists or tuples of <b style=\"color:blue\">numbers</b> as arguments. These functions are summarized below:\n",
    "    </p>"
   ]
  },
  {
   "cell_type": "markdown",
   "metadata": {},
   "source": [
    "<table style='font-size:1.25rem;line-height:1.5;text-align:center'>\n",
    "    <tr>\n",
    "        <th style='font-size:1.25rem;line-height:1.5;text-align:center'>Function</th>\n",
    "        <th style='font-size:1.25rem;line-height:1.5;text-align:center'>Returns</th>\n",
    "    </tr>\n",
    "    <tr>\n",
    "        <td style='font-size:1.25rem;line-height:1.5;text-align:center'><code>sum</code></td>\n",
    "        <td style='font-size:1.25rem;line-height:1.5;text-align:center'>sum of elements</td>\n",
    "    </tr>\n",
    "    <tr>\n",
    "        <td style='font-size:1.25rem;line-height:1.5;text-align:center'><code>max</code></td>\n",
    "        <td style='font-size:1.25rem;line-height:1.5;text-align:center'>largest element</td>\n",
    "    </tr>\n",
    "    <tr>\n",
    "        <td style='font-size:1.25rem;line-height:1.5;text-align:center'><code>min</code></td>\n",
    "        <td style='font-size:1.25rem;line-height:1.5;text-align:center'>smallest element</td>\n",
    "    </tr>\n",
    "    <tr>\n",
    "        <td style='font-size:1.25rem;line-height:1.5;text-align:center'><code>sorted</code></td>\n",
    "        <td style='font-size:1.25rem;line-height:1.5;text-align:center'>list of elements from smallest to largest</td>\n",
    "    </tr>\n",
    "</table>\n",
    "\n",
    "<p style='font-size:1.25rem;line-height:1.5'>\n",
    "    For example, using <code>max</code> on <code>my_list</code> should return <code>98</code>:\n",
    "    </p>"
   ]
  },
  {
   "cell_type": "code",
   "execution_count": null,
   "metadata": {},
   "outputs": [],
   "source": [
    "my_list = [68, 30, 72, 66, 75, 98, 26, 55, 13, 51]\n",
    "max(my_list)"
   ]
  },
  {
   "cell_type": "markdown",
   "metadata": {},
   "source": [
    "<p style='font-size:1.25rem;line-height:1.5'>\n",
    "    Sort <code>my_list</code> using <code>sorted</code>.\n",
    "    </p>"
   ]
  },
  {
   "cell_type": "code",
   "execution_count": null,
   "metadata": {},
   "outputs": [],
   "source": [
    "my_list = [68, 30, 72, 66, 75, 96, 26, 55, 13, 51]\n",
    "\n",
    "# Start your code here"
   ]
  },
  {
   "cell_type": "markdown",
   "metadata": {},
   "source": [
    "<p style='font-size:1.25rem;line-height:1.5'>\n",
    "    Add the numbers from <code>1</code> to <code>10</code> using the <code>sum</code> function. Remember, <code>sum</code> takes an iterable as an arguement!\n",
    "    </p>"
   ]
  },
  {
   "cell_type": "code",
   "execution_count": null,
   "metadata": {},
   "outputs": [],
   "source": [
    "# Start your code here"
   ]
  },
  {
   "cell_type": "markdown",
   "metadata": {},
   "source": [
    "# Python Functions for Booleans\n",
    "\n",
    "<p style='font-size:1.25rem;line-height:1.5'>\n",
    "    These <b style=\"color:red\">built-in Python functions</b> take lists or tuples of <b style=\"color:blue\">booleans</b> as arguments:\n",
    "    </p>\n",
    "<table style='font-size:1.25rem;line-height:1.5;text-align:center'>\n",
    "    <tr>\n",
    "        <th style='font-size:1.25rem;line-height:1.5;text-align:center'>Function</th>\n",
    "        <th style='font-size:1.25rem;line-height:1.5;text-align:center'>Returns</th>\n",
    "    </tr>\n",
    "    <tr>\n",
    "        <td style='font-size:1.25rem;line-height:1.5;text-align:center'><code>any()</code></td>\n",
    "        <td style='font-size:1.25rem;line-height:1.5;text-align:center'><code>True</code> if any element is <code>True</code>; <code>False</code> otherwise</td>\n",
    "    </tr>\n",
    "    <tr>\n",
    "        <td style='font-size:1.25rem;line-height:1.5;text-align:center'><code>all()</code></td>\n",
    "        <td style='font-size:1.25rem;line-height:1.5;text-align:center'><code>True</code> if all elements are <code>True</code>; <code>False</code> otherwise</td>\n",
    "    </tr>\n",
    "</table>\n",
    "\n",
    "<p style='font-size:1.25rem;line-height:1.5'>\n",
    "    For example, try running the code below.\n",
    "    </p>"
   ]
  },
  {
   "cell_type": "code",
   "execution_count": null,
   "metadata": {},
   "outputs": [],
   "source": [
    "conditions = (1 > 2, 3 <= 4, 3 in (1, 2, 3))\n",
    "any(conditions)"
   ]
  },
  {
   "cell_type": "markdown",
   "metadata": {},
   "source": [
    "<p style='font-size:1.25rem;line-height:1.5'>\n",
    "    This is true because 3 is less than or equal to 4.\n",
    "    </p>\n",
    "    <p style='font-size:1.25rem;line-height:1.5'>\n",
    "    Check if <strong>all</strong> the conditions in <code>conditions</code> are <code>True</code>, use <code>all</code>.\n",
    "    </p>\n",
    "\n",
    "# Start your code here\n",
    "\n",
    "\n",
    "\n",
    "# <b style=\"color:red\">--- STOP HERE --- </b>\n",
    "\n",
    "---"
   ]
  }
 ],
 "metadata": {
  "kernelspec": {
   "display_name": "Python 3",
   "language": "python",
   "name": "python3"
  },
  "language_info": {
   "codemirror_mode": {
    "name": "ipython",
    "version": 3
   },
   "file_extension": ".py",
   "mimetype": "text/x-python",
   "name": "python",
   "nbconvert_exporter": "python",
   "pygments_lexer": "ipython3",
   "version": "3.7.4"
  }
 },
 "nbformat": 4,
 "nbformat_minor": 4
}
