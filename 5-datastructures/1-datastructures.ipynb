{
 "cells": [
  {
   "cell_type": "markdown",
   "metadata": {},
   "source": [
    "# Data Structures\n",
    "\n",
    "<p style='font-size:1.25rem;line-height:1.5'>\n",
    "    <b style=\"color:red\">Data structures</b> are data types that store other pieces of information. Data structures allow us to <b style=\"color:blue\">organize and manipulate</b> many variables at once. \n",
    "    </p>\n",
    "\n",
    "<p style='font-size:1.25rem;line-height:1.5'>\n",
    "    For example, a <b>string</b> is an example of a data structure because it is an <b>ordered sequence of characters</b>.\n",
    "    </p>\n",
    "    \n",
    "<p style='font-size:1.25rem;line-height:1.5'>\n",
    "    We will also be learning about <b style=\"color:blue\">two other data structures</b> in Python:\n",
    "    <ul style='font-size:1.25rem;line-height:2'>\n",
    "        <li><code>lists</code></li>\n",
    "        <li><code>tuples</code></li>\n",
    "    </ul>\n",
    "    </p>"
   ]
  },
  {
   "cell_type": "markdown",
   "metadata": {},
   "source": [
    "# Indexing\n",
    "\n",
    "<p style='font-size:1.25rem;line-height:1.5'>\n",
    "    <b style=\"color:red\">Indexing</b> allows us to access individual characters in a string (or other data structure). \n",
    "    \n",
    "<p style='font-size:1.25rem;line-height:1.5'>\n",
    "    An <b style=\"color:red\">index</b> is an integer that refers to the <b style=\"color:blue\">position of the character</b> we want. The first element has an index of <code>0</code>, the second has an index of <code>1</code>, and so on.\n",
    "    </p>\n",
    "    \n",
    "<p style='font-size:1.25rem;line-height:1.5'>\n",
    "    For example, consider the string <code>'RACECAR'</code>. The following diagram shows the corresponding index below each character:\n",
    "    </p>\n",
    "\n",
    "<table style='font-size:1.25rem;line-height:1.5'>\n",
    "    <tr>\n",
    "        <td>R</td>\n",
    "        <td>A</td>\n",
    "        <td>C</td>\n",
    "        <td>E</td>\n",
    "        <td>C</td>\n",
    "        <td>A</td>\n",
    "        <td>R</td>\n",
    "    </tr>\n",
    "    <tr>\n",
    "        <td>0</td>\n",
    "        <td>1</td>\n",
    "        <td>2</td>\n",
    "        <td>3</td>\n",
    "        <td>4</td>\n",
    "        <td>5</td>\n",
    "        <td>6</td>\n",
    "    </tr>\n",
    "</table>\n",
    "\n",
    "<p style='font-size:1.25rem;line-height:1.5'>\n",
    "    We can use <b style=\"color:red\">square brackets</b> <code>[]</code> after a string to retrieve the <b style=\"color:blue\">character at a specific index</b>.\n",
    "    </p>"
   ]
  },
  {
   "cell_type": "markdown",
   "metadata": {},
   "source": [
    "<p style='font-size:1.25rem;line-height:1.5'>\n",
    "    The example below retrieves index <code>3</code> (aka. 3rd character) of <code>my_str</code>.\n",
    "    </p>"
   ]
  },
  {
   "cell_type": "code",
   "execution_count": null,
   "metadata": {},
   "outputs": [],
   "source": [
    "my_str = 'RACECAR'\n",
    "my_str[3]          # retrieve the character at index 3 (the 4th character)"
   ]
  },
  {
   "cell_type": "markdown",
   "metadata": {},
   "source": [
    "<p style='font-size:1.25rem;line-height:1.5'>\n",
    "    Select <code>'e'</code> from the the string <code>'Hello_World'</code>.\n",
    "    </p>"
   ]
  },
  {
   "cell_type": "code",
   "execution_count": null,
   "metadata": {},
   "outputs": [],
   "source": [
    "my_str = 'Hello_World'\n",
    "\n",
    "# Your code here\n",
    "\n"
   ]
  },
  {
   "cell_type": "markdown",
   "metadata": {},
   "source": [
    "<p style='font-size:1.25rem;line-height:1.5'>\n",
    "    If we try to use an <b style=\"color:blue\">index that does not exist</b> for a particular string, we will get an <code>IndexError</code>. \n",
    "    </p>"
   ]
  },
  {
   "cell_type": "markdown",
   "metadata": {},
   "source": [
    "<p style='font-size:1.25rem;line-height:1.5'>\n",
    "    For example, see what happens when we run the code below:\n",
    "    </p>"
   ]
  },
  {
   "cell_type": "code",
   "execution_count": null,
   "metadata": {},
   "outputs": [],
   "source": [
    "my_str = 'RACECAR'\n",
    "my_str[7]          # there is no index 7 for this string"
   ]
  },
  {
   "cell_type": "markdown",
   "metadata": {},
   "source": [
    "# Negative Indices\n",
    "\n",
    "<p style='font-size:1.25rem;line-height:1.5'>\n",
    "    Characters can also be specified by <b style=\"color:red\">negative indices</b>, as shown below:\n",
    "    </p>\n",
    "    \n",
    "<table style='font-size:1.25rem;line-height:1.5'>\n",
    "    <tr>\n",
    "        <td>R</td>\n",
    "        <td>A</td>\n",
    "        <td>C</td>\n",
    "        <td>E</td>\n",
    "        <td>C</td>\n",
    "        <td>A</td>\n",
    "        <td>R</td>\n",
    "    </tr>\n",
    "    <tr>\n",
    "        <td>-7</td>\n",
    "        <td>-6</td>\n",
    "        <td>-5</td>\n",
    "        <td>-4</td>\n",
    "        <td>-3</td>\n",
    "        <td>-2</td>\n",
    "        <td>-1</td>\n",
    "    </tr>\n",
    "</table>\n",
    "\n",
    "<p style='font-size:1.25rem;line-height:1.5'>\n",
    "    Using the negative index to access a character is <b>similar to using positive indices</b>:\n",
    "    <ul style='font-size:1.25rem;line-height:2'>\n",
    "        <li><b style=\"color:blue\">positive indices</b> are useful for retrieving characters near the <b style=\"color:blue\">beginning</b> of a string</li>\n",
    "        <li><b style=\"color:blue\">negative indices</b> are useful for characters near the <b style=\"color:blue\">end</b>.</li>\n",
    "    </ul>\n",
    "    </p>"
   ]
  },
  {
   "cell_type": "markdown",
   "metadata": {},
   "source": [
    "<p style='font-size:1.25rem;line-height:1.5'>\n",
    "    Select <code>'d'</code> from the the string <code>'Hello_World'</code> using a <strong>positive</strong> index."
   ]
  },
  {
   "cell_type": "code",
   "execution_count": null,
   "metadata": {},
   "outputs": [],
   "source": [
    "my_str = 'Hello_World'\n",
    "\n",
    "# Select 'd' using a positive index\n",
    "\n"
   ]
  },
  {
   "cell_type": "markdown",
   "metadata": {},
   "source": [
    "<p style='font-size:1.25rem;line-height:1.5'>\n",
    "    Now select <code>'d'</code> from the the string <code>'Hello_World'</code> using a <strong>negative</strong> index.\n",
    "    </p>"
   ]
  },
  {
   "cell_type": "code",
   "execution_count": null,
   "metadata": {},
   "outputs": [],
   "source": [
    "my_str = 'Hello_World'\n",
    "\n",
    "# Select 'd' using a negative index\n",
    "\n"
   ]
  },
  {
   "cell_type": "markdown",
   "metadata": {},
   "source": [
    "# Slicing\n",
    "\n",
    "<p style='font-size:1.25rem;line-height:1.5'>\n",
    "    <b style=\"color:red\">Slicing</b> allows us to get a <b style=\"color:red\">substring</b> of characters from a string. \n",
    "    <br> The format for slicing is:\n",
    "    </p>\n",
    "\n",
    "<pre style='font-size:1.25rem;line-height:1.5'>\n",
    "    &lt;string&gt;[start:stop:step]\n",
    "</pre>\n",
    "\n",
    "<ul style='font-size:1.25rem;line-height:1.5'>\n",
    "    <li><b style=\"color:blue\">Start index:</b> the index at which the substring begins \n",
    "        <br> (inclusive &mdash character at start index is not included).</li>\n",
    "    <li><b style=\"color:blue\">Stop index:</b> the index at which the substring ends \n",
    "        <br> (exclusive &mdash character at stop index is not included).</li>\n",
    "    <li><b style=\"color:blue\">Step size:</b> how many items indices do you want to move forward.</li>\n",
    "</ul>\n",
    "<p style='font-size:1.25rem;line-height:1.5'>\n",
    "    Think of slicing as moving through a string and <b style=\"color:blue\">selecting certain characters</b>. \n",
    "    </p>\n",
    "    \n",
    "<p style='font-size:1.25rem;line-height:1.5'>\n",
    "    We start at the start index, and then repeatedly add the step size to the current index. If the current index is greater than or equal to the stop index, we stop.\n",
    "    </p>"
   ]
  },
  {
   "cell_type": "markdown",
   "metadata": {},
   "source": [
    "<p style='font-size:1.25rem;line-height:1.5'>\n",
    "    For example, this slice selects <b>every character</b> from index <code>2</code> to <code>5</code>:\n",
    "    </p>"
   ]
  },
  {
   "cell_type": "code",
   "execution_count": null,
   "metadata": {
    "scrolled": true
   },
   "outputs": [],
   "source": [
    "my_str = 'RACECAR'\n",
    "my_str[2:6:1]      # select every character from index 2 to 5"
   ]
  },
  {
   "cell_type": "markdown",
   "metadata": {},
   "source": [
    "<p style='font-size:1.25rem;line-height:1.5'>\n",
    "    And this will select <b>every other</b> character from index <code>0</code> to <code>6</code>:\n",
    "    </p>"
   ]
  },
  {
   "cell_type": "code",
   "execution_count": null,
   "metadata": {
    "scrolled": true
   },
   "outputs": [],
   "source": [
    "my_str = 'RACECAR'\n",
    "my_str[0:7:2]      # select every other character from index 0 to 6"
   ]
  },
  {
   "cell_type": "markdown",
   "metadata": {},
   "source": [
    "<p style='font-size:1.25rem;line-height:1.5'>\n",
    "    Select the substring <code>'Hello'</code> from the string <code>'Hello_World'</code>.\n",
    "    </p>"
   ]
  },
  {
   "cell_type": "code",
   "execution_count": null,
   "metadata": {},
   "outputs": [],
   "source": [
    "my_str = 'Hello_World'\n",
    "\n",
    "# Start your code here\n",
    "\n"
   ]
  },
  {
   "cell_type": "markdown",
   "metadata": {},
   "source": [
    "<p style='font-size:1.25rem;line-height:1.5'>\n",
    "    Select the substring <code>'HloWrd'</code> from the string <code>'Hello_World'</code>.\n",
    "    </p>"
   ]
  },
  {
   "cell_type": "code",
   "execution_count": null,
   "metadata": {},
   "outputs": [],
   "source": [
    "my_str = 'Hello_World'\n",
    "\n",
    "# Start your code here\n",
    "\n"
   ]
  },
  {
   "cell_type": "markdown",
   "metadata": {},
   "source": [
    "# Default Values for Slicing\n",
    "\n",
    "<p style='font-size:1.25rem;line-height:1.5'>\n",
    "    Slicing also has <b style=\"color:red\">default start, stop, and step</b> values. They are:\n",
    "    </p>\n",
    "    \n",
    "<ul style='font-size:1.25rem;line-height:1.5'>\n",
    "    <li><b style=\"color:blue\">Default Start Index:</b> <code>0</code></li>\n",
    "    <li><b style=\"color:blue\">Default End Index:</b> the length of the string (it will go to the end)</li>\n",
    "    <li><b style=\"color:blue\">Default Step:</b> <code>1</code></li>\n",
    "</ul>\n",
    "\n",
    "<p style='font-size:1.25rem;line-height:1.5'>\n",
    "    If we omit any of these values, Python will automatically use the default values. \n",
    "    </p>\n",
    "    \n",
    "<p style='font-size:1.25rem;line-height:1.5'>    \n",
    "    NOTE: We need to include the first colon <code>:</code> so that Python knows we want to make a slice rather than just retrieve a single character at that index. BUT we can omit the second colon if we are using the default step size of 1.\n",
    "    </p>"
   ]
  },
  {
   "cell_type": "markdown",
   "metadata": {},
   "source": [
    "<p style='font-size:1.25rem;line-height:1.5'>\n",
    "    Run the examples below.\n",
    "    </p>"
   ]
  },
  {
   "cell_type": "code",
   "execution_count": null,
   "metadata": {},
   "outputs": [],
   "source": [
    "my_str = 'RACECAR'\n",
    "my_str[1:]         # same as my_str[1:7:1]"
   ]
  },
  {
   "cell_type": "code",
   "execution_count": null,
   "metadata": {},
   "outputs": [],
   "source": [
    "my_str = 'RACECAR'\n",
    "my_str[:3]         # same as my_str[0:3:1]"
   ]
  },
  {
   "cell_type": "code",
   "execution_count": null,
   "metadata": {},
   "outputs": [],
   "source": [
    "my_str = 'RACECAR'\n",
    "my_str[2:6]        # same as my_str[2:6:1]"
   ]
  },
  {
   "cell_type": "code",
   "execution_count": null,
   "metadata": {},
   "outputs": [],
   "source": [
    "my_str = 'RACECAR'\n",
    "my_str[::2]        # same as my_str[0:7:2]"
   ]
  },
  {
   "cell_type": "markdown",
   "metadata": {},
   "source": [
    "# Negative Slicing\n",
    "\n",
    "<p style='font-size:1.25rem;line-height:1.5'>\n",
    "    We can also use <b style=\"color:red\">negative indices</b> with slicing. Remember, negative indices are just <b style=\"color:blue\">another way</b> to refer to each position in a string. For example:\n",
    "    </p>"
   ]
  },
  {
   "cell_type": "code",
   "execution_count": null,
   "metadata": {},
   "outputs": [],
   "source": [
    "my_str = 'RACECAR'\n",
    "my_str[-5:-1:1]    # select every other character from index -5 (same as 2) to -1 (same as 6)"
   ]
  },
  {
   "cell_type": "markdown",
   "metadata": {},
   "source": [
    "<p style='font-size:1.25rem;line-height:1.5'>\n",
    "    We can also use a negative step size to <b style=\"color:blue\">iterate through the string backwards!</b>\n",
    "    </p>\n",
    "    \n",
    "<p style='font-size:1.25rem;line-height:1.5'>\n",
    "    Note that when we are stepping backwards, we also have to <b style=\"color:blue\">reverse the direction of our bounds</b>, putting the larger index first.\n",
    "    </p>"
   ]
  },
  {
   "cell_type": "markdown",
   "metadata": {},
   "source": [
    "<p style='font-size:1.25rem;line-height:1.5'>\n",
    "    For example:\n",
    "    </p>"
   ]
  },
  {
   "cell_type": "code",
   "execution_count": null,
   "metadata": {
    "scrolled": true
   },
   "outputs": [],
   "source": [
    "my_str = 'RACECAR'\n",
    "my_str[5:1:-1]     # select every other character from index 5 to 2, stepping backwards"
   ]
  },
  {
   "cell_type": "markdown",
   "metadata": {},
   "source": [
    "<p style='font-size:1.25rem;line-height:1.5'>\n",
    "    Select the substring <code>'World'</code> from the string <code>'Hello_World'</code> using negative indices.\n",
    "    </p>"
   ]
  },
  {
   "cell_type": "code",
   "execution_count": null,
   "metadata": {},
   "outputs": [],
   "source": [
    "my_str = 'Hello_World'\n",
    "\n",
    "# Start your code here\n",
    "\n"
   ]
  },
  {
   "cell_type": "markdown",
   "metadata": {},
   "source": [
    "<p style='font-size:1.25rem;line-height:1.5'>\n",
    "    Select the reversed substring <code>'dlroW'</code> from the string <code>'Hello_World'</code>.\n",
    "    </p>"
   ]
  },
  {
   "cell_type": "code",
   "execution_count": null,
   "metadata": {},
   "outputs": [],
   "source": [
    "my_str = 'Hello_World'\n",
    "\n",
    "# Start your code here\n",
    "\n"
   ]
  },
  {
   "cell_type": "markdown",
   "metadata": {},
   "source": [
    "# Membership Operators\n",
    "\n",
    "<p style='font-size:1.25rem;line-height:1.5'>\n",
    "    We can check whether a character is in a particular string using the <b style=\"color:red\">membership operators</b> <code>in</code> and <code>not in</code>.\n",
    "    </p>\n",
    "    \n",
    "<ul style='font-size:1.25rem;line-height:1.5'>\n",
    "    <li><code>in</code>: returns <code>True</code> if the character <b>IS</b> in the string.</li>\n",
    "    <li><code>not in</code>: returns <code>True</code> if the character is <b>NOT in</b> the string.</li>\n",
    "</ul>"
   ]
  },
  {
   "cell_type": "markdown",
   "metadata": {},
   "source": [
    "<p style='font-size:1.25rem;line-height:1.5'>\n",
    "    What do you think the following code will output?\n",
    "    </p>"
   ]
  },
  {
   "cell_type": "code",
   "execution_count": null,
   "metadata": {},
   "outputs": [],
   "source": [
    "my_str = 'RACECAR'\n",
    "'E' in my_str"
   ]
  },
  {
   "cell_type": "markdown",
   "metadata": {},
   "source": [
    "<p style='font-size:1.25rem;line-height:1.5'>\n",
    "    Check if 'A' is in <code>my_str</code>\n",
    "    </p>"
   ]
  },
  {
   "cell_type": "code",
   "execution_count": null,
   "metadata": {},
   "outputs": [],
   "source": [
    "my_str = 'RACECAR'\n",
    "\n",
    "# Start your code here\n",
    "\n"
   ]
  },
  {
   "cell_type": "markdown",
   "metadata": {},
   "source": [
    "# Concatenation\n",
    "\n",
    "<p style='font-size:1.25rem;line-height:1.5'>\n",
    "    We have seen <b style=\"color:red\">concatenation</b> before. As a refresher, we can concatenate (join) multiple strings together using the <code>+</code> and <code>*</code> operators.\n",
    "    </p>"
   ]
  },
  {
   "cell_type": "markdown",
   "metadata": {},
   "source": [
    "<p style='font-size:1.25rem;line-height:1.5'>\n",
    "    Concatenate, slice, and print <code>'RACERACE CARCAR'</code> below:\n",
    "    </p>"
   ]
  },
  {
   "cell_type": "code",
   "execution_count": null,
   "metadata": {},
   "outputs": [],
   "source": [
    "my_str = 'RACECAR'\n",
    "\n",
    "# Start your code here\n",
    "\n"
   ]
  },
  {
   "cell_type": "markdown",
   "metadata": {},
   "source": [
    "# Length\n",
    "\n",
    "<p style='font-size:1.25rem;line-height:1.5'>\n",
    "    The function <code>len</code> returns the <b style=\"color:red\">length of a string</b>.\n",
    "    </p>"
   ]
  },
  {
   "cell_type": "markdown",
   "metadata": {},
   "source": [
    "<p style='font-size:1.25rem;line-height:1.5'>\n",
    "    Find the length of <code>my_str</code> below!\n",
    "    </p>"
   ]
  },
  {
   "cell_type": "code",
   "execution_count": null,
   "metadata": {
    "scrolled": true
   },
   "outputs": [],
   "source": [
    "my_str = 'RACECAR'\n",
    "\n",
    "# Start your code here\n",
    "\n"
   ]
  }
 ],
 "metadata": {
  "kernelspec": {
   "display_name": "Python 3",
   "language": "python",
   "name": "python3"
  },
  "language_info": {
   "codemirror_mode": {
    "name": "ipython",
    "version": 3
   },
   "file_extension": ".py",
   "mimetype": "text/x-python",
   "name": "python",
   "nbconvert_exporter": "python",
   "pygments_lexer": "ipython3",
   "version": "3.7.4"
  }
 },
 "nbformat": 4,
 "nbformat_minor": 4
}
