{
 "cells": [
  {
   "cell_type": "markdown",
   "metadata": {},
   "source": [
    "# Caesar Cipher\n",
    "\n",
    "```raw\n",
    "key: 1\n",
    "plaintext:  hello\n",
    "ciphertext: ifmmp\n",
    "```\n",
    "<p style='font-size:1.75rem;line-height:1.5'>Here’s how encrypting hello with a key of 1 makes ifmmp:</p>"
   ]
  },
  {
   "cell_type": "code",
   "execution_count": 1,
   "metadata": {
    "jupyter": {
     "source_hidden": true
    }
   },
   "outputs": [
    {
     "data": {
      "text/html": [
       "\n",
       "<style>\n",
       "table {float:left}\n",
       "</style>\n"
      ],
      "text/plain": [
       "<IPython.core.display.HTML object>"
      ]
     },
     "metadata": {},
     "output_type": "display_data"
    }
   ],
   "source": [
    "%%html\n",
    "\n",
    "<style>\n",
    "table {float:left}\n",
    "</style>"
   ]
  },
  {
   "cell_type": "markdown",
   "metadata": {},
   "source": [
    "| Plaintext | h | e | l | l | o |\n",
    "|---|---|---|---|---|---|\n",
    "| + key | 1 | 1 | 1 | 1 | 1 |\n",
    "| = ciphertext| i | f | m | m | p |"
   ]
  },
  {
   "cell_type": "markdown",
   "metadata": {},
   "source": [
    "```raw\n",
    "key: 13\n",
    "plaintext:  hello, world\n",
    "ciphertext: uryyb, jbeyq\n",
    "```\n",
    "<p style='font-size:1.75rem;line-height:1.5'>If the user doesn't input a number, reprompt them.</p>\n",
    "\n",
    "```raw\n",
    "key: oompaloompa\n",
    "key: \n",
    "\n",
    "key: 1 2 3\n",
    "key:\n",
    "```"
   ]
  },
  {
   "cell_type": "code",
   "execution_count": 32,
   "metadata": {},
   "outputs": [],
   "source": [
    "# Write your code here"
   ]
  }
 ],
 "metadata": {
  "kernelspec": {
   "display_name": "Python 3",
   "language": "python",
   "name": "python3"
  },
  "language_info": {
   "codemirror_mode": {
    "name": "ipython",
    "version": 3
   },
   "file_extension": ".py",
   "mimetype": "text/x-python",
   "name": "python",
   "nbconvert_exporter": "python",
   "pygments_lexer": "ipython3",
   "version": "3.7.4"
  }
 },
 "nbformat": 4,
 "nbformat_minor": 4
}
