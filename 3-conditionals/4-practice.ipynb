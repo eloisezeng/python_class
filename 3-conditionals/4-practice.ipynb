{
 "cells": [
  {
   "cell_type": "markdown",
   "metadata": {},
   "source": [
    "# Conditional Statements Practice!"
   ]
  },
  {
   "cell_type": "markdown",
   "metadata": {},
   "source": [
    "### Do questions 1-5 and solve at least one from 6-9"
   ]
  },
  {
   "cell_type": "markdown",
   "metadata": {},
   "source": [
    "# Comparing Numbers\n",
    "\n",
    "<ul style='font-size:1rem;line-height:1.5'>\n",
    "    <li><code>&lt;</code>: less than</li>\n",
    "    <li><code>&lt;=</code>: less than or equal to</li>\n",
    "    <li><code>&gt;</code>: greater than</li>\n",
    "    <li><code>&gt;=</code>: greater than or equal to</li>\n",
    "    <li><code>==</code>: is equal to</li>\n",
    "    <li><code>!=</code>: is not equal to</li>\n",
    "    <li><code>is</code>: is identical to</li>\n",
    "    <li><code>is not</code>: not identical to</li>\n",
    "</ul>"
   ]
  },
  {
   "cell_type": "markdown",
   "metadata": {},
   "source": [
    "<p style='font-size:1.2rem;line-height:1.5'>\n",
    "1. If the number is <br>\n",
    "- less than 0, print(\"Negative\") <br>\n",
    "- greater than 0, print(\"Positive\") <br>\n",
    "- equal to 0, print(\"Zero\") <br>\n",
    "</p>"
   ]
  },
  {
   "cell_type": "code",
   "execution_count": null,
   "metadata": {},
   "outputs": [],
   "source": [
    "from random import randint     # import the randint function\n",
    "number = randint(-10, 10)           # pick a random integer between -10 and 10\n",
    "print(\"Number: \" + str(number))      # print the number\n",
    "# Code your if-elif-else statement here\n",
    "\n",
    "\n"
   ]
  },
  {
   "cell_type": "markdown",
   "metadata": {},
   "source": [
    "You may click the three dots to reveal a solution"
   ]
  },
  {
   "cell_type": "code",
   "execution_count": 1,
   "metadata": {
    "collapsed": true,
    "jupyter": {
     "outputs_hidden": true,
     "source_hidden": true
    }
   },
   "outputs": [
    {
     "name": "stdout",
     "output_type": "stream",
     "text": [
      "Positive\n"
     ]
    }
   ],
   "source": [
    "number = 2\n",
    "if number < 0:\n",
    "    print(\"Negative\")\n",
    "elif number > 0:\n",
    "    print(\"Positive\")\n",
    "else:\n",
    "    print(\"Zero\")"
   ]
  },
  {
   "cell_type": "markdown",
   "metadata": {},
   "source": [
    "### 2. Take values of length and width of a rectangle from user and check if it is square or not."
   ]
  },
  {
   "cell_type": "code",
   "execution_count": null,
   "metadata": {},
   "outputs": [],
   "source": [
    "from random import randint     # import the randint function\n",
    "length = randint(0, 1)           # pick a random integer between 0 and 1\n",
    "print(\"Length: \" + str(length))      # print the number\n",
    "width = randint(0, 1)           # pick a random integer between 0 and 1\n",
    "print(\"Width: \" + str(width))      # print the number\n",
    "\n",
    "# Code your if-else statement here\n"
   ]
  },
  {
   "cell_type": "markdown",
   "metadata": {},
   "source": [
    "<p style='font-size:1.2rem;line-height:1.5'>\n",
    " 3. You are given two numbers. Print the larger number\n",
    "</p>"
   ]
  },
  {
   "cell_type": "code",
   "execution_count": null,
   "metadata": {},
   "outputs": [],
   "source": [
    "\"\"\"This is a docstring. Inside doc strings, we usually explain how to use the code.\"\"\"\n",
    "\"\"\"change num1 and num2. See if your code works when num2 > num1 and num1 > num2\"\"\"\n",
    "from random import randint     # import the randint function\n",
    "num1 = randint(0, 10)           # pick a random integer between 0 and 10\n",
    "print(\"Number 1: \" + str(num1))      # print the number\n",
    "num2 = randint(0, 10)           # pick a random integer between 0 and 10\n",
    "print(\"Number 2: \" + str(num2))      # print the number\n",
    "\n",
    "# Code your if-else statement here\n",
    "\n"
   ]
  },
  {
   "cell_type": "markdown",
   "metadata": {},
   "source": [
    "<p style='font-size:1.2rem;line-height:1.5'>\n",
    " 4. If the number is even, print(\"Even\") <br> If the number is odd, print(\"Odd\")\n",
    "</p>"
   ]
  },
  {
   "cell_type": "code",
   "execution_count": null,
   "metadata": {},
   "outputs": [],
   "source": [
    "from random import randint     # import the randint function\n",
    "number = randint(0, 10)           # pick a random integer between 0 and 10\n",
    "print(\"Number: \" + str(number))      # print the number\n",
    "# Code here\n",
    "\n"
   ]
  },
  {
   "cell_type": "markdown",
   "metadata": {},
   "source": [
    "<p style='font-size:1.2rem;line-height:1.5'>\n",
    " 5. If a person <br>\n",
    "- is more than 15 years old, subtract 20 dollars from the variable dollars <br>\n",
    "- is less than or equal to 15 years old, add 100 dollars to the variable dollars\n",
    "</p>"
   ]
  },
  {
   "cell_type": "code",
   "execution_count": 40,
   "metadata": {},
   "outputs": [],
   "source": [
    "age = 21 # Change this value\n",
    "dollars = 400 # Change this value\n",
    "\n"
   ]
  },
  {
   "cell_type": "markdown",
   "metadata": {},
   "source": [
    "<p style='font-size:1.2rem;line-height:1.5'>\n",
    "    6. Fhole Woods<br>\n",
    "Fhole Woods  is choosing the price for a snack. <br>\n",
    "If the price <br>\n",
    "- is odd or greater than 100, add one.  <br>\n",
    "- is even and in the inclusive range of 2 to 5, multiply the price by 3. <br>\n",
    "- is even and in the inclusive range of 6 to 20, square the price. <br>\n",
    "- is even and greater than 20, don't change the price <br>\n",
    "Print the final price\n",
    "    </p>"
   ]
  },
  {
   "cell_type": "code",
   "execution_count": 11,
   "metadata": {},
   "outputs": [],
   "source": [
    "price = 0 # change the number to test your code\n",
    "# Code here\n"
   ]
  },
  {
   "cell_type": "markdown",
   "metadata": {},
   "source": [
    "<p style='font-size:1.2rem;line-height:1.5'>\n",
    "7. Jen and Berry. <br>Jen and Berry are competing with Ben and Jerry's Ice Cream Store. They are holding a sales event so they attract more customers. <br>\n",
    "- If the ice cream costs more than 100 dollars and the cost is an odd number, they give a discount of 10% <br>\n",
    "- If the ice cream costs less than 100 dollars, but costs more than 40 dollars, the ice cream is 30 dollars off. <br>\n",
    "- Else, if the ice cream cost is not a multiple of three, multiply the cost by 3. <br>\n",
    "Jen and Berry charge a tax of 6.25 % after they apply the discounts. <br>\n",
    "Print the final cost of your ice cream\n",
    "    </p>\n"
   ]
  },
  {
   "cell_type": "code",
   "execution_count": 1,
   "metadata": {},
   "outputs": [],
   "source": [
    "price = 100 # change the number to test your code\n",
    "# Code here\n"
   ]
  },
  {
   "cell_type": "markdown",
   "metadata": {},
   "source": [
    "<p style='font-size:1.25rem;line-height:1.5'>\n",
    "    8. Tennis Game\n",
    "    You are playing doubles in a tennis game. The variable <code>you</code> is your tennis skill level, from 0 to 10. <code>tm</code> is your teammate's tennis skill level, from 0 to 10. Your chances of winning are <code>0</code> = no, <code>1</code> = maybe, and <code>2</code> = yes. Your chances are based on the following conditions:\n",
    "    </p>\n",
    "<ul style='font-size:1.25rem;line-height:1.5'>\n",
    "    <li>If your skill level is 3 or more above your teammate's, then your chances are <code>2</code>.</li>\n",
    "    <li>If your skill level is within 2 of your teammate's, the your chances are <code>1</code>.</li>\n",
    "    <li>If your skill level is 3 or less below your teammate's, then your chances are <code>0</code>.</li>\n",
    "</ul>\n",
    "<p style='font-size:1.25rem;line-height:1.5'>\n",
    "    Based on you and your teammate's skill levels, print your chances of winning.\n",
    "    </p>\n",
    "    \n",
    "<p style='font-size:1.25rem;line-height:1.5'>\n",
    "    Check your answer by running the code several times and manually checking the result.\n",
    "    </p>"
   ]
  },
  {
   "cell_type": "code",
   "execution_count": null,
   "metadata": {},
   "outputs": [],
   "source": [
    "# This code generates and prints the skill levels.\n",
    "# (Don't worry about understanding it.)\n",
    "from random import randint     # import the randint function\n",
    "you = randint(0, 10)           # pick a random integer between 0 and 10\n",
    "tm = randint(0, 10)            # pick a random integer between 0 and 10\n",
    "print(\"You: \" + str(you))      # print your skill level\n",
    "print(\"Teammate: \" + str(tm))  # print teammate's skill level\n",
    "\n",
    "# Start your code here\n",
    "\n"
   ]
  },
  {
   "cell_type": "markdown",
   "metadata": {},
   "source": [
    "<p style='font-size:1.25rem;line-height:1.5'>\n",
    "    9. Lone Sum\n",
    "    Given three random integers <code>a</code>, <code>b</code>, and <code>c</code>, print their sum. However, if two numbers have the same value, neither value counts towards the sum. For example:\n",
    "    </p>\n",
    "<p style='font-size:1.25rem;line-height:1.5'>\n",
    "Check your answer by running the code several times and manually checking the result.\n",
    "    </p>"
   ]
  },
  {
   "cell_type": "code",
   "execution_count": null,
   "metadata": {},
   "outputs": [],
   "source": [
    "# This code generates and prints the random numbers.\n",
    "# (Don't worry about understanding it for now.)\n",
    "from random import randint  # import the randint function\n",
    "a = randint(0, 5)           # pick a random integer between 0 and 5\n",
    "b = randint(0, 5)           # pick a random integer between 0 and 5\n",
    "c = randint(0, 5)           # pick a random integer between 0 and 5\n",
    "print('a: ' + str(a))       # print a\n",
    "print('b: ' + str(b))       # print b\n",
    "print('c: ' + str(c))       # print c\n",
    "\n",
    "# Start your code here\n",
    "\n"
   ]
  }
 ],
 "metadata": {
  "kernelspec": {
   "display_name": "Python 3",
   "language": "python",
   "name": "python3"
  },
  "language_info": {
   "codemirror_mode": {
    "name": "ipython",
    "version": 3
   },
   "file_extension": ".py",
   "mimetype": "text/x-python",
   "name": "python",
   "nbconvert_exporter": "python",
   "pygments_lexer": "ipython3",
   "version": "3.7.4"
  }
 },
 "nbformat": 4,
 "nbformat_minor": 4
}
