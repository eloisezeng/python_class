{
 "cells": [
  {
   "cell_type": "markdown",
   "metadata": {},
   "source": [
    "# Conditional Statements Practice!"
   ]
  },
  {
   "cell_type": "markdown",
   "metadata": {},
   "source": [
    "# Comparing Numbers\n",
    "\n",
    "<ul style='font-size:1rem;line-height:1.5'>\n",
    "    <li><code>&lt;</code>: less than</li>\n",
    "    <li><code>&lt;=</code>: less than or equal to</li>\n",
    "    <li><code>&gt;</code>: greater than</li>\n",
    "    <li><code>&gt;=</code>: greater than or equal to</li>\n",
    "    <li><code>==</code>: is equal to</li>\n",
    "    <li><code>!=</code>: is not equal to</li>\n",
    "    <li><code>is</code>: is identical to</li>\n",
    "    <li><code>is not</code>: not identical to</li>\n",
    "</ul>"
   ]
  },
  {
   "cell_type": "markdown",
   "metadata": {},
   "source": [
    "<p style='font-size:1.2rem;line-height:1.5'>\n",
    "1. If the number is <br>\n",
    "- less than 0, print(\"Negative\") <br>\n",
    "- greater than 0, print(\"Positive\") <br>\n",
    "- equal to 0, print(\"Zero\") <br>\n",
    "</p>"
   ]
  },
  {
   "cell_type": "code",
   "execution_count": 37,
   "metadata": {},
   "outputs": [],
   "source": [
    "number = -3\n",
    "# Code your if-elif-else statement here\n",
    "\n",
    "\n"
   ]
  },
  {
   "cell_type": "markdown",
   "metadata": {},
   "source": [
    "You may click the three dots to reveal a solution"
   ]
  },
  {
   "cell_type": "code",
   "execution_count": null,
   "metadata": {
    "jupyter": {
     "source_hidden": true
    }
   },
   "outputs": [],
   "source": [
    "if number < 0:\n",
    "    print(\"Negative\")\n",
    "elif number > 0:\n",
    "    print(\"Positive\")\n",
    "else:\n",
    "    print(\"Zero\")"
   ]
  },
  {
   "cell_type": "markdown",
   "metadata": {},
   "source": [
    "### 2. Take values of length and width of a rectangle from user and check if it is square or not."
   ]
  },
  {
   "cell_type": "code",
   "execution_count": null,
   "metadata": {},
   "outputs": [],
   "source": [
    "length = input(\"Length: \")\n",
    "width = input(\"Width: \")\n",
    "# Code your if-else statement here\n",
    "\n"
   ]
  },
  {
   "cell_type": "markdown",
   "metadata": {},
   "source": [
    "<p style='font-size:1.2rem;line-height:1.5'>\n",
    " 3. You are given two numbers. Print the larger number\n",
    "</p>"
   ]
  },
  {
   "cell_type": "code",
   "execution_count": 34,
   "metadata": {},
   "outputs": [],
   "source": [
    "num1 = 2 # change num1 and num2. See if your code works when num2 > num1 and num1 > num2\n",
    "num2 = 5\n",
    "\n"
   ]
  },
  {
   "cell_type": "markdown",
   "metadata": {},
   "source": [
    "<p style='font-size:1.2rem;line-height:1.5'>\n",
    " 4. If the number is even, print(\"Even\") <br> If the number is odd, print(\"Odd\")\n",
    "</p>"
   ]
  },
  {
   "cell_type": "code",
   "execution_count": null,
   "metadata": {},
   "outputs": [],
   "source": [
    "number = 7 # change number to test your code\n",
    "\n"
   ]
  },
  {
   "cell_type": "markdown",
   "metadata": {},
   "source": [
    "<p style='font-size:1.2rem;line-height:1.5'>\n",
    " 5. If the number <br>\n",
    "- is in the double digits (10-99), print(\"double digits\") <br>\n",
    "- If the number is single digit (0-9), print(\"single digit\") <br>\n",
    "- Else, print(\"Neither\")\n",
    "</p>"
   ]
  },
  {
   "cell_type": "code",
   "execution_count": 30,
   "metadata": {},
   "outputs": [],
   "source": [
    "number = 8\n"
   ]
  },
  {
   "cell_type": "markdown",
   "metadata": {},
   "source": [
    "<p style='font-size:1.2rem;line-height:1.5'>\n",
    " 6. If a person <br>\n",
    "- is more than 15 years old, subtract 20 dollars from the variable dollars <br>\n",
    "- is less than or equal to 15 years old, add 100 dollars to the variable dollars\n",
    "</p>"
   ]
  },
  {
   "cell_type": "code",
   "execution_count": 40,
   "metadata": {},
   "outputs": [],
   "source": [
    "age = 21 # Change this value\n",
    "dollars = 400\n",
    "\n"
   ]
  },
  {
   "cell_type": "markdown",
   "metadata": {},
   "source": [
    "# Comparing Strings\n",
    "\n",
    "<p style='font-size:1rem;line-height:1.5'>\n",
    "    We can <b style=\"color:blue\">compare strings</b> using the <code>==</code>, <code>!=</code>, <code>is</code>, and <code>is not</code> operators.\n",
    "    <br><b style=\"color:red\">For strings</b>, <code>==</code> and <code>is</code> generally do the same thing.\n",
    "    </p>"
   ]
  },
  {
   "cell_type": "markdown",
   "metadata": {},
   "source": [
    "<p style='font-size:1rem;line-height:1.5'>\n",
    "    Check if \"hi\" and 'hi' are <strong>equal</strong> using <code>==</code>.\n",
    "    </p>"
   ]
  },
  {
   "cell_type": "code",
   "execution_count": null,
   "metadata": {},
   "outputs": [],
   "source": [
    "# Code here\n",
    "\n",
    "\n"
   ]
  },
  {
   "cell_type": "markdown",
   "metadata": {},
   "source": [
    "<p style='font-size:1rem;line-height:1.5'>\n",
    "    Check if two strings are <strong>not identical</strong> using <code>is not</code>.\n",
    "    </p>"
   ]
  },
  {
   "cell_type": "code",
   "execution_count": 6,
   "metadata": {},
   "outputs": [],
   "source": [
    "# Code here\n",
    "\n",
    "\n"
   ]
  },
  {
   "cell_type": "markdown",
   "metadata": {},
   "source": [
    "# Logical Operators\n",
    "<p style='font-size:1rem;line-height:1.5'>\n",
    "    We can also use the <b style=\"color:blue\">logical operators</b> <code>not</code>, <code>and</code>, and <code>or</code> on booleans to make more complicated logical statements:\n",
    "    </p>"
   ]
  },
  {
   "cell_type": "markdown",
   "metadata": {},
   "source": [
    "<p style='font-size:1.2rem;line-height:1.5'>\n",
    "7. Fhole Woods  is choosing the price for a snack. <br>\n",
    "If the price <br>\n",
    "- is odd or greater than 100, add one.  <br>\n",
    "- is even and in the inclusive range of 2 to 5, multiply the price by 3. <br>\n",
    "- is even and in the inclusive range of 6 to 20, square the price. <br>\n",
    "- is even and greater than 20, don't change the price <br>\n",
    "Print the final price\n",
    "    </p>"
   ]
  },
  {
   "cell_type": "code",
   "execution_count": 26,
   "metadata": {},
   "outputs": [],
   "source": [
    "price = 2 # change the number to test your code\n",
    "\n",
    "\n",
    "\n",
    "\n"
   ]
  },
  {
   "cell_type": "markdown",
   "metadata": {},
   "source": [
    "<p style='font-size:1.2rem;line-height:1.5'>\n",
    "8. Jen and Berry are competing with Ben and Jerry's Ice Cream Store. They are holding a sales event so they attract more customers. <br>\n",
    "- If the ice cream costs more than 100 dollars and the cost is an odd number, they give a discount of 10% <br>\n",
    "- If the ice cream costs less than 100 dollars, but costs more than 40 dollars, the ice cream is 30 dollars off. <br>\n",
    "- Else, if the ice cream cost is not a multiple of three, multiply the cost by 3. <br>\n",
    "Jen and Berry charge a tax of 6.25 % after they apply the discounts. <br>\n",
    "Print the final cost of your ice cream\n",
    "    </p>\n"
   ]
  },
  {
   "cell_type": "code",
   "execution_count": 42,
   "metadata": {},
   "outputs": [],
   "source": [
    "ice_cream_cost = 1000 # change this value\n",
    "\n",
    "\n",
    "\n",
    "\n",
    "\n"
   ]
  }
 ],
 "metadata": {
  "kernelspec": {
   "display_name": "Python 3",
   "language": "python",
   "name": "python3"
  },
  "language_info": {
   "codemirror_mode": {
    "name": "ipython",
    "version": 3
   },
   "file_extension": ".py",
   "mimetype": "text/x-python",
   "name": "python",
   "nbconvert_exporter": "python",
   "pygments_lexer": "ipython3",
   "version": "3.7.4"
  }
 },
 "nbformat": 4,
 "nbformat_minor": 4
}
