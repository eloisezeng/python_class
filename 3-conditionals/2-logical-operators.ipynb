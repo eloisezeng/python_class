{
 "cells": [
  {
   "cell_type": "markdown",
   "metadata": {},
   "source": [
    "# Logical Operators\n",
    "<p style='font-size:1.25rem;line-height:1.5'>\n",
    "    We can also use the <b style=\"color:blue\">logical operators</b> <code>not</code>, <code>and</code>, and <code>or</code> on booleans to make more complicated logical statements:\n",
    "    </p>\n",
    "<ul style='font-size:1.25rem;line-height:1.5'>\n",
    "    <li><code>not</code>: <code>True</code> if the boolean is <code>False</code>, <code>False</code> otherwise.</li>\n",
    "    <li><code>and</code>: <code>True</code> if <strong>both</strong> booleans are <code>True</code>, <code>False</code> otherwise.</li>\n",
    "    <li><code>or</code>: <code>True</code> if <strong>either</strong> boolean is <code>True</code>, <code>False</code> otherwise.</li>\n",
    "</ul>"
   ]
  },
  {
   "cell_type": "markdown",
   "metadata": {},
   "source": [
    "<p style='font-size:1.25rem;line-height:1.5'>\n",
    "    Run <code>not False</code> below. Is the result what you expected?\n",
    "    </p>"
   ]
  },
  {
   "cell_type": "code",
   "execution_count": null,
   "metadata": {},
   "outputs": [],
   "source": [
    "# Start your code here\n",
    "\n"
   ]
  },
  {
   "cell_type": "markdown",
   "metadata": {},
   "source": [
    "<p style='font-size:1.25rem;line-height:1.5'>\n",
    "    Run <code>True and False</code> below. Is the result what you expected?\n",
    "    </p>"
   ]
  },
  {
   "cell_type": "code",
   "execution_count": null,
   "metadata": {},
   "outputs": [],
   "source": [
    "# Start your code here\n",
    "\n"
   ]
  },
  {
   "cell_type": "markdown",
   "metadata": {},
   "source": [
    "<p style='font-size:1.25rem;line-height:1.5'>\n",
    "    Run <code>True or True</code> below. Is the result what you expected?\n",
    "    </p>"
   ]
  },
  {
   "cell_type": "code",
   "execution_count": null,
   "metadata": {},
   "outputs": [],
   "source": [
    "# Start your code here\n",
    "\n"
   ]
  },
  {
   "cell_type": "markdown",
   "metadata": {},
   "source": [
    "# Combining Comparisons\n",
    "<p style='font-size:1.25rem;line-height:1.5'>\n",
    "    As we have seen in previous exercises, comparison statements evaluate to booleans. This means that we can <b style=\"color:blue\">combine multiple comparisons</b> using logical operators!\n",
    "    </p>"
   ]
  },
  {
   "cell_type": "markdown",
   "metadata": {},
   "source": [
    "<p style='font-size:1.25rem;line-height:1.5'>\n",
    "    Run <code>1 > 3 or 4 == 4.0</code> below. Is the result what you expected?\n",
    "    </p>"
   ]
  },
  {
   "cell_type": "code",
   "execution_count": null,
   "metadata": {},
   "outputs": [],
   "source": [
    "# Start your code here\n"
   ]
  },
  {
   "cell_type": "markdown",
   "metadata": {},
   "source": [
    "<p style='font-size:1.25rem;line-height:1.5'>\n",
    "    Run <code>1 == 1 and 1 > -1</code> below. Is the result what you expected?\n",
    "    </p>"
   ]
  },
  {
   "cell_type": "code",
   "execution_count": null,
   "metadata": {},
   "outputs": [],
   "source": [
    "# Start your code here\n"
   ]
  },
  {
   "cell_type": "markdown",
   "metadata": {},
   "source": [
    "<p style='font-size:1.25rem;line-height:1.5'>\n",
    "    Try making your own statement using comparison and logical operators. Do you expect your statement to evaluate to <code>True</code> or <code>False</code>? Why?\n",
    "    </p>"
   ]
  },
  {
   "cell_type": "markdown",
   "metadata": {},
   "source": [
    "# <b style=\"color:red\">--- STOP HERE --- </b>\n",
    "\n",
    "---"
   ]
  },
  {
   "cell_type": "markdown",
   "metadata": {},
   "source": [
    "## Bonus Material (do this if you finished 3-if-elif-else.ipynb): \n",
    " ---------------------------------------------------------------------------\n",
    "<p style='font-size:1.25rem;line-height:1.5'>\n",
    "    Like mathematical operators, logical operators also have an <b style=\"color:blue\">order of operations</b>: \n",
    "    <ol style='font-size:1.25rem;line-height:2'>\n",
    "        <li><code>()</code></li>\n",
    "        <li><code>not</code></li>\n",
    "        <li><code>and</code></li>\n",
    "        <li> <code>or</code></li>\n",
    "    </ol>\n",
    "    </p>"
   ]
  },
  {
   "cell_type": "code",
   "execution_count": null,
   "metadata": {},
   "outputs": [],
   "source": [
    "# Start your code here\n",
    "\n"
   ]
  },
  {
   "cell_type": "markdown",
   "metadata": {},
   "source": [
    "<p style='font-size:1.25rem;line-height:1.5'>\n",
    "    Based on this order, run <code>not False or True and True</code> below. \n",
    "    <br> Is the result what you expected?\n",
    "    </p>"
   ]
  },
  {
   "cell_type": "code",
   "execution_count": null,
   "metadata": {},
   "outputs": [],
   "source": [
    "# Start your code here\n",
    "\n"
   ]
  },
  {
   "cell_type": "markdown",
   "metadata": {},
   "source": [
    "<p style='font-size:1.25rem;line-height:1.5'>\n",
    "    We can also use <b style=\"color:blue\">parenthesis</b> <code>( )</code>. Whatever is inside the parenthesis is evaluated first.\n",
    "    </p>"
   ]
  },
  {
   "cell_type": "code",
   "execution_count": null,
   "metadata": {},
   "outputs": [],
   "source": [
    "# Start your code here\n",
    "\n"
   ]
  },
  {
   "cell_type": "markdown",
   "metadata": {},
   "source": [
    "<p style='font-size:1.25rem;line-height:1.5'>\n",
    "    Based on this order, run <code>not (False or True) and True</code> below. \n",
    "    <br> Is the result what you expected?\n",
    "    </p>"
   ]
  },
  {
   "cell_type": "code",
   "execution_count": null,
   "metadata": {},
   "outputs": [],
   "source": [
    "# Start your code here\n",
    "\n"
   ]
  }
 ],
 "metadata": {
  "kernelspec": {
   "display_name": "Python 3",
   "language": "python",
   "name": "python3"
  },
  "language_info": {
   "codemirror_mode": {
    "name": "ipython",
    "version": 3
   },
   "file_extension": ".py",
   "mimetype": "text/x-python",
   "name": "python",
   "nbconvert_exporter": "python",
   "pygments_lexer": "ipython3",
   "version": "3.7.4"
  }
 },
 "nbformat": 4,
 "nbformat_minor": 4
}
