{
 "cells": [
  {
   "cell_type": "markdown",
   "metadata": {},
   "source": [
    "# Conditional Statements\n",
    "<p style='font-size:1.25rem;line-height:1.5'>\n",
    "    We can use <code>if</code>, <code>else</code>, and <code>elif</code> in order to tell the program <b style=\"color:blue\">whether to run a particular indented block</b> of code based on a boolean.\n",
    "    </p>\n",
    "<ul style='font-size:1.25rem;line-height:1.5'>\n",
    "    <li><code>if</code>: Run code if boolean is <code>True</code>.</li>\n",
    "    <li><code>elif</code>: Run code if previous conditions are <code>False</code> and boolean is <code>True</code>.</li>\n",
    "    <li><code>else</code>: Run code if previous conditions are <code>False</code>.</li>\n",
    "</ul>"
   ]
  },
  {
   "cell_type": "code",
   "execution_count": null,
   "metadata": {},
   "outputs": [],
   "source": []
  },
  {
   "cell_type": "markdown",
   "metadata": {},
   "source": [
    "<p style='font-size:1.25rem;line-height:1.5'>\n",
    "    Let's start with an example of a simple if statement. What do you expect to be printed for different values of <code>n</code>? Why? Try choosing different numbers and see what happens.\n",
    "    </p>"
   ]
  },
  {
   "cell_type": "code",
   "execution_count": null,
   "metadata": {},
   "outputs": [],
   "source": [
    "# Choose n\n",
    "n = int(input(\"Input n: \"))\n",
    "\n",
    "if n > 10:\n",
    "    print('n is greater than 10')"
   ]
  },
  {
   "cell_type": "markdown",
   "metadata": {},
   "source": [
    "<p style='font-size:1.25rem;line-height:1.5'>\n",
    "    If <code>n</code> is less than or equal to 10, nothing is printed since the condition is false (remember, <code>&gt;</code> means <em>strictly</em> greater than).\n",
    "    </p>\n",
    "<p style='font-size:1.25rem;line-height:1.5'> \n",
    "    We can improve our code by adding an <code>elif</code> statement.\n",
    "    </p>"
   ]
  },
  {
   "cell_type": "markdown",
   "metadata": {},
   "source": [
    "<p style='font-size:1.25rem;line-height:1.5'>\n",
    "    Try running the code again for several numbers and think about what is happening.\n",
    "    <br>Remember, an <code>elif</code> statement only runs the code block if all previous conditions were <code>False</code>.\n",
    "    </p>"
   ]
  },
  {
   "cell_type": "code",
   "execution_count": null,
   "metadata": {},
   "outputs": [],
   "source": [
    "# Choose n\n",
    "n = int(input(\"Input n: \"))\n",
    "\n",
    "if n > 10:\n",
    "    print('n is greater than 10')\n",
    "elif n < 10:\n",
    "    print('n is less than 10')"
   ]
  },
  {
   "cell_type": "markdown",
   "metadata": {},
   "source": [
    "<p style='font-size:1.25rem;line-height:1.5'>\n",
    "    Our code is better, but we still get no feedback if <code>n</code> is exactly 10. An <code>else</code> statement will run if all previous conditions were <code>False</code>.\n",
    "    </p>"
   ]
  },
  {
   "cell_type": "markdown",
   "metadata": {},
   "source": [
    "<p style='font-size:1.25rem;line-height:1.5'>\n",
    "    Try running the following code for different values of <code>n</code>, and make sure to try 10.\n",
    "    </p>"
   ]
  },
  {
   "cell_type": "code",
   "execution_count": null,
   "metadata": {},
   "outputs": [],
   "source": [
    "# Choose n\n",
    "n = int(input(\"Input n: \"))\n",
    "\n",
    "if n > 10:\n",
    "    print('n is greater than 10')\n",
    "elif n < 10:\n",
    "    print('n is less than 10')\n",
    "else:\n",
    "    print('n is 10')"
   ]
  },
  {
   "cell_type": "markdown",
   "metadata": {},
   "source": [
    "<p style='font-size:1.25rem;line-height:1.5'>\n",
    "    We can also nest if statements. Examine the following code and think about what will happen for different values of <code>n</code>. (Remember, an if statement is just a block of code that can be within another if statement!)\n",
    "    </p>"
   ]
  },
  {
   "cell_type": "code",
   "execution_count": null,
   "metadata": {},
   "outputs": [],
   "source": [
    "# Choose n\n",
    "n = int(input(\"Input n: \"))\n",
    "\n",
    "if n > 0:\n",
    "    if n > 10:\n",
    "        print('n is greater than 10')\n",
    "    elif n < 10:\n",
    "        print('n is less than 10')\n",
    "    else:\n",
    "        print('n is 10')\n",
    "else:\n",
    "    print('n is not positive!')"
   ]
  },
  {
   "cell_type": "markdown",
   "metadata": {},
   "source": [
    "# <b style=\"color:teal\">--- Go to practice.ipynb --- </b>\n",
    "\n",
    "---"
   ]
  },
  {
   "cell_type": "code",
   "execution_count": null,
   "metadata": {},
   "outputs": [],
   "source": []
  }
 ],
 "metadata": {
  "kernelspec": {
   "display_name": "Python 3",
   "language": "python",
   "name": "python3"
  },
  "language_info": {
   "codemirror_mode": {
    "name": "ipython",
    "version": 3
   },
   "file_extension": ".py",
   "mimetype": "text/x-python",
   "name": "python",
   "nbconvert_exporter": "python",
   "pygments_lexer": "ipython3",
   "version": "3.7.4"
  }
 },
 "nbformat": 4,
 "nbformat_minor": 4
}
