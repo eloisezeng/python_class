{
 "cells": [
  {
   "cell_type": "markdown",
   "metadata": {},
   "source": [
    "# Conditional Statements\n",
    "\n",
    "<p style='font-size:1.25rem;line-height:1.5'>\n",
    "    <b style=\"color:red\">Conditional statements</b> tell the program <b style=\"color:blue\">when to run a particular block of code</b>. Often, we only want something to happen when a certain <b style=\"color:blue\">condition is met</b>.\n",
    "    </p>\n",
    "    \n",
    "<p style='font-size:1.25rem;line-height:1.5'>  \n",
    "    For example, we might want a robot to stop if it is a particular distance from a wall.\n",
    "    </p>\n",
    "    \n",
    "<p style='font-size:1.25rem;line-height:1.5'>\n",
    "    In Python, we can use <b style=\"color:red\">comparison operators</b> along with the keywords <code>if</code>, <code>else</code>, and <code>elif</code> to write conditional statements.\n",
    "    </p>"
   ]
  },
  {
   "cell_type": "markdown",
   "metadata": {},
   "source": [
    "# Comparing Numbers\n",
    "\n",
    "<p style='font-size:1.25rem;line-height:1.5'>\n",
    "    We often need to know whether one number is <b style=\"color:blue\">larger than</b>, <b style=\"color:red\">less than</b>, or <b>equal to</b> another. The following operators allow us to do this:\n",
    "    </p>\n",
    "<ul style='font-size:1.25rem;line-height:1.5'>\n",
    "    <li><code>&lt;</code>: less than</li>\n",
    "    <li><code>&lt;=</code>: less than or equal to</li>\n",
    "    <li><code>&gt;</code>: greater than</li>\n",
    "    <li><code>&gt;=</code>: greater than or equal to</li>\n",
    "    <li><code>==</code>: is equal to</li>\n",
    "    <li><code>!=</code>: is not equal to</li>\n",
    "    <li><code>is</code>: is identical to</li>\n",
    "    <li><code>is not</code>: not identical to</li>\n",
    "</ul>"
   ]
  },
  {
   "cell_type": "markdown",
   "metadata": {},
   "source": [
    "<p style='font-size:1.25rem;line-height:1.5'>\n",
    "    Check if two numbers (either int or float) are <b>equal</b>.\n",
    "    <br>Remember to <b style=\"color:red\">print</b> the output!!!!\n",
    "    </p>"
   ]
  },
  {
   "cell_type": "code",
   "execution_count": null,
   "metadata": {},
   "outputs": [],
   "source": [
    "# Start your code here\n",
    "\n"
   ]
  },
  {
   "cell_type": "markdown",
   "metadata": {},
   "source": [
    "<p style='font-size:1.25rem;line-height:1.5'>\n",
    "    Check if one number is <strong>less than</strong> another.\n",
    "    </p>"
   ]
  },
  {
   "cell_type": "code",
   "execution_count": null,
   "metadata": {},
   "outputs": [],
   "source": [
    "# Start your code here\n",
    "\n"
   ]
  },
  {
   "cell_type": "markdown",
   "metadata": {},
   "source": [
    "<p style='font-size:1.25rem;line-height:1.5'>\n",
    "    Check if one number is <strong>greater than or equal to</strong> another.\n",
    "    </p>"
   ]
  },
  {
   "cell_type": "code",
   "execution_count": null,
   "metadata": {},
   "outputs": [],
   "source": [
    "# Start your code here\n",
    "\n"
   ]
  },
  {
   "cell_type": "markdown",
   "metadata": {},
   "source": [
    "<p style='font-size:1.25rem;line-height:1.5'>\n",
    "    Compare <code>2</code> and <code>2</code> using <code>&gt;</code>. Is the result <b>what you expected</b>?\n",
    "    </p>"
   ]
  },
  {
   "cell_type": "code",
   "execution_count": null,
   "metadata": {},
   "outputs": [],
   "source": [
    "# Start your code here\n",
    "\n"
   ]
  },
  {
   "cell_type": "markdown",
   "metadata": {},
   "source": [
    "<p style='font-size:1.25rem;line-height:1.5'>\n",
    "    Compare <code>2</code> and <code>2</code> using <code>&gt;=</code>. Is the result <b>what you expected</b>?\n",
    "    </p>"
   ]
  },
  {
   "cell_type": "code",
   "execution_count": null,
   "metadata": {},
   "outputs": [],
   "source": [
    "# Start your code here\n",
    "\n"
   ]
  },
  {
   "cell_type": "markdown",
   "metadata": {},
   "source": [
    "<p style='font-size:1.25rem;line-height:1.5'>\n",
    "    Compare <code>2</code> and <code>2.0</code> using <code>==</code>. \n",
    "    <br><b style=\"color:red\">Before running it</b>, what do you expect the result to be? \n",
    "    <br> What does the result tell us about how <code>==</code> <b style=\"color:blue\">compares integers and floats?</b>\n",
    "    </p>"
   ]
  },
  {
   "cell_type": "code",
   "execution_count": null,
   "metadata": {},
   "outputs": [],
   "source": [
    "# Start your code here\n",
    "\n"
   ]
  },
  {
   "cell_type": "markdown",
   "metadata": {},
   "source": [
    "<p style='font-size:1.25rem;line-height:1.5'>\n",
    "    Compare <code>2</code> and <code>2.0</code> using <code>is</code>. \n",
    "    <br> <b style=\"color:red\">Before running it</b>, do you expect the result to be? \n",
    "    <br> What does the result tell us about how <code>is</code> <b style=\"color:blue\">compares integers and floats?</b>\n",
    "    </p>"
   ]
  },
  {
   "cell_type": "code",
   "execution_count": null,
   "metadata": {},
   "outputs": [],
   "source": [
    "# Start your code here\n",
    "\n"
   ]
  },
  {
   "cell_type": "markdown",
   "metadata": {},
   "source": [
    "# Comparing Booleans\n",
    "<p style='font-size:1.25rem;line-height:1.5'>\n",
    "    <b style=\"color:blue\">Booleans can be compared</b> using the <code>==</code>, <code>!=</code>, <code>is</code>, and <code>is not</code> operators.\n",
    "    </p>"
   ]
  },
  {
   "cell_type": "markdown",
   "metadata": {},
   "source": [
    "<p style='font-size:1.25rem;line-height:1.5'>\n",
    "    Check if <code>True</code> is <strong>equal to</strong> <code>False</code> using <code>==</code>.\n",
    "    </p>"
   ]
  },
  {
   "cell_type": "code",
   "execution_count": null,
   "metadata": {},
   "outputs": [],
   "source": [
    "# Start your code here\n",
    "\n"
   ]
  },
  {
   "cell_type": "markdown",
   "metadata": {},
   "source": [
    "<p style='font-size:1.25rem;line-height:1.5'>\n",
    "    Check if <code>False</code> is <strong>equal to</strong> <code>0</code> using <code>==</code>. \n",
    "    <br> <b style=\"color:red\">Before running it</b>, do you expect the result to be? \n",
    "    <br> What does the result tell us about how <code>==</code> <b style=\"color:blue\">compares booleans and zero?</b>\n",
    "    </p>"
   ]
  },
  {
   "cell_type": "code",
   "execution_count": null,
   "metadata": {},
   "outputs": [],
   "source": [
    "# Start your code here\n",
    "\n"
   ]
  },
  {
   "cell_type": "markdown",
   "metadata": {},
   "source": [
    "<p style='font-size:1.25rem;line-height:1.5'>\n",
    "    Check if <code>False</code> is <strong>identical to</strong> <code>0</code> using <code>is</code>. \n",
    "    <br> <b style=\"color:red\">Before running it</b>, do you expect the result to be? \n",
    "    <br>What does the result tell us about how <code>is</code> <b style=\"color:blue\">compares booleans and zero?</b>\n",
    "    </p>"
   ]
  },
  {
   "cell_type": "code",
   "execution_count": null,
   "metadata": {},
   "outputs": [],
   "source": [
    "# Start your code here\n",
    "\n"
   ]
  },
  {
   "cell_type": "markdown",
   "metadata": {},
   "source": [
    "# Comparing Strings\n",
    "\n",
    "<p style='font-size:1.25rem;line-height:1.5'>\n",
    "    We can <b style=\"color:blue\">compare strings</b> using the <code>==</code>, <code>!=</code>, <code>is</code>, and <code>is not</code> operators.\n",
    "    <br><b style=\"color:red\">For strings</b>, <code>==</code> and <code>is</code> generally do the same thing.\n",
    "    </p>"
   ]
  },
  {
   "cell_type": "markdown",
   "metadata": {},
   "source": [
    "<p style='font-size:1.25rem;line-height:1.5'>\n",
    "    Check if two strings are <strong>equal</strong> using <code>==</code>.\n",
    "    </p>"
   ]
  },
  {
   "cell_type": "code",
   "execution_count": null,
   "metadata": {},
   "outputs": [],
   "source": [
    "# Start your code here\n",
    "\n"
   ]
  },
  {
   "cell_type": "markdown",
   "metadata": {},
   "source": [
    "<p style='font-size:1.25rem;line-height:1.5'>\n",
    "    Check if two strings are <strong>not identical</strong> using <code>is not</code>.\n",
    "    </p>"
   ]
  },
  {
   "cell_type": "code",
   "execution_count": null,
   "metadata": {},
   "outputs": [],
   "source": [
    "# Start your code here\n",
    "\n"
   ]
  }
 ],
 "metadata": {
  "kernelspec": {
   "display_name": "Python 3",
   "language": "python",
   "name": "python3"
  },
  "language_info": {
   "codemirror_mode": {
    "name": "ipython",
    "version": 3
   },
   "file_extension": ".py",
   "mimetype": "text/x-python",
   "name": "python",
   "nbconvert_exporter": "python",
   "pygments_lexer": "ipython3",
   "version": "3.7.4"
  }
 },
 "nbformat": 4,
 "nbformat_minor": 4
}
