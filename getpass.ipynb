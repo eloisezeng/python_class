{
 "cells": [
  {
   "cell_type": "code",
   "execution_count": 1,
   "metadata": {},
   "outputs": [
    {
     "name": "stdout",
     "output_type": "stream",
     "text": [
      "Let's play rock paper scissors.\n"
     ]
    },
    {
     "name": "stdin",
     "output_type": "stream",
     "text": [
      "Player 1, press r, p, or s. r stands for rock, p stands for paper, etc:  ·\n",
      "Player 2, press r, p, or s. r stands for rock, p stands for paper, etc:  ·\n"
     ]
    }
   ],
   "source": [
    "import getpass\n",
    "print(\"Let's play rock paper scissors.\")\n",
    "guess1 = getpass.getpass(\"Player 1, press r, p, or s. r stands for rock, p stands for paper, etc: \")\n",
    "guess2 = getpass.getpass(\"Player 2, press r, p, or s. r stands for rock, p stands for paper, etc: \")\n",
    "\n",
    "if guess1 == \"r\":\n",
    "    if guess2 == \"r\":\n",
    "        print(\"We both chose rock. It is a tie!\")\n",
    "    elif guess2 == \"p\":\n",
    "        print(\"Player 2 chose paper. Player 2 wins!\")\n",
    "    elif guess2 == \"s\":\n",
    "        print(\"Player 2 chose scissors. Player 1 wins!\")\n",
    "\n",
    "# Do the rest yourself!"
   ]
  },
  {
   "cell_type": "code",
   "execution_count": null,
   "metadata": {},
   "outputs": [],
   "source": []
  }
 ],
 "metadata": {
  "kernelspec": {
   "display_name": "Python 3",
   "language": "python",
   "name": "python3"
  },
  "language_info": {
   "codemirror_mode": {
    "name": "ipython",
    "version": 3
   },
   "file_extension": ".py",
   "mimetype": "text/x-python",
   "name": "python",
   "nbconvert_exporter": "python",
   "pygments_lexer": "ipython3",
   "version": "3.7.4"
  }
 },
 "nbformat": 4,
 "nbformat_minor": 4
}
