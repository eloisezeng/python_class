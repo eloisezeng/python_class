{
 "cells": [
  {
   "cell_type": "code",
   "execution_count": 1,
   "metadata": {},
   "outputs": [
    {
     "name": "stdout",
     "output_type": "stream",
     "text": [
      "Dear Carl,\n",
      "\tI have an ultimatum for you\n",
      "\t\t1.IMA STEAL UR FURRY COSTUME IF YOU DONT HAND IT OVER\n",
      "\t\t2.IM GONNA EAT UR PET LIZARD\n",
      "\t\t3.IM GONNA MUG YOU THRICE ON DA STREETS\n",
      "Sincerely from ur best frend,\n",
      "Huncob\n",
      "plz sign here btw__________\n"
     ]
    }
   ],
   "source": [
    "print(\"Dear Carl,\\n\\tI have an ultimatum for you\\n\\t\\t1.\" + \n",
    "\"IMA STEAL UR FURRY COSTUME IF YOU DONT HAND IT OVER\\n\\t\\t2.\" + \n",
    "\"IM GONNA EAT UR PET LIZARD\\n\\t\\t3.\" +\n",
    "\"IM GONNA MUG YOU THRICE ON DA STREETS\\n\" +\n",
    "\"Sincerely from ur best frend,\\n\" +\n",
    "\"Huncob\\nplz sign here btw__________\")"
   ]
  },
  {
   "cell_type": "code",
   "execution_count": 1,
   "metadata": {},
   "outputs": [
    {
     "name": "stdout",
     "output_type": "stream",
     "text": [
      "   \"  \n",
      "   \" \"  \n"
     ]
    }
   ],
   "source": [
    "# You can use \\\" to print quotation marks\n",
    "print(\"   \\\"  \")\n",
    "print(\"   \\\" \\\"  \")"
   ]
  },
  {
   "cell_type": "code",
   "execution_count": 2,
   "metadata": {},
   "outputs": [
    {
     "name": "stdout",
     "output_type": "stream",
     "text": [
      "\"Hey!\"\n"
     ]
    }
   ],
   "source": [
    "print(\"\\\"Hey!\\\"\")"
   ]
  },
  {
   "cell_type": "code",
   "execution_count": null,
   "metadata": {},
   "outputs": [],
   "source": [
    "name = \"Mrs. Jones\"\n",
    "if \"Mr.\" in name:\n",
    "    print(\"You are a man\")\n",
    "elif \"Mrs.\" in name:\n",
    "    print(\"You are a woman\")"
   ]
  }
 ],
 "metadata": {
  "kernelspec": {
   "display_name": "Python 3",
   "language": "python",
   "name": "python3"
  },
  "language_info": {
   "codemirror_mode": {
    "name": "ipython",
    "version": 3
   },
   "file_extension": ".py",
   "mimetype": "text/x-python",
   "name": "python",
   "nbconvert_exporter": "python",
   "pygments_lexer": "ipython3",
   "version": "3.7.4"
  }
 },
 "nbformat": 4,
 "nbformat_minor": 4
}
