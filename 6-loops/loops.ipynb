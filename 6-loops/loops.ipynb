{
 "cells": [
  {
   "cell_type": "markdown",
   "metadata": {},
   "source": [
    "# Loops\n",
    "\n",
    "<p style='font-size:1.75rem;line-height:1.5'>\n",
    "    <b style=\"color:red\">Loops</b> allow us to <b style=\"color:blue\">execute a block of code multiple times</b>. They are very powerful, since they allow us to do many operations with only a small amount of code.\n",
    "    </p>"
   ]
  },
  {
   "cell_type": "markdown",
   "metadata": {},
   "source": [
    "# While Loops\n",
    "\n",
    "<p style='font-size:1.75rem;line-height:1.5'>\n",
    "    <code>while</code> loops <b style=\"color:blue\">repeat a block of code</b> until a particular <b style=\"color:blue\">condition</b> (a boolean) is no longer true. They are similar to if statements, except we continue to repeat the code block until the condition is false.\n",
    "    </p>"
   ]
  },
  {
   "cell_type": "markdown",
   "metadata": {},
   "source": [
    "<p style='font-size:1.75rem;line-height:1.5'>\n",
    "    Here is an example of a <code>while</code> loop:\n",
    "    </p>"
   ]
  },
  {
   "cell_type": "code",
   "execution_count": null,
   "metadata": {},
   "outputs": [],
   "source": [
    "apples = 10\n",
    "\n",
    "while apples >= 0:\n",
    "    print('There are ' + str(apples) + ' apples left on the tree.')\n",
    "    print('A kid picks one off the tree and eats it.... :( \\n')\n",
    "    apples -= 1     # 1 is subtracted from the amount of apples since the kid ate it :("
   ]
  },
  {
   "cell_type": "markdown",
   "metadata": {},
   "source": [
    "<p style='font-size:1.75rem;line-height:1.5'>\n",
    "    This program is saying that as long as there are 0 or more apples, subtract one apple.\n",
    "    </p>"
   ]
  },
  {
   "cell_type": "markdown",
   "metadata": {},
   "source": [
    "<p style='font-size:1.75rem;line-height:1.5'>\n",
    "    <b>BEFORE</b> running the following code block, <b style=\"color:blue\">think about what the value of the <code>apples</code> will be after the loop has run.\n",
    "    </p>"
   ]
  },
  {
   "cell_type": "markdown",
   "metadata": {},
   "source": [
    "<p style='font-size:1.75rem;line-height:1.5'>\n",
    "    Does this result surprise you? Remember, Python checks the condition each time <strong>before</strong> the block of code runs.\n",
    "    </p>"
   ]
  },
  {
   "cell_type": "markdown",
   "metadata": {},
   "source": [
    "<p style='font-size:1.75rem;line-height:1.5'>\n",
    "    <b style=\"color:red\">Exercise:</b> \n",
    "    <br> Print \"hi\" 10 times using a <code>while</code> loop.\n",
    "    </p>"
   ]
  },
  {
   "cell_type": "code",
   "execution_count": 1,
   "metadata": {},
   "outputs": [],
   "source": [
    "# Code here\n"
   ]
  },
  {
   "cell_type": "markdown",
   "metadata": {},
   "source": [
    "<p style='font-size:1.75rem;line-height:1.5'>\n",
    "    <b style=\"color:red\">Exercise:</b> \n",
    "    <br> Print the numbers from 0 to 19 using a <code>while</code> loop.\n",
    "    </p>"
   ]
  },
  {
   "cell_type": "code",
   "execution_count": null,
   "metadata": {},
   "outputs": [],
   "source": [
    "# Code here\n"
   ]
  },
  {
   "cell_type": "markdown",
   "metadata": {},
   "source": [
    "<p style='font-size:1.75rem;line-height:1.5'>\n",
    "    <b style=\"color:red\">Exercise:</b> \n",
    "    <br> Add 7 apples into a basket until the total number is over 30. Use a while loop!\n",
    "    </p>"
   ]
  },
  {
   "cell_type": "code",
   "execution_count": 2,
   "metadata": {},
   "outputs": [],
   "source": [
    "# Code here\n"
   ]
  },
  {
   "cell_type": "markdown",
   "metadata": {},
   "source": [
    "<p style='font-size:1.75rem;line-height:1.5'>\n",
    "    <b style=\"color:red\">Exercise:</b> \n",
    "    <br> Write a function that raises a number <code>x</code> to an exponent <code>n</code>. This means that we multiply <code>x</code> by itself <code>n</code> times. Use a while loop!\n",
    "    </p>\n",
    "\n",
    "<p style='font-size:1.75rem;line-height:1.5'>\n",
    "    <strong>Hint:</strong> Use a variable <code>original_x</code> to keep the original value of x.\n",
    "    </p>"
   ]
  },
  {
   "cell_type": "code",
   "execution_count": null,
   "metadata": {},
   "outputs": [],
   "source": [
    "def exponent(x, n):\n",
    "    # Start your code here (write a while loop!)\n"
   ]
  },
  {
   "cell_type": "markdown",
   "metadata": {},
   "source": [
    "<p style='font-size:1.75rem;line-height:1.5'>\n",
    "    Use your function to find 2 to the power of 30 (2 multiplied by itself 30 times). You should get approximately one billion!\n",
    "    </p>"
   ]
  },
  {
   "cell_type": "code",
   "execution_count": 5,
   "metadata": {},
   "outputs": [],
   "source": [
    "# Code here (call your function)\n"
   ]
  },
  {
   "cell_type": "markdown",
   "metadata": {},
   "source": [
    "<p style='font-size:1.75rem;line-height:1.5'>\n",
    "    Similar to <code>while</code> loops, <code>for</code> loops also repeat a block of code. However, instead of depending on a condition, for loops <b style=\"color:blue\">iterate over an iterable data structure</b>. For now, let's iterate over a range of numbers. \n",
    "    </p>\n",
    "<p style='font-size:1.75rem;line-height:1.5'>\n",
    "    Here is the general for loop syntax:\n",
    "    </p>\n",
    "\n",
    "```python\n",
    "for var in <iterable>:\n",
    "    # block of code\n",
    "    # Note the colon after 'iterable'\n",
    "```\n",
    "<p style='font-size:1.75rem;line-height:1.5'>\n",
    "    At the beginning of each loop, <code>var</code> is assigned to the first element of the iterable, then the second, and so on. We don't have to assign <code>var</code> beforehand, since it gets assigned when the loop runs.\n",
    "    </p>\n",
    "<p style='font-size:1.75rem;line-height:1.5'>\n",
    "    Here is an example. What do you think will be printed?\n",
    "    </p>"
   ]
  },
  {
   "cell_type": "code",
   "execution_count": null,
   "metadata": {},
   "outputs": [],
   "source": [
    "for number in range(5):\n",
    "    print(number)"
   ]
  },
  {
   "cell_type": "markdown",
   "metadata": {},
   "source": [
    "<p style='font-size:1.75rem;line-height:1.5'>\n",
    "    <code>time.sleep(1)</code> tells your program to wait one second before continuing on the next line. <br> We have to <code>import time</code> so we can use this function.\n",
    "    </p>"
   ]
  },
  {
   "cell_type": "code",
   "execution_count": null,
   "metadata": {},
   "outputs": [],
   "source": [
    "import time\n",
    "for number in range(5):\n",
    "    time.sleep(1)\n",
    "    print(number)"
   ]
  },
  {
   "cell_type": "markdown",
   "metadata": {},
   "source": [
    "<p style='font-size:1.75rem;line-height:1.5'>\n",
    "    <b style=\"color:red\">Exercise:</b> \n",
    "    <br> Print \"hi\" 10 times using a <code>for</code> loop.\n",
    "    </p>"
   ]
  },
  {
   "cell_type": "code",
   "execution_count": 7,
   "metadata": {},
   "outputs": [],
   "source": [
    "# Code here\n"
   ]
  },
  {
   "cell_type": "markdown",
   "metadata": {},
   "source": [
    "<p style='font-size:1.75rem;line-height:1.5'>\n",
    "    <b style=\"color:red\">Exercise:</b> \n",
    "    <br> Print the numbers from 0 to 19 using a <code>for</code> loop.\n",
    "    </p>"
   ]
  },
  {
   "cell_type": "code",
   "execution_count": 8,
   "metadata": {},
   "outputs": [],
   "source": [
    "# Code here\n"
   ]
  },
  {
   "cell_type": "markdown",
   "metadata": {},
   "source": [
    "<p style='font-size:1.75rem;line-height:1.5'>\n",
    "    <b style=\"color:red\">Exercise:</b> \n",
    "    <br> Code a countdown timer! Print the numbers from 60 to 0 using a <code>for</code> loop. Have the program pause every second before printing a number.\n",
    "    </p>"
   ]
  },
  {
   "cell_type": "code",
   "execution_count": 14,
   "metadata": {},
   "outputs": [],
   "source": [
    "# Code here\n"
   ]
  }
 ],
 "metadata": {
  "kernelspec": {
   "display_name": "Python 3",
   "language": "python",
   "name": "python3"
  },
  "language_info": {
   "codemirror_mode": {
    "name": "ipython",
    "version": 3
   },
   "file_extension": ".py",
   "mimetype": "text/x-python",
   "name": "python",
   "nbconvert_exporter": "python",
   "pygments_lexer": "ipython3",
   "version": "3.7.4"
  }
 },
 "nbformat": 4,
 "nbformat_minor": 4
}
