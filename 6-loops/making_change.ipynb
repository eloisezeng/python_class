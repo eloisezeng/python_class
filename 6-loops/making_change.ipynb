{
 "cells": [
  {
   "cell_type": "markdown",
   "metadata": {},
   "source": [
    "# Making Change\n",
    "\n",
    "- You are a cashier and you owe customers money. \n",
    "- You want to minimize the number of coins you’re giving them.\n",
    "- You have dollars (100¢), quarters (25¢), dimes (10¢), nickels (5¢), and pennies (1¢).\n",
    "\n",
    "The user inputs the amount of change you owe. You output the number coins to give them.\n",
    "\n",
    "### Examples:\n",
    "```python\n",
    "Change owed: 0.1\n",
    "1 # one dime\n",
    "\n",
    "Change owed: 0.16\n",
    "3 # one dime, one nickel, and one penny\n",
    "\n",
    "Change owed: 1.01\n",
    "3 # one dollar and one penny\n",
    "\n",
    "Change owed: -1\n",
    "Change owed: # Let the user try again\n",
    "```"
   ]
  },
  {
   "cell_type": "code",
   "execution_count": 4,
   "metadata": {},
   "outputs": [],
   "source": [
    "# Write your code here"
   ]
  }
 ],
 "metadata": {
  "kernelspec": {
   "display_name": "Python 3",
   "language": "python",
   "name": "python3"
  },
  "language_info": {
   "codemirror_mode": {
    "name": "ipython",
    "version": 3
   },
   "file_extension": ".py",
   "mimetype": "text/x-python",
   "name": "python",
   "nbconvert_exporter": "python",
   "pygments_lexer": "ipython3",
   "version": "3.7.4"
  }
 },
 "nbformat": 4,
 "nbformat_minor": 4
}
