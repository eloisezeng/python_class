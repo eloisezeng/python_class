{
 "cells": [
  {
   "cell_type": "markdown",
   "metadata": {},
   "source": [
    "## Fizzbuzz\n",
    "\n",
    "<p style='font-size:1.25rem;line-height:1.5'>\n",
    "    Roger Rabbit needs you to fizzbuzz: \n",
    "    <ul style='font-size:1.25rem;line-height:2'>\n",
    "        <li>Print <code>fizz</code> if a number is divisible by <code>3</code></li>\n",
    "        <li>Print <code>buzz</code> if a number is divisible by <code>5</code></li>\n",
    "        <li>Print <code>fizzbuzz</code> if a number is divisble by <code>15</code></li>\n",
    "        <li>If a number is not divisible by any of those, print out the number.</li>\n",
    "    </ul>\n",
    "    </p>\n",
    "    \n",
    "<p style='font-size:1.25rem;line-height:1.5'>    \n",
    "    Fizzbuzz for all the numbers between <code>1</code> and <code>100</code> (including 1 and 100). This is a very famous problem for coding interviews.\n",
    "    </p>"
   ]
  },
  {
   "cell_type": "code",
   "execution_count": null,
   "metadata": {},
   "outputs": [],
   "source": [
    "# Start your code here\n"
   ]
  }
 ],
 "metadata": {
  "kernelspec": {
   "display_name": "Python 3",
   "language": "python",
   "name": "python3"
  },
  "language_info": {
   "codemirror_mode": {
    "name": "ipython",
    "version": 3
   },
   "file_extension": ".py",
   "mimetype": "text/x-python",
   "name": "python",
   "nbconvert_exporter": "python",
   "pygments_lexer": "ipython3",
   "version": "3.7.4"
  }
 },
 "nbformat": 4,
 "nbformat_minor": 4
}
