{
 "cells": [
  {
   "cell_type": "markdown",
   "metadata": {},
   "source": [
    "# Loops\n",
    "\n",
    "<p style='font-size:1.25rem;line-height:1.5'>\n",
    "    <b style=\"color:red\">Loops</b> allow us to <b style=\"color:blue\">execute a block of code multiple times</b>. They are very powerful, since they allow us to do many operations with only a small amount of code.\n",
    "    </p>"
   ]
  },
  {
   "cell_type": "markdown",
   "metadata": {},
   "source": [
    "# While Loops\n",
    "\n",
    "<p style='font-size:1.25rem;line-height:1.5'>\n",
    "    <code>while</code> loops <b style=\"color:blue\">repeat a block of code</b> until a particular <b style=\"color:blue\">condition</b> (a boolean) is no longer true. They are similar to if statements, except we continue to repeat the code block until the condition is false.\n",
    "    </p>"
   ]
  },
  {
   "cell_type": "markdown",
   "metadata": {},
   "source": [
    "<p style='font-size:1.25rem;line-height:1.5'>\n",
    "    Here is an example of a <code>while</code> loop:\n",
    "    </p>"
   ]
  },
  {
   "cell_type": "code",
   "execution_count": null,
   "metadata": {},
   "outputs": [],
   "source": [
    "apples = 10\n",
    "\n",
    "while apples >= 0:\n",
    "    print('There are ' + str(apples) + ' apples left on the tree.')\n",
    "    print('A kid picks one off the tree and eats it.... :( \\n')\n",
    "    apples -= 1     # 1 is subtracted from the amount of apples since the kid ate it :("
   ]
  },
  {
   "cell_type": "markdown",
   "metadata": {},
   "source": [
    "<p style='font-size:1.25rem;line-height:1.5'>\n",
    "    This program is saying that as long as there are 0 or more apples, subtract one apple.\n",
    "    </p>"
   ]
  },
  {
   "cell_type": "markdown",
   "metadata": {},
   "source": [
    "<p style='font-size:1.25rem;line-height:1.5'>\n",
    "    <b>BEFORE</b> running the following code block, what you think the value of <code>apples</code> is after the loop has run.\n",
    "    </p>"
   ]
  },
  {
   "cell_type": "code",
   "execution_count": null,
   "metadata": {},
   "outputs": [],
   "source": [
    "print(str(apples) + ' apples remain.')"
   ]
  },
  {
   "cell_type": "markdown",
   "metadata": {},
   "source": [
    "<p style='font-size:1.25rem;line-height:1.5'>\n",
    "    Does this result surprise you? Remember, Python checks the condition each time <strong>before</strong> the block of code runs.\n",
    "    </p>"
   ]
  },
  {
   "cell_type": "markdown",
   "metadata": {},
   "source": [
    "<p style='font-size:1.25rem;line-height:1.5'>\n",
    "    <b style=\"color:red\">Exercise:</b> \n",
    "    <br> Print \"hi\" 10 times using a <code>while</code> loop.\n",
    "    </p>"
   ]
  },
  {
   "cell_type": "code",
   "execution_count": null,
   "metadata": {},
   "outputs": [],
   "source": [
    "# Start your code here\n"
   ]
  },
  {
   "cell_type": "markdown",
   "metadata": {},
   "source": [
    "<p style='font-size:1.25rem;line-height:1.5'>\n",
    "    <b style=\"color:red\">Exercise:</b> \n",
    "    <br> Print the numbers from 0 to 19 using a <code>while</code> loop.\n",
    "    </p>"
   ]
  },
  {
   "cell_type": "code",
   "execution_count": null,
   "metadata": {},
   "outputs": [],
   "source": [
    "# Start your code here\n"
   ]
  },
  {
   "cell_type": "markdown",
   "metadata": {},
   "source": [
    "<p style='font-size:1.25rem;line-height:1.5'>\n",
    "    <b style=\"color:red\">Exercise:</b> \n",
    "    <br> Add 7 apples into a basket until the total number is over 30. Use a while loop!\n",
    "    </p>"
   ]
  },
  {
   "cell_type": "code",
   "execution_count": null,
   "metadata": {},
   "outputs": [],
   "source": [
    "# Start your code here\n"
   ]
  },
  {
   "cell_type": "markdown",
   "metadata": {},
   "source": [
    "<p style='font-size:1.25rem;line-height:1.5'>\n",
    "    <b style=\"color:red\">Exercise:</b> \n",
    "    <br> Write a function that raises a number <code>x</code> to an exponent <code>n</code>. This means that we multiply <code>x</code> by itself <code>n</code> times. Use a while loop!\n",
    "    </p>\n",
    "\n",
    "<p style='font-size:1.25rem;line-height:1.5'>\n",
    "    <strong>Hint:</strong> Use a variable <code>original_x</code> to keep the original value of x.\n",
    "    </p>"
   ]
  },
  {
   "cell_type": "code",
   "execution_count": null,
   "metadata": {},
   "outputs": [],
   "source": [
    "def exponent(x, n):\n",
    "    # Start your code here (write a while loop!)\n",
    "    \n"
   ]
  },
  {
   "cell_type": "markdown",
   "metadata": {},
   "source": [
    "<p style='font-size:1.25rem;line-height:1.5'>\n",
    "    Use your function to find 2 to the power of 30 (2 multiplied by itself 30 times). You should get approximately one billion!\n",
    "    </p>"
   ]
  },
  {
   "cell_type": "code",
   "execution_count": null,
   "metadata": {},
   "outputs": [],
   "source": [
    "# Start your code here\n",
    "\n"
   ]
  },
  {
   "cell_type": "markdown",
   "metadata": {},
   "source": [
    "# For Loops"
   ]
  },
  {
   "cell_type": "markdown",
   "metadata": {},
   "source": [
    "<p style='font-size:1.25rem;line-height:1.5'>\n",
    "    Similar to <code>while</code> loops, <code>for</code> loops also repeat a block of code. However, instead of depending on a condition, for loops <b style=\"color:blue\">iterate over an iterable data structure</b>. \n",
    "    </p>\n",
    "\n",
    "<p style='font-size:1.25rem;line-height:1.5'>\n",
    "    Iterable data structures include:\n",
    "    </p>\n",
    "<ul style='font-size:1.25rem;line-height:1.5'>\n",
    "    <li>Strings</li>\n",
    "    <li>Lists</li>\n",
    "</ul>\n",
    "<p style='font-size:1.25rem;line-height:1.5'>\n",
    "    Here is the general for loop syntax:\n",
    "    </p>\n",
    "\n",
    "```python\n",
    "for var in <iterable>:\n",
    "    # block of code\n",
    "    # Note the colon after 'iterable'\n",
    "```\n",
    "<p style='font-size:1.25rem;line-height:1.5'>\n",
    "    At the beginning of each loop, <code>var</code> is assigned to the first element of the iterable, then the second, and so on. We don't have to assign <code>var</code> beforehand, since it gets assigned when the loop runs.\n",
    "    </p>\n",
    "<p style='font-size:1.25rem;line-height:1.5'>\n",
    "    Here is an example. What do you think will be printed, and in what order?\n",
    "    </p>"
   ]
  },
  {
   "cell_type": "code",
   "execution_count": null,
   "metadata": {},
   "outputs": [],
   "source": [
    "fruits = ['bananas', 'apples', 'cherries', 'watermelons']\n",
    "\n",
    "for fruit in fruits:\n",
    "    print(fruit)"
   ]
  },
  {
   "cell_type": "markdown",
   "metadata": {},
   "source": [
    "<p style='font-size:1.25rem;line-height:1.5'>\n",
    "    <b style=\"color:red\">Exercise:</b> \n",
    "    <br> Print \"hi\" 10 times using a <code>for</code> loop.\n",
    "    </p>"
   ]
  },
  {
   "cell_type": "code",
   "execution_count": null,
   "metadata": {},
   "outputs": [],
   "source": [
    "# Start your code here\n"
   ]
  },
  {
   "cell_type": "markdown",
   "metadata": {},
   "source": [
    "<p style='font-size:1.25rem;line-height:1.5'>\n",
    "    <b style=\"color:red\">Exercise:</b> \n",
    "    <br> Print the numbers from 0 to 19 using a <code>for</code> loop.\n",
    "    </p>"
   ]
  },
  {
   "cell_type": "code",
   "execution_count": null,
   "metadata": {},
   "outputs": [],
   "source": [
    "# Start your code here\n"
   ]
  },
  {
   "cell_type": "markdown",
   "metadata": {},
   "source": [
    "<p style='font-size:1.25rem;line-height:1.5'>\n",
    "    <b style=\"color:red\">Exercise:</b> \n",
    "    <br>Create a function <code>product</code> that takes a list as an argument and returns the product of all the numbers in the list (all the numbers multiplied by each other).\n",
    "    </p>"
   ]
  },
  {
   "cell_type": "code",
   "execution_count": null,
   "metadata": {},
   "outputs": [],
   "source": [
    "def product(numbers):\n",
    "    # Define a variable to keep track of the total product\n",
    "    \n",
    "    \n",
    "    # Use loop through the numbers and update the total\n",
    "    \n",
    "    \n",
    "    # Return the total\n",
    "    \n",
    "    "
   ]
  },
  {
   "cell_type": "markdown",
   "metadata": {},
   "source": [
    "<p style='font-size:1.25rem;line-height:1.5'>\n",
    "    Now use your function to find <code>10!</code> (ten factorial), which is the product of the numbers from <code>1</code> to <code>10</code>. You should get <code>3628800</code>\n",
    "    </p>"
   ]
  },
  {
   "cell_type": "code",
   "execution_count": null,
   "metadata": {
    "scrolled": true
   },
   "outputs": [],
   "source": [
    "one_to_ten = (1, 2, 3, 4, 5, 6, 7, 8, 9, 10)\n",
    "\n",
    "# Call product on one_to_ten to find 10! (ten factorial)\n",
    "\n"
   ]
  },
  {
   "cell_type": "markdown",
   "metadata": {},
   "source": [
    "# Range"
   ]
  },
  {
   "cell_type": "markdown",
   "metadata": {},
   "source": [
    "<p style='font-size:1.25rem;line-height:1.5'>\n",
    "    The <code>range</code> function helps us <b style=\"color:blue\">generate a list of numbers</b>. It returns a list, so we can use it in for loops. The syntax is:\n",
    "    </p>\n",
    "\n",
    "```\n",
    "range(start, stop, step)\n",
    "```\n",
    "<p style='font-size:1.25rem;line-height:1.5'>\n",
    "    This works similarly to slicing. The default value for start is <code>0</code>, and the default value for <code>step</code> is <code>1</code>. We always need to specify the stopping point.\n",
    "    </p>\n",
    "<p style='font-size:1.25rem;line-height:1.5'>\n",
    "    For example:\n",
    "    </p>"
   ]
  },
  {
   "cell_type": "code",
   "execution_count": null,
   "metadata": {
    "scrolled": true
   },
   "outputs": [],
   "source": [
    "range(0, 10, 1)  # start is 0, stop is 10, step is 1"
   ]
  },
  {
   "cell_type": "markdown",
   "metadata": {},
   "source": [
    "<p style='font-size:1.25rem;line-height:1.5'>\n",
    "    Cool, right? Note how the list starts at <code>0</code> and ends at <code>9</code>, <b>NOT</b> <code>10</code>, just like slicing. We can also omit everything except the stopping point:\n",
    "    </p>"
   ]
  },
  {
   "cell_type": "code",
   "execution_count": null,
   "metadata": {},
   "outputs": [],
   "source": [
    "range(10)"
   ]
  },
  {
   "cell_type": "markdown",
   "metadata": {},
   "source": [
    "<p style='font-size:1.25rem;line-height:1.5'>\n",
    "    Now try using <code>range</code> in a <code>for</code> loop. Print out the integers from <code>5</code> to <code>19</code>.\n",
    "    </p>"
   ]
  },
  {
   "cell_type": "code",
   "execution_count": null,
   "metadata": {},
   "outputs": [],
   "source": [
    "# Start your code here\n",
    "\n"
   ]
  },
  {
   "cell_type": "markdown",
   "metadata": {},
   "source": [
    "<p style='font-size:1.25rem;line-height:1.5'>\n",
    "    <code>range</code> is incredibly useful when we want to run a block of code a specific number of times. \n",
    "    </p>"
   ]
  },
  {
   "cell_type": "markdown",
   "metadata": {},
   "source": [
    "<p style='font-size:1.25rem;line-height:1.5'>\n",
    "    <b style=\"color:red\">Exercise:</b> \n",
    "    <br> Write a <code>for</code> loop that doubles a number <code>n</code> times.\n",
    "    </p>"
   ]
  },
  {
   "cell_type": "code",
   "execution_count": null,
   "metadata": {
    "scrolled": true
   },
   "outputs": [],
   "source": [
    "# Start your code here\n",
    "\n",
    "\n"
   ]
  },
  {
   "cell_type": "markdown",
   "metadata": {},
   "source": [
    "# Infinite Loops\n",
    "\n",
    "<p style='font-size:1.25rem;line-height:1.5'>\n",
    "    Now, I know what you're thinking. What if the <strong>condition</strong> is <em>always</em> <code>True</code>? For example:\n",
    "    </p>\n",
    "\n",
    "```python\n",
    "while True:\n",
    "    print('INFINITE PRINTS')\n",
    "```\n",
    "<p style='font-size:1.25rem;line-height:1.5'>\n",
    "    If you get stuck running an infinite loop, you can press the square button at the top in Jupyter Notebook to stop it. Don't write infinite loops.\n",
    "    </p>"
   ]
  }
 ],
 "metadata": {
  "kernelspec": {
   "display_name": "Python 3",
   "language": "python",
   "name": "python3"
  },
  "language_info": {
   "codemirror_mode": {
    "name": "ipython",
    "version": 3
   },
   "file_extension": ".py",
   "mimetype": "text/x-python",
   "name": "python",
   "nbconvert_exporter": "python",
   "pygments_lexer": "ipython3",
   "version": "3.7.4"
  }
 },
 "nbformat": 4,
 "nbformat_minor": 4
}
