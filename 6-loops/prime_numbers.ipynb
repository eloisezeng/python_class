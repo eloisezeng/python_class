{
 "cells": [
  {
   "cell_type": "markdown",
   "metadata": {},
   "source": [
    "## Prime Numbers\n",
    "\n",
    "<p style='font-size:1.25rem;line-height:1.5'>\n",
    "    A <strong>prime number</strong> is a number that has no factors that divide evenly into it other than 1 and itself. For example, 17 is prime, but 42 is not prime (it is 6 times 7).\n",
    "    </p>\n",
    "    \n",
    "<p style='font-size:1.25rem;line-height:1.5'>\n",
    "    Using a for loop, write a function that checks if the given number is prime. The function should return <code>True</code> if the number is prime, and <code>False</code> otherwise.\n",
    "    </p>\n",
    "    \n",
    "<p style='font-size:1.25rem;line-height:1.5'>\n",
    "    <strong>Hint:</strong> Remember, the modulo operator <code>%</code> returns <code>0</code> when the number divides evenly with no remainder. Also, remember not to check 1 and the number itself, since these do not count for prime numbers.\n",
    "    </p>"
   ]
  },
  {
   "cell_type": "code",
   "execution_count": null,
   "metadata": {},
   "outputs": [],
   "source": [
    "def prime(n):\n",
    "    # Use a for loop (and range!)\n",
    "    # Remember, don't count 1 or n when you check for factors\n",
    "    \n",
    "    \n",
    "    \n",
    "    # Return True or False based on the result\n",
    "    \n",
    "    "
   ]
  },
  {
   "cell_type": "markdown",
   "metadata": {},
   "source": [
    "<p style='font-size:1.25rem;line-height:1.5'>\n",
    "    Check your answer on <code>104729</code>, the 10000th prime number. (Your function should return <code>True</code> for this number.)\n",
    "    </p>"
   ]
  },
  {
   "cell_type": "code",
   "execution_count": null,
   "metadata": {},
   "outputs": [],
   "source": [
    "# Call prime on 104729\n",
    "\n"
   ]
  }
 ],
 "metadata": {
  "kernelspec": {
   "display_name": "Python 3",
   "language": "python",
   "name": "python3"
  },
  "language_info": {
   "codemirror_mode": {
    "name": "ipython",
    "version": 3
   },
   "file_extension": ".py",
   "mimetype": "text/x-python",
   "name": "python",
   "nbconvert_exporter": "python",
   "pygments_lexer": "ipython3",
   "version": "3.7.4"
  }
 },
 "nbformat": 4,
 "nbformat_minor": 4
}
