{
 "cells": [
  {
   "cell_type": "markdown",
   "metadata": {},
   "source": [
    "# Pyramids\n",
    "\n",
    "<p style='font-size:1.25rem;line-height:1.5'>\n",
    "Video games require stairs and pyramids. \n",
    "</p>\n",
    "<ul>\n",
    "    <li style='font-size:1.25rem;line-height:1.5'>Ask the user to input the height of a pyramid. Use the <code>input()</code> function</li>\n",
    "    <li style='font-size:1.25rem;line-height:1.5'>The height must be positive </li>\n",
    "    <li style='font-size:1.25rem;line-height:1.5'>Use hashtags # as bricks </li>\n",
    "</ul>\n",
    "\n",
    "### Left Pyramid "
   ]
  },
  {
   "cell_type": "markdown",
   "metadata": {},
   "source": [
    "```python\n",
    "\"If the user inputs 3, output:\"\n",
    "Height: 3\n",
    "#\n",
    "##\n",
    "###\n",
    "```"
   ]
  },
  {
   "cell_type": "markdown",
   "metadata": {},
   "source": [
    "```python\n",
    "\"If the user inputs 5, output:\"\n",
    "Height: 5\n",
    "#\n",
    "##\n",
    "###\n",
    "####\n",
    "#####\n",
    "```"
   ]
  },
  {
   "cell_type": "markdown",
   "metadata": {},
   "source": [
    "```python\n",
    "\"If the user doesn't cooperate, output:\"\n",
    "Height: -3\n",
    "Pick a number positive number.\n",
    "```"
   ]
  },
  {
   "cell_type": "code",
   "execution_count": 1,
   "metadata": {},
   "outputs": [],
   "source": [
    "# Code Left Pyramid here!\n"
   ]
  },
  {
   "cell_type": "markdown",
   "metadata": {},
   "source": [
    "### Right Pyramid"
   ]
  },
  {
   "cell_type": "markdown",
   "metadata": {},
   "source": [
    "```python\n",
    "\"If the user inputs 4, output:\"\n",
    "Height: 4  \n",
    "   #\n",
    "  ##\n",
    " ###\n",
    "####\n",
    "```"
   ]
  },
  {
   "cell_type": "markdown",
   "metadata": {},
   "source": [
    "```python\n",
    "\"If the user inputs 6, output:\"\n",
    "Height: 6\n",
    "     #\n",
    "    ##\n",
    "   ###\n",
    "  ####\n",
    " #####\n",
    "######\n",
    "```"
   ]
  },
  {
   "cell_type": "code",
   "execution_count": 2,
   "metadata": {},
   "outputs": [],
   "source": [
    "# Code Right Pyramid here!\n"
   ]
  },
  {
   "cell_type": "markdown",
   "metadata": {},
   "source": [
    "### Double Sided Pyramid "
   ]
  },
  {
   "cell_type": "markdown",
   "metadata": {},
   "source": [
    "```python\n",
    "\"If user inputs 4, output:\"\n",
    "\n",
    "Height: 4\n",
    "       #  #\n",
    "      ##  ##\n",
    "     ###  ###\n",
    "    ####  ####\n",
    "```"
   ]
  },
  {
   "cell_type": "markdown",
   "metadata": {},
   "source": [
    "```python\n",
    "\"If user inputs 8, output:\"\n",
    "Height: 8\n",
    "       #  #\n",
    "      ##  ##\n",
    "     ###  ###\n",
    "    ####  ####\n",
    "   #####  #####\n",
    "  ######  ######\n",
    " #######  #######\n",
    "########  ########\n",
    "```"
   ]
  },
  {
   "cell_type": "code",
   "execution_count": 3,
   "metadata": {},
   "outputs": [],
   "source": [
    "# Code Double Sided Pyramid here!\n"
   ]
  }
 ],
 "metadata": {
  "kernelspec": {
   "display_name": "Python 3",
   "language": "python",
   "name": "python3"
  },
  "language_info": {
   "codemirror_mode": {
    "name": "ipython",
    "version": 3
   },
   "file_extension": ".py",
   "mimetype": "text/x-python",
   "name": "python",
   "nbconvert_exporter": "python",
   "pygments_lexer": "ipython3",
   "version": "3.7.4"
  }
 },
 "nbformat": 4,
 "nbformat_minor": 4
}
