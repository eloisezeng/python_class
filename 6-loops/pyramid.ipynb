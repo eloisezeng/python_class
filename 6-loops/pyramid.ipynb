{
 "cells": [
  {
   "cell_type": "markdown",
   "metadata": {},
   "source": [
    "# Pyramids\n",
    "\n",
    "Video games require stairs and pyramids. \n",
    "\n",
    "- Ask the user to input the height of a pyramid. \n",
    "- The height must be positive and less than 100. \n",
    "- Use hashtags # as bricks\n",
    "\n",
    "### Left Pyramid "
   ]
  },
  {
   "cell_type": "markdown",
   "metadata": {},
   "source": [
    "```python\n",
    "\"If the user inputs 3, output:\"\n",
    "Height: 3\n",
    "#\n",
    "##\n",
    "###\n",
    "```"
   ]
  },
  {
   "cell_type": "markdown",
   "metadata": {},
   "source": [
    "```python\n",
    "\"If the user inputs 5, output:\"\n",
    "Height: 5\n",
    "#\n",
    "##\n",
    "###\n",
    "####\n",
    "#####\n",
    "```"
   ]
  },
  {
   "cell_type": "markdown",
   "metadata": {},
   "source": [
    "```python\n",
    "\"If the user doesn't cooperate, output:\"\n",
    "Height: 100\n",
    "Pick a number between 1 and 99.\n",
    "```"
   ]
  },
  {
   "cell_type": "code",
   "execution_count": 1,
   "metadata": {},
   "outputs": [],
   "source": [
    "# Code Left Pyramid here!"
   ]
  },
  {
   "cell_type": "markdown",
   "metadata": {},
   "source": [
    "### Right Pyramid"
   ]
  },
  {
   "cell_type": "markdown",
   "metadata": {},
   "source": [
    "```python\n",
    "\"If the user inputs 4, output:\"\n",
    "Height: 4  \n",
    "   #\n",
    "  ##\n",
    " ###\n",
    "####\n",
    "```"
   ]
  },
  {
   "cell_type": "markdown",
   "metadata": {},
   "source": [
    "```python\n",
    "\"If the user inputs 6, output:\"\n",
    "Height: 6\n",
    "     #\n",
    "    ##\n",
    "   ###\n",
    "  ####\n",
    " #####\n",
    "######\n",
    "```"
   ]
  },
  {
   "cell_type": "code",
   "execution_count": 2,
   "metadata": {},
   "outputs": [],
   "source": [
    "# Code Right Pyramid here!"
   ]
  },
  {
   "cell_type": "markdown",
   "metadata": {},
   "source": [
    "### Double Sided Pyramid "
   ]
  },
  {
   "cell_type": "markdown",
   "metadata": {},
   "source": [
    "```python\n",
    "\"If user inputs 4, output:\"\n",
    "\n",
    "Height: 4\n",
    "       #  #\n",
    "      ##  ##\n",
    "     ###  ###\n",
    "    ####  ####\n",
    "```"
   ]
  },
  {
   "cell_type": "markdown",
   "metadata": {},
   "source": [
    "```python\n",
    "\"If user inputs 8, output:\"\n",
    "Height: 8\n",
    "       #  #\n",
    "      ##  ##\n",
    "     ###  ###\n",
    "    ####  ####\n",
    "   #####  #####\n",
    "  ######  ######\n",
    " #######  #######\n",
    "########  ########\n",
    "```"
   ]
  },
  {
   "cell_type": "code",
   "execution_count": 3,
   "metadata": {},
   "outputs": [],
   "source": [
    "# Code Double Sided Pyramid here!"
   ]
  },
  {
   "cell_type": "code",
   "execution_count": null,
   "metadata": {},
   "outputs": [],
   "source": []
  }
 ],
 "metadata": {
  "kernelspec": {
   "display_name": "Python 3",
   "language": "python",
   "name": "python3"
  },
  "language_info": {
   "codemirror_mode": {
    "name": "ipython",
    "version": 3
   },
   "file_extension": ".py",
   "mimetype": "text/x-python",
   "name": "python",
   "nbconvert_exporter": "python",
   "pygments_lexer": "ipython3",
   "version": "3.7.4"
  }
 },
 "nbformat": 4,
 "nbformat_minor": 4
}
