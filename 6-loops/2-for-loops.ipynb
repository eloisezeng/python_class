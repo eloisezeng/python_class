{
 "cells": [
  {
   "cell_type": "markdown",
   "metadata": {},
   "source": [
    "# For Loops\n",
    "\n",
    "<p style='font-size:1.25rem;line-height:1.5'>\n",
    "    Similar to <code>while</code> loops, <code>for</code> loops also repeat a block of code. However, instead of depending on a condition, for loops <b style=\"color:blue\">iterate over an iterable data structure</b>. \n",
    "    </p>\n",
    "\n",
    "<p style='font-size:1.25rem;line-height:1.5'>\n",
    "    Iterable data structures include:\n",
    "    </p>\n",
    "<ul style='font-size:1.25rem;line-height:1.5'>\n",
    "    <li>Strings</li>\n",
    "    <li>Lists</li>\n",
    "</ul>\n",
    "<p style='font-size:1.25rem;line-height:1.5'>\n",
    "    Here is the general for loop syntax:\n",
    "    </p>\n",
    "\n",
    "```python\n",
    "for var in <iterable>:\n",
    "    # block of code\n",
    "    # Note the colon after 'iterable'\n",
    "```\n",
    "<p style='font-size:1.25rem;line-height:1.5'>\n",
    "    At the beginning of each loop, <code>var</code> is assigned to the first element of the iterable, then the second, and so on. We don't have to assign <code>var</code> beforehand, since it gets assigned when the loop runs.\n",
    "    </p>\n",
    "<p style='font-size:1.25rem;line-height:1.5'>\n",
    "    Here is an example. What do you think will be printed, and in what order?\n",
    "    </p>"
   ]
  },
  {
   "cell_type": "code",
   "execution_count": null,
   "metadata": {},
   "outputs": [],
   "source": [
    "fruits = ['bananas', 'apples', 'cherries', 'watermelons']\n",
    "\n",
    "for fruit in fruits:\n",
    "    print(fruit)"
   ]
  },
  {
   "cell_type": "markdown",
   "metadata": {},
   "source": [
    "<p style='font-size:1.25rem;line-height:1.5'>\n",
    "    <b style=\"color:red\">Exercise:</b> \n",
    "    <br> Print \"hi\" 10 times using a <code>for</code> loop.\n",
    "    </p>"
   ]
  },
  {
   "cell_type": "code",
   "execution_count": null,
   "metadata": {},
   "outputs": [],
   "source": [
    "# Start your code here\n"
   ]
  },
  {
   "cell_type": "markdown",
   "metadata": {},
   "source": [
    "<p style='font-size:1.25rem;line-height:1.5'>\n",
    "    <b style=\"color:red\">Exercise:</b> \n",
    "    <br> Print the numbers from 0 to 19 using a <code>for</code> loop.\n",
    "    </p>"
   ]
  },
  {
   "cell_type": "code",
   "execution_count": null,
   "metadata": {},
   "outputs": [],
   "source": [
    "# Start your code here\n"
   ]
  },
  {
   "cell_type": "markdown",
   "metadata": {},
   "source": [
    "<p style='font-size:1.25rem;line-height:1.5'>\n",
    "    <b style=\"color:red\">Exercise:</b> \n",
    "    <br>Create a function <code>product</code> that takes a list as an argument and returns the product of all the numbers in the list (all the numbers multiplied by each other).\n",
    "    </p>"
   ]
  },
  {
   "cell_type": "code",
   "execution_count": null,
   "metadata": {},
   "outputs": [],
   "source": [
    "def product(numbers):\n",
    "    # Define a variable to keep track of the total product\n",
    "    \n",
    "    \n",
    "    # Use loop through the numbers and update the total\n",
    "    \n",
    "    \n",
    "    # Return the total\n",
    "    \n",
    "    "
   ]
  },
  {
   "cell_type": "markdown",
   "metadata": {},
   "source": [
    "<p style='font-size:1.25rem;line-height:1.5'>\n",
    "    Now use your function to find <code>10!</code> (ten factorial), which is the product of the numbers from <code>1</code> to <code>10</code>. You should get <code>3628800</code>\n",
    "    </p>"
   ]
  },
  {
   "cell_type": "code",
   "execution_count": null,
   "metadata": {},
   "outputs": [],
   "source": [
    "one_to_ten = (1, 2, 3, 4, 5, 6, 7, 8, 9, 10)\n",
    "\n",
    "# Call product on one_to_ten to find 10! (ten factorial)\n",
    "\n"
   ]
  },
  {
   "cell_type": "markdown",
   "metadata": {},
   "source": [
    "# Range\n",
    "<p style='font-size:1.25rem;line-height:1.5'>\n",
    "    The <code>range</code> function helps us <b style=\"color:blue\">generate a list of numbers</b>. It returns a list, so we can use it in for loops. The syntax is:\n",
    "    </p>\n",
    "\n",
    "```\n",
    "range(start, stop, step)\n",
    "```\n",
    "<p style='font-size:1.25rem;line-height:1.5'>\n",
    "    This works similarly to slicing. The default value for start is <code>0</code>, and the default value for <code>step</code> is <code>1</code>. We always need to specify the stopping point.\n",
    "    </p>\n",
    "<p style='font-size:1.25rem;line-height:1.5'>\n",
    "    For example:\n",
    "    </p>"
   ]
  },
  {
   "cell_type": "code",
   "execution_count": null,
   "metadata": {},
   "outputs": [],
   "source": [
    "range(0, 10, 1)  # start is 0, stop is 10, step is 1"
   ]
  },
  {
   "cell_type": "code",
   "execution_count": null,
   "metadata": {},
   "outputs": [],
   "source": [
    "for i in range(0, 10, 1): # try changing the step to see what prints!\n",
    "    print(i)"
   ]
  },
  {
   "cell_type": "markdown",
   "metadata": {},
   "source": [
    "<p style='font-size:1.25rem;line-height:1.5'>\n",
    "    Cool, right? Note how the list starts at <code>0</code> and ends at <code>9</code>, <b>NOT</b> <code>10</code>, just like slicing. We can also omit everything except the stopping point:\n",
    "    </p>"
   ]
  },
  {
   "cell_type": "code",
   "execution_count": null,
   "metadata": {},
   "outputs": [],
   "source": [
    "for i in range(10):\n",
    "    print(i)"
   ]
  },
  {
   "cell_type": "markdown",
   "metadata": {},
   "source": [
    "<p style='font-size:1.25rem;line-height:1.5'>\n",
    "    Now try using <code>range</code> in a <code>for</code> loop. Print out the integers from <code>5</code> to <code>19</code>.\n",
    "    </p>"
   ]
  },
  {
   "cell_type": "code",
   "execution_count": null,
   "metadata": {},
   "outputs": [],
   "source": [
    "# Start your code here\n"
   ]
  },
  {
   "cell_type": "markdown",
   "metadata": {},
   "source": [
    "<p style='font-size:1.25rem;line-height:1.5'>\n",
    "    <code>range</code> is incredibly useful when we want to run a block of code a specific number of times. \n",
    "    </p>\n",
    "\n",
    "<p style='font-size:1.25rem;line-height:1.5'>\n",
    "    <b style=\"color:red\">Exercise:</b> \n",
    "    <br> Write a <code>for</code> loop that doubles a number <code>n</code> times.\n",
    "    </p>"
   ]
  },
  {
   "cell_type": "code",
   "execution_count": null,
   "metadata": {},
   "outputs": [],
   "source": [
    "# Start your code here\n"
   ]
  },
  {
   "cell_type": "markdown",
   "metadata": {},
   "source": [
    "# Infinite Loops\n",
    "\n",
    "<p style='font-size:1.25rem;line-height:1.5'>\n",
    "    Now, I know what you're thinking. What if the <strong>condition</strong> is <em>always</em> <code>True</code>? For example:\n",
    "    </p>\n",
    "\n",
    "```python\n",
    "while True:\n",
    "    print('INFINITE PRINTS')\n",
    "```\n",
    "<p style='font-size:1.25rem;line-height:1.5'>\n",
    "    If you get stuck running an infinite loop, you can press the square button at the top in Jupyter Notebook to stop it. Don't write infinite loops unless you want to crash someone's computer. (Sorry Mr. Bogage ~ Eloise)\n",
    "    </p>"
   ]
  }
 ],
 "metadata": {
  "kernelspec": {
   "display_name": "Python 3",
   "language": "python",
   "name": "python3"
  },
  "language_info": {
   "codemirror_mode": {
    "name": "ipython",
    "version": 3
   },
   "file_extension": ".py",
   "mimetype": "text/x-python",
   "name": "python",
   "nbconvert_exporter": "python",
   "pygments_lexer": "ipython3",
   "version": "3.7.4"
  }
 },
 "nbformat": 4,
 "nbformat_minor": 4
}
