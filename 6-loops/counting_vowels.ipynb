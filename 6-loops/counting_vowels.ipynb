{
 "cells": [
  {
   "cell_type": "markdown",
   "metadata": {},
   "source": [
    "## Counting Vowels\n",
    "\n",
    "<p style='font-size:1.25rem;line-height:1.5'>\n",
    "    Carl received 6 texts from his cousin, Hunter. He wants to count the number of vowels in <strong>each</strong> of the texts. The first message should have 14 vowels. You should print 6 integers in total because there are 6 texts.\n",
    "    </p>"
   ]
  },
  {
   "cell_type": "code",
   "execution_count": 1,
   "metadata": {},
   "outputs": [],
   "source": [
    "# The texts are retrived from the messages server and put into a list\n",
    "texts = [\"Dear Carl, I have an ultimatum for you\", \n",
    "         \"IMA STEAL UR FURRY COSTUME IF YOU DONT HAND IT OVER.\",\n",
    "         \"IM GONNA EAT UR PET LIZARD.\",\n",
    "         \"IM GONNA MUG YOU THRICE ON DA STREETS.\",\n",
    "         \"Sincerely from your best friend, Hunter\",\n",
    "         \"plz sign here btw__________\"]\n",
    "\n",
    "# Start your code here\n",
    "\n",
    "\n"
   ]
  }
 ],
 "metadata": {
  "kernelspec": {
   "display_name": "Python 3",
   "language": "python",
   "name": "python3"
  },
  "language_info": {
   "codemirror_mode": {
    "name": "ipython",
    "version": 3
   },
   "file_extension": ".py",
   "mimetype": "text/x-python",
   "name": "python",
   "nbconvert_exporter": "python",
   "pygments_lexer": "ipython3",
   "version": "3.7.4"
  }
 },
 "nbformat": 4,
 "nbformat_minor": 4
}
