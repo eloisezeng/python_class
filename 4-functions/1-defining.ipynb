{
 "cells": [
  {
   "cell_type": "markdown",
   "metadata": {},
   "source": [
    "# Functions\n",
    "\n",
    "<p style='font-size:1.25rem;line-height:1.5'>\n",
    "    <b style=\"color:red\">Functions</b> allow us to neatly <b style=\"color:blue\">group sections of code together</b>, making it easier for programmers to understand, debug, and reuse code. \n",
    "    </p>\n",
    "\n",
    "<p style='font-size:1.25rem;line-height:1.5'>\n",
    "    You can use these code blocks, or functions, repeatedly, and in many different places in programs.\n",
    "    </p>"
   ]
  },
  {
   "cell_type": "markdown",
   "metadata": {},
   "source": [
    "# Preview\n",
    "\n",
    "<p style='font-size:1.25rem;line-height:1.5'>\n",
    "    <b style=\"color:red\">Why use functions?</b> They allow us to <b style=\"color:blue\">reuse code</b>. For example, let's print a greeting for Sam, Bob, and Jane. Without functions, we would have to print the <b>same greeting three times</b>, even though we only change one thing about each string.\n",
    "    </p>"
   ]
  },
  {
   "cell_type": "code",
   "execution_count": null,
   "metadata": {},
   "outputs": [],
   "source": [
    "print('Hello Sam, have a great day!')\n",
    "print('Hello Bob, have a great day!')\n",
    "print('Hello Jane, have a great day!')"
   ]
  },
  {
   "cell_type": "markdown",
   "metadata": {},
   "source": [
    "<p style='font-size:1.25rem;line-height:1.5'>\n",
    "    Run the code block below. It should print the same thing as above, but notice that this time, using a function, we only had to <b>write the greeting once</b> within the code.\n",
    "    </p>"
   ]
  },
  {
   "cell_type": "code",
   "execution_count": null,
   "metadata": {},
   "outputs": [],
   "source": [
    "def greet(name):\n",
    "    print('Hello ' + name + ', have a great day!')\n",
    "\n",
    "greet('Sam')\n",
    "greet('Bob')\n",
    "greet('Jane')"
   ]
  },
  {
   "cell_type": "markdown",
   "metadata": {},
   "source": [
    "# Defining a Function\n",
    "<p style='font-size:1.25rem;line-height:1.5'>\n",
    "    Let's start <b style=\"color:red\">creating functions!</b>\n",
    "    </p>\n",
    "<p style='font-size:1.25rem;line-height:1.5'>\n",
    "    To create a function, use the <b style=\"color:blue\">keyword</b> <code>def</code>, the <b style=\"color:blue\">function name</b>, <b style=\"color:blue\">parenthesis</b> <code>()</code>, and a <b style=\"color:blue\">colon</b> <code>:</code>. Function naming follows the same rules and conventions as naming variable. For example:\n",
    "    </p>\n",
    "\n",
    "```python\n",
    "def say_bye():\n",
    "```"
   ]
  },
  {
   "cell_type": "markdown",
   "metadata": {},
   "source": [
    "# Body of a Function \n",
    "<p style='font-size:1.25rem;line-height:1.5'>\n",
    "    A function also needs a <b style=\"color:red\">body</b>. The body of a function is the \"brains\", it <b style=\"color:blue\">does all the actual work</b> in a function. We indent the body of the function. For example, here is a complete function:\n",
    "    </p>"
   ]
  },
  {
   "cell_type": "code",
   "execution_count": null,
   "metadata": {},
   "outputs": [],
   "source": [
    "# Run this code block\n",
    "def say_bye():\n",
    "    print('Goodbye!')"
   ]
  },
  {
   "cell_type": "markdown",
   "metadata": {},
   "source": [
    "<p style='font-size:1.25rem;line-height:1.5'>\n",
    "    Define a function <code>say_hello()</code> that prints <code>Hello!</code> to the screen.\n",
    "    </p>"
   ]
  },
  {
   "cell_type": "code",
   "execution_count": 5,
   "metadata": {},
   "outputs": [],
   "source": [
    "# Define a function say_hello (look at previous example for help), and run the code block\n"
   ]
  },
  {
   "cell_type": "markdown",
   "metadata": {},
   "source": [
    "<p style='font-size:1.25rem;line-height:1.5'>\n",
    "    Notice that when we run the code blocks above, <b>nothing happens</b>. That's to be expected. We never told the function to execute! To tell the computer that we want to execute this function, we need to <b style=\"color:red\">call it.</b>\n",
    "    </p>"
   ]
  },
  {
   "cell_type": "markdown",
   "metadata": {},
   "source": [
    "# Calling a Function\n",
    "<p style='font-size:1.25rem;line-height:1.5'>\n",
    "    <b style=\"color:red\">Calling</b> a function tells the computer that we <b style=\"color:blue\">want to run the code</b> in the body of the function.\n",
    "    </p>\n",
    "<p style='font-size:1.25rem;line-height:1.5'>\n",
    "    Let's call our <code>say_bye</code> function. Notice that when we call this function, we simply write the <b style=\"color:blue\">name of the function</b>, followed by the <b style=\"color:blue\">parentheses</b>.\n",
    "    </p>"
   ]
  },
  {
   "cell_type": "code",
   "execution_count": null,
   "metadata": {},
   "outputs": [],
   "source": [
    "say_bye()"
   ]
  },
  {
   "cell_type": "markdown",
   "metadata": {},
   "source": [
    "<p style='font-size:1.25rem;line-height:1.5'>\n",
    "    Call your <code>say_hello</code> function below.\n",
    "    </p>"
   ]
  },
  {
   "cell_type": "code",
   "execution_count": 4,
   "metadata": {},
   "outputs": [],
   "source": [
    "# Call the say_hello function\n"
   ]
  },
  {
   "cell_type": "markdown",
   "metadata": {},
   "source": [
    "# Return\n",
    "<p style='font-size:1.25rem;line-height:1.5'>\n",
    "    The <b style=\"color:red\">return statement</b> <b style=\"color:blue\">\"gives back\"</b> the result (the output) to whatever initially called the function. Once the <code>return</code> statement is executed, the function will immediately end and return something. \n",
    "    </p>\n",
    "<p style='font-size:1.25rem;line-height:1.5'>\n",
    "If a function does not have a return statement, it returns <code>None</code>.\n",
    "    </p>"
   ]
  },
  {
   "cell_type": "markdown",
   "metadata": {},
   "source": [
    "<p style='font-size:1.25rem;line-height:1.5'>\n",
    "    Run the code block below.\n",
    "    </p>"
   ]
  },
  {
   "cell_type": "code",
   "execution_count": 6,
   "metadata": {},
   "outputs": [],
   "source": [
    "def get_five():\n",
    "    return 5"
   ]
  },
  {
   "cell_type": "markdown",
   "metadata": {},
   "source": [
    "<p style='font-size:1.25rem;line-height:1.5'>\n",
    "    Now we have defined a function <code>get_five</code> that returns <code>5</code>. Try calling the function and see what is output.\n",
    "    </p>"
   ]
  },
  {
   "cell_type": "code",
   "execution_count": 1,
   "metadata": {
    "scrolled": true
   },
   "outputs": [],
   "source": [
    "# Call the function five here\n"
   ]
  },
  {
   "cell_type": "markdown",
   "metadata": {},
   "source": [
    "<p style='font-size:1.25rem;line-height:1.5'>\n",
    "    Returning the number <code>5</code> every time we run this function is pretty cool, but can we get functions do something cooler by giving it inputs? We can do this by giving <b style=\"color:red\">arguments</b> to functions!\n",
    "    </p>\n",
    "______________________________________________________________________________________________________________________________________________________"
   ]
  }
 ],
 "metadata": {
  "kernelspec": {
   "display_name": "Python 3",
   "language": "python",
   "name": "python3"
  },
  "language_info": {
   "codemirror_mode": {
    "name": "ipython",
    "version": 3
   },
   "file_extension": ".py",
   "mimetype": "text/x-python",
   "name": "python",
   "nbconvert_exporter": "python",
   "pygments_lexer": "ipython3",
   "version": "3.7.4"
  }
 },
 "nbformat": 4,
 "nbformat_minor": 4
}
