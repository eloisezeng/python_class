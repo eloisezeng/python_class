{
 "cells": [
  {
   "cell_type": "markdown",
   "metadata": {},
   "source": [
    "# Absolute Value\n",
    "\n",
    "<p style='font-size:1.25rem;line-height:1.5'>\n",
    "    The absolute value of a number is its distance from 0. For example, the absolute value of 4 is 4, and the absolute value of -10 is 10. It is always the positive value of whatever is passed into it.\n",
    "    </p>    \n",
    "<p style='font-size:1.25rem;line-height:1.5'>\n",
    "    Write a function <code>absolute_value</code> that calculates the absolute value of a number passed into it.\n",
    "    </p>\n",
    "<p style='font-size:1.25rem;line-height:1.5'>\n",
    "    Hint: Use conditionals!\n",
    "    </p>"
   ]
  },
  {
   "cell_type": "code",
   "execution_count": null,
   "metadata": {},
   "outputs": [],
   "source": [
    "# Write your function here\n"
   ]
  },
  {
   "cell_type": "markdown",
   "metadata": {},
   "source": [
    "<p style='font-size:1.25rem;line-height:1.5'>\n",
    "    Now test your function on a few numbers. Try both positive and negative numbers!\n",
    "    </p>"
   ]
  },
  {
   "cell_type": "code",
   "execution_count": null,
   "metadata": {},
   "outputs": [],
   "source": [
    "# Test your function here\n"
   ]
  },
  {
   "cell_type": "markdown",
   "metadata": {},
   "source": [
    "<p style='font-size:1.25rem;line-height:1.5'>\n",
    "    By the way, Python has a built in functin <code>abs</code> which does this, but don't use it here!\n",
    "    </p>\n",
    "    \n",
    "# Basic Calculator\n",
    "\n",
    "<p style='font-size:1.25rem;line-height:1.5'>\n",
    "    Let's make a function that can do the four basic math operations. Have two arguements for the numbers, and pass in a third arguement that specifies the operation to be performed. For example, the following function multiplies or divides.\n",
    "    </p>"
   ]
  },
  {
   "cell_type": "code",
   "execution_count": null,
   "metadata": {},
   "outputs": [],
   "source": [
    "def multiply_or_divide(num1, num2, operation):\n",
    "    if operation == 'multiply':\n",
    "        return num1 * num2\n",
    "    elif operation == 'divide':\n",
    "        return float(num1) / num2  # convert to float to do normal division\n",
    "    else:\n",
    "        print(\"Invalid operation: please choose 'multiply' or 'divide'.\")"
   ]
  },
  {
   "cell_type": "markdown",
   "metadata": {},
   "source": [
    "<p style='font-size:1.25rem;line-height:1.5'>\n",
    "    Call the function <code>multiply_or_divide</code> to multiply 7 by 9.\n",
    "    </p>"
   ]
  },
  {
   "cell_type": "code",
   "execution_count": null,
   "metadata": {},
   "outputs": [],
   "source": [
    "# Multiply 7 by 9 using multiply_or_divide\n"
   ]
  },
  {
   "cell_type": "markdown",
   "metadata": {},
   "source": [
    "<p style='font-size:1.25rem;line-height:1.5'>\n",
    "    Now call the function again, but use it to divide any two numbers.\n",
    "    </p>"
   ]
  },
  {
   "cell_type": "code",
   "execution_count": null,
   "metadata": {},
   "outputs": [],
   "source": [
    "# Divide two numbers using multiply_or_divide\n"
   ]
  },
  {
   "cell_type": "markdown",
   "metadata": {},
   "source": [
    "<p style='font-size:1.25rem;line-height:1.5'>\n",
    "    Now let's make a basic calculator!\n",
    "    </p>\n",
    "<p style='font-size:1.25rem;line-height:1.5'>\n",
    "    Extend the <code>multiply_or_divide</code> function by making it able to add and subtract as well. We will name this new function <code>calculator</code>.\n",
    "    </p>"
   ]
  },
  {
   "cell_type": "code",
   "execution_count": null,
   "metadata": {},
   "outputs": [],
   "source": [
    "def calculator(num1, num2, operation):\n",
    "    if operation == 'multiply':\n",
    "        return num1 * num2\n",
    "    elif operation == 'divide':\n",
    "        return float(num1) / num2  # convert to float to do normal division\n",
    "    \n",
    "    # Add conditionals for addition and subtraction here\n",
    "    \n",
    "    \n",
    "    \n",
    "    \n",
    "    else:\n",
    "        print(\"Invalid operation\")"
   ]
  },
  {
   "cell_type": "markdown",
   "metadata": {},
   "source": [
    "<p style='font-size:1.25rem;line-height:1.5'>\n",
    "    Call the <code>calculator</code> function here! Add and subtract the numbers 6 and 7. You should get 13 and -1 respectively.\n",
    "    </p>"
   ]
  },
  {
   "cell_type": "code",
   "execution_count": null,
   "metadata": {},
   "outputs": [],
   "source": [
    "# Add 6 and 7 using calculator\n",
    "\n",
    "\n",
    "# Subtract 6 from 7 using calculator\n",
    "\n",
    "\n",
    "\n",
    "# Largest Number"
   ]
  },
  {
   "cell_type": "markdown",
   "metadata": {},
   "source": [
    "<p style='font-size:1.25rem;line-height:1.5'>\n",
    "    Let's say we want to write a function that finds the largest of four numbers. One way to do this is with four conditional statements, like this:\n",
    "    </p>"
   ]
  },
  {
   "cell_type": "code",
   "execution_count": null,
   "metadata": {},
   "outputs": [],
   "source": [
    "def largest_of_four(num1, num2, num3, num4):\n",
    "    if num1 > num2 and num1 > num3 and num1 > num4:\n",
    "        return num1\n",
    "    elif num2 > num3 and num2 > num4:\n",
    "        return num2\n",
    "    elif num3 > num4:\n",
    "        return num3\n",
    "    else:\n",
    "        return num4\n",
    "\n",
    "largest_of_four(5, 7, 3, 2)"
   ]
  },
  {
   "cell_type": "markdown",
   "metadata": {},
   "source": [
    "<p style='font-size:1.25rem;line-height:1.5'>\n",
    "    As we can see, the function returns the correct result, but it is a bit confusing to read. Let's try to make this function simpler and more readable by defining a <strong>helper function</strong>:\n",
    "    </p>"
   ]
  },
  {
   "cell_type": "code",
   "execution_count": null,
   "metadata": {},
   "outputs": [],
   "source": [
    "def largest_of_two(num1, num2):\n",
    "    if num1 > num2:\n",
    "        return num1\n",
    "    else:\n",
    "        return num2\n",
    "    \n",
    "largest_of_two(4, 2)"
   ]
  },
  {
   "cell_type": "markdown",
   "metadata": {},
   "source": [
    "<p style='font-size:1.25rem;line-height:1.5'>\n",
    "    We can call functions anywhere, even inside of other functions! Now let's use it in our <code>largest_of_four</code> function! <strong>Discuss</strong> with your partner how this function works.\n",
    "    </p>"
   ]
  },
  {
   "cell_type": "code",
   "execution_count": null,
   "metadata": {},
   "outputs": [],
   "source": [
    "def largest_of_four(num1, num2, num3, num4):\n",
    "    big1 = largest_of_two(num1, num2)\n",
    "    big2 = largest_of_two(num3, num4)\n",
    "    largest = largest_of_two(big1, big2)\n",
    "    return largest\n",
    "\n",
    "largest_of_four(5, 7, 3, 2)"
   ]
  },
  {
   "cell_type": "markdown",
   "metadata": {},
   "source": [
    "<p style='font-size:1.25rem;line-height:1.5'>\n",
    "    Let's go further! Make a <code>largest_of_ten</code> function using our <code>largest_of_four</code> and/or <code>largest_of_two</code> functions from above.\n",
    "    </p>"
   ]
  },
  {
   "cell_type": "code",
   "execution_count": null,
   "metadata": {},
   "outputs": [],
   "source": [
    "# Define your function here"
   ]
  },
  {
   "cell_type": "markdown",
   "metadata": {},
   "source": [
    "<p style='font-size:1.25rem;line-height:1.5'>\n",
    "    Call <code>largest_of_ten</code>, giving it the arguments:\n",
    "    </p>\n",
    "\n",
    "```\n",
    "78, 42, 14, 96, 64, 85, 94, 86, 64, 32\n",
    "```\n",
    "<p style='font-size:1.25rem;line-height:1.5'>\n",
    "    The function should return <code>96</code>.\n",
    "    </p>"
   ]
  },
  {
   "cell_type": "code",
   "execution_count": null,
   "metadata": {},
   "outputs": [],
   "source": [
    "# Call largest_of_ten on the above arguements\n"
   ]
  },
  {
   "cell_type": "markdown",
   "metadata": {},
   "source": [
    "<p style='font-size:1.25rem;line-height:1.5'>\n",
    "    By the way, Python has the built in functions <code>max</code> and <code>min</code> which find the largest and smallest number for any number of arguments.\n",
    "    </p>"
   ]
  }
 ],
 "metadata": {
  "kernelspec": {
   "display_name": "Python 3",
   "language": "python",
   "name": "python3"
  },
  "language_info": {
   "codemirror_mode": {
    "name": "ipython",
    "version": 3
   },
   "file_extension": ".py",
   "mimetype": "text/x-python",
   "name": "python",
   "nbconvert_exporter": "python",
   "pygments_lexer": "ipython3",
   "version": "3.7.4"
  }
 },
 "nbformat": 4,
 "nbformat_minor": 4
}
