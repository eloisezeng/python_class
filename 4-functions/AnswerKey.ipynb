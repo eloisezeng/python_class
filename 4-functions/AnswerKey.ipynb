{
 "cells": [
  {
   "cell_type": "markdown",
   "metadata": {},
   "source": [
    "# Answer Key to Chess_functions"
   ]
  },
  {
   "cell_type": "markdown",
   "metadata": {},
   "source": [
    "<div> <img src=\"https://www.redgreencode.com/wp-content/uploads/2016/02/ChessBoard_Solution3Rotation90.png\" alt=\"Drawing\" style=\"width: 1500;\"/> </div>"
   ]
  },
  {
   "cell_type": "markdown",
   "metadata": {},
   "source": [
    "## Rook Move"
   ]
  },
  {
   "cell_type": "code",
   "execution_count": null,
   "metadata": {},
   "outputs": [],
   "source": [
    "def rook_move(row, column, new_row, new_column):\n",
    "    if row == new_row or column == new_column:\n",
    "        return \"YES\"\n",
    "    else:\n",
    "        return \"NO\"\n",
    "        \n",
    "rook_move(1, 1, 1, 2) ## Test with different numbers"
   ]
  },
  {
   "cell_type": "markdown",
   "metadata": {},
   "source": [
    "## Bishop Move"
   ]
  },
  {
   "cell_type": "code",
   "execution_count": null,
   "metadata": {},
   "outputs": [],
   "source": [
    "# Solution without using the absolute value function: abs()\n",
    "def bishop_move(row, column, new_row, new_column):\n",
    "    if row - new_row == column - new_column or row - new_row == new_column - column:\n",
    "        return \"YES\"\n",
    "    else:\n",
    "        return \"NO\"\n",
    "\n",
    "bishop_move(1, 1, 1, 2) ## Test with different numbers"
   ]
  },
  {
   "cell_type": "code",
   "execution_count": null,
   "metadata": {},
   "outputs": [],
   "source": [
    "# Solution using abs()\n",
    "def bishop_move(row, column, new_row, new_column):\n",
    "    if abs(row - new_row) == abs(column - new_column):\n",
    "        return \"YES\"\n",
    "    else:\n",
    "        return \"NO\"\n",
    "\n",
    "bishop_move(1, 1, 1, 2) ## Test with different numbers"
   ]
  },
  {
   "cell_type": "markdown",
   "metadata": {},
   "source": [
    "## King Move"
   ]
  },
  {
   "cell_type": "code",
   "execution_count": null,
   "metadata": {},
   "outputs": [],
   "source": [
    "# Solution without using abs()\n",
    "def king_move(row, column, new_row, new_column):\n",
    "    if (row - new_row < 2 and column - new_column < 2 and \n",
    "        row - new_row > -2 and column - new_column > -2):\n",
    "        return \"YES\"\n",
    "    else:\n",
    "        return \"NO\"\n",
    "\n",
    "king_move(1, 1, 1, 2) # Test with different numbers"
   ]
  },
  {
   "cell_type": "code",
   "execution_count": null,
   "metadata": {},
   "outputs": [],
   "source": [
    "# Solution using abs()\n",
    "def king_move(row, column, new_row, new_column):\n",
    "    if abs(row - new_row) < 2 and abs(column - new_column) < 2:\n",
    "        return \"YES\"\n",
    "    else:\n",
    "        return \"NO\"\n",
    "\n",
    "king_move(1, 1, 1, 2) # Test with different numbers"
   ]
  },
  {
   "cell_type": "markdown",
   "metadata": {},
   "source": [
    "## Queen Move"
   ]
  },
  {
   "cell_type": "code",
   "execution_count": null,
   "metadata": {},
   "outputs": [],
   "source": [
    "# Solution without using abs()\n",
    "def queen_move(row, column, new_row, new_column):\n",
    "    if (row == new_row or column == new_column or \n",
    "        row - new_row == column - new_column or\n",
    "        row - new_row == new_column - column):\n",
    "        return \"YES\"\n",
    "    else:\n",
    "        return \"NO\"\n",
    "\n",
    "queen_move(1, 1, 1, 2) ## Test with different numbers"
   ]
  },
  {
   "cell_type": "code",
   "execution_count": null,
   "metadata": {},
   "outputs": [],
   "source": [
    "# Solution using abs()\n",
    "def queen_move(row, column, new_row, new_column):\n",
    "    if (row == new_row or column == new_column or\n",
    "        abs(row - new_row) == abs(column - new_column)):\n",
    "        return \"YES\"\n",
    "    else:\n",
    "        return \"NO\"\n",
    "\n",
    "queen_move(1, 1, 1, 2) ## Test with different numbers"
   ]
  },
  {
   "cell_type": "markdown",
   "metadata": {},
   "source": [
    "## Knight Move"
   ]
  },
  {
   "cell_type": "code",
   "execution_count": null,
   "metadata": {},
   "outputs": [],
   "source": [
    "# Solution using abs()\n",
    "def knight_move(row, column, new_row, new_column):\n",
    "    if (abs(row - new_row) == 2 and abs(column - new_column) == 1 or\n",
    "        abs(row - new_row) == 1 and abs(column - new_column) == 2):\n",
    "        return \"YES\"\n",
    "    else:\n",
    "        return \"NO\"\n",
    "        \n",
    "knight_move(1, 1, 1, 2) ## Test with different numbers"
   ]
  }
 ],
 "metadata": {
  "kernelspec": {
   "display_name": "Python 3",
   "language": "python",
   "name": "python3"
  },
  "language_info": {
   "codemirror_mode": {
    "name": "ipython",
    "version": 3
   },
   "file_extension": ".py",
   "mimetype": "text/x-python",
   "name": "python",
   "nbconvert_exporter": "python",
   "pygments_lexer": "ipython3",
   "version": "3.7.4"
  }
 },
 "nbformat": 4,
 "nbformat_minor": 4
}
