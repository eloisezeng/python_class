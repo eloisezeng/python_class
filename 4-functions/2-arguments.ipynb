{
 "cells": [
  {
   "cell_type": "markdown",
   "metadata": {},
   "source": [
    "# Arguments\n",
    "<p style='font-size:1.25rem;line-height:1.5'>\n",
    "    An <b style=\"color:red\">argument</b> is an <b style=\"color:blue\">input variable</b> we give to a function so that the function can use it.\n",
    "    </p>\n",
    "    \n",
    "<p style='font-size:1.25rem;line-height:1.5'>\n",
    "    For example, in the code block below, we created the function <code>add_to_pi</code>, which takes in the argument <code>number</code>. The function then adds pi, approximately <code>3.14159</code>, to the number we passed in as the argument.\n",
    "    </p>\n",
    "<p style='font-size:1.25rem;line-height:1.5'>\n",
    "    Now we can use this function to <b>add any number to pi!</b>\n",
    "    </p>"
   ]
  },
  {
   "cell_type": "code",
   "execution_count": null,
   "metadata": {},
   "outputs": [],
   "source": [
    "def add_to_pi(number):\n",
    "    pi_sum = number + 3.14159 # add a number to pi\n",
    "    return pi_sum\n",
    "\n",
    "print(add_to_pi(1))"
   ]
  },
  {
   "cell_type": "markdown",
   "metadata": {},
   "source": [
    "<p style='font-size:1.25rem;line-height:1.5'>\n",
    "    Let's <b style=\"color:red\">call</b> our <code>add_to_pi</code> function on the number <code>200</code>.\n",
    "    </p>\n",
    "\n",
    "<p style='font-size:1.25rem;line-height:1.5'>\n",
    "    Notice that we include the arguments within the parenthesis. In this case, our function accepts only <b>one argument</b>, which we give as <code>200</code>.\n",
    "    </p>"
   ]
  },
  {
   "cell_type": "code",
   "execution_count": null,
   "metadata": {},
   "outputs": [],
   "source": [
    "add_to_pi(200)"
   ]
  },
  {
   "cell_type": "markdown",
   "metadata": {},
   "source": [
    "<p style='font-size:1.25rem;line-height:1.5'>\n",
    "    Call the function <code>add_to_pi</code> from above and pass in a number of your choice!\n",
    "    </p>"
   ]
  },
  {
   "cell_type": "code",
   "execution_count": null,
   "metadata": {},
   "outputs": [],
   "source": [
    "# Call add_to_pi on a number of your choice\n"
   ]
  },
  {
   "cell_type": "markdown",
   "metadata": {},
   "source": [
    "<p style='font-size:1.25rem;line-height:1.5'>\n",
    "    Write a function that multiplies the input by <code>365</code>, and returns the result.\n",
    "    </p>\n",
    "<p style='font-size:1.25rem;line-height:1.5'>\n",
    "    (What do you think a good name for this function would be?)\n",
    "    </p>"
   ]
  },
  {
   "cell_type": "code",
   "execution_count": null,
   "metadata": {},
   "outputs": [],
   "source": [
    "# Write your function here\n"
   ]
  },
  {
   "cell_type": "markdown",
   "metadata": {},
   "source": [
    "<p style='font-size:1.25rem;line-height:1.5'>\n",
    "    Now call your function, giving it the input <code>7</code>.  If the function is written and called correctly, we should get the result <code>2555</code>.\n",
    "    </p>"
   ]
  },
  {
   "cell_type": "code",
   "execution_count": null,
   "metadata": {},
   "outputs": [],
   "source": [
    "# Call your function\n"
   ]
  },
  {
   "cell_type": "markdown",
   "metadata": {},
   "source": [
    "# Multiple Arguments\n",
    "<p style='font-size:1.25rem;line-height:1.5'>\n",
    "    Functions can also have <b style=\"color:red\">multiple arguments</b>. Below is an example of a function with two inputs. This function adds the two input numbers and returns the sum.\n",
    "    </p>"
   ]
  },
  {
   "cell_type": "code",
   "execution_count": null,
   "metadata": {},
   "outputs": [],
   "source": [
    "def add_two_nums(num1, num2):\n",
    "    ans = num1 + num2\n",
    "    return ans"
   ]
  },
  {
   "cell_type": "markdown",
   "metadata": {},
   "source": [
    "<p style='font-size:1.25rem;line-height:1.5'>\n",
    "    Now, we can pick <strong>any two numbers</strong> we want and add them! Notice how the two number <strong>arguments</strong> are separated by a <strong>comma</strong>. \n",
    "    </p>"
   ]
  },
  {
   "cell_type": "markdown",
   "metadata": {},
   "source": [
    "<p style='font-size:1.25rem;line-height:1.5'>\n",
    "    Let's call this function now, giving it the arguments <code>7</code> and <code>5</code>.\n",
    "    </p>"
   ]
  },
  {
   "cell_type": "code",
   "execution_count": null,
   "metadata": {},
   "outputs": [],
   "source": [
    "add_two_nums(7, 5)"
   ]
  },
  {
   "cell_type": "markdown",
   "metadata": {},
   "source": [
    "<p style='font-size:1.25rem;line-height:1.5'>\n",
    "    A function can also take in as many arguments as we want!\n",
    "    </p>"
   ]
  },
  {
   "cell_type": "code",
   "execution_count": null,
   "metadata": {},
   "outputs": [],
   "source": [
    "def add_four_nums(num1, num2, num3, num4):\n",
    "    ans = num1 + num2 + num3 + num4\n",
    "    return ans\n",
    "\n",
    "add_four_nums(1, 2, 3, 4)"
   ]
  },
  {
   "cell_type": "markdown",
   "metadata": {},
   "source": [
    "<p style='font-size:1.25rem;line-height:1.5'>\n",
    "    Now it's your turn! Define a function that takes in two numbers and multiplies them together.\n",
    "    </p>"
   ]
  },
  {
   "cell_type": "code",
   "execution_count": null,
   "metadata": {},
   "outputs": [],
   "source": [
    "# Define your function here\n"
   ]
  },
  {
   "cell_type": "markdown",
   "metadata": {},
   "source": [
    "<p style='font-size:1.25rem;line-height:1.5'>\n",
    "    Call your function on two numbers of your choice.\n",
    "    </p>"
   ]
  },
  {
   "cell_type": "code",
   "execution_count": null,
   "metadata": {},
   "outputs": [],
   "source": [
    "# Call your function\n"
   ]
  }
 ],
 "metadata": {
  "kernelspec": {
   "display_name": "Python 3",
   "language": "python",
   "name": "python3"
  },
  "language_info": {
   "codemirror_mode": {
    "name": "ipython",
    "version": 3
   },
   "file_extension": ".py",
   "mimetype": "text/x-python",
   "name": "python",
   "nbconvert_exporter": "python",
   "pygments_lexer": "ipython3",
   "version": "3.7.4"
  }
 },
 "nbformat": 4,
 "nbformat_minor": 4
}
