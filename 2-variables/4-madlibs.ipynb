{
 "cells": [
  {
   "cell_type": "markdown",
   "metadata": {},
   "source": [
    "# Madlibs\n",
    "<ul style='font-size:1.2rem;line-height:1.5'>\n",
    "    <li>Ask the user to input parts of speech (e.g. verbs, adjectives).</li>\n",
    "    <li>Store these inputs in variables. </li>\n",
    "    <li>Print the resulting story!</li>\n",
    "    <li>There is an example in example_madlibs.ipynb</li>\n",
    "</ul>\n",
    "\n",
    "## You may use: \n",
    "- **input function** <br>\n",
    "```python\n",
    ">>> age = input(\"How old are you? \")\n",
    ">>> print(\"You are \" + age + \" years old.\")\n",
    "```\n",
    "```raw \n",
    "How old are you? 21\n",
    "You are 21 years old.\n",
    "``` \n",
    "<br>\n",
    "- **print function**\n",
    "```python\n",
    ">>> print(\"Hi.\")\n",
    "Hi.\n",
    "```\n",
    "<br>\n",
    "- **concatenation (adding strings together)**\n",
    "```python\n",
    ">>> animal = \"bird\"\n",
    ">>> print(\"Big \" + animal)\n",
    "Big bird\n",
    "``` \n",
    "<br>\n",
    "- **escape characters**\n",
    "<code>\"\\n\"</code>, <code>\"\\t\"</code>, <code>\"\\\\\"\"</code>, <code>\"\\\\'\"</code>"
   ]
  },
  {
   "cell_type": "code",
   "execution_count": 1,
   "metadata": {},
   "outputs": [],
   "source": [
    "# Write your code here!\n",
    "\n",
    "\n",
    "\n",
    "\n",
    "\n"
   ]
  },
  {
   "cell_type": "markdown",
   "metadata": {},
   "source": [
    "---------------------------------------------------------------------------------------------------------\n",
    "### Extra functions you can use!\n",
    "- **convert strings to integers or floats**\n",
    "```python\n",
    ">>> number = input(\"Number: \") # number is a string\n",
    ">>> print(\"ha\" * int(number)) # convert number to an int\n",
    "hahahahahahaha\n",
    "``` \n"
   ]
  },
  {
   "cell_type": "code",
   "execution_count": null,
   "metadata": {},
   "outputs": [],
   "source": [
    "# Run this cell for an example\n",
    "number = 7\n",
    "print(\"h\" + \"i\" * int(number))"
   ]
  },
  {
   "cell_type": "markdown",
   "metadata": {},
   "source": [
    "- **string functions** <br>\n",
    "[variable name].title() \t capitalizes the first letter of each word <br>\n",
    "[variable name].upper() \t ALL CAPS <br>\n",
    "[variable name]. lower() \t all lowercase <br>"
   ]
  },
  {
   "cell_type": "code",
   "execution_count": null,
   "metadata": {},
   "outputs": [],
   "source": [
    "# Run this cell for an example of string functions\n",
    "order = \"Alberto wants food\"\n",
    "print(order.upper())\n",
    "print(order.lower())\n",
    "print(order.title())"
   ]
  }
 ],
 "metadata": {
  "kernelspec": {
   "display_name": "Python 3",
   "language": "python",
   "name": "python3"
  },
  "language_info": {
   "codemirror_mode": {
    "name": "ipython",
    "version": 3
   },
   "file_extension": ".py",
   "mimetype": "text/x-python",
   "name": "python",
   "nbconvert_exporter": "python",
   "pygments_lexer": "ipython3",
   "version": "3.7.4"
  }
 },
 "nbformat": 4,
 "nbformat_minor": 4
}
