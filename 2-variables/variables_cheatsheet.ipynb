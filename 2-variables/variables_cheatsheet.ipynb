{
 "cells": [
  {
   "cell_type": "markdown",
   "metadata": {},
   "source": [
    "### Variable Assignment"
   ]
  },
  {
   "cell_type": "code",
   "execution_count": 6,
   "metadata": {},
   "outputs": [
    {
     "name": "stdout",
     "output_type": "stream",
     "text": [
      "1\n"
     ]
    }
   ],
   "source": [
    "# Run this cell to confirm that 1 is assigned to 1 \n",
    "x = 1\n",
    "print(x)"
   ]
  },
  {
   "cell_type": "markdown",
   "metadata": {},
   "source": [
    "### Naming Variables\n",
    "- Can only contain letters (a–z, A–Z), digits (0–9), and the underscore _\n",
    "- CANNOT begin with numbers\n",
    "- CANNOT contain spaces or other symbols\n",
    "- CANNOT use Python keywords (ie. True, False, None, is, not, and, or, for, if, elif, else, def)\n",
    "\n",
    "### Naming Convention: snake_case\n",
    "Examples: \n",
    "```python \n",
    "last_name = \"Hardy\"\n",
    "favorite_number = 7\n",
    "you_are_hungry = True\n",
    "```\n",
    "### Reassignment\n",
    "x = x + 1\n",
    "\n",
    "### Assignment Operations\n",
    "- +=\tfor example:\t x += 1\t   → \tx = x + 1\n",
    "- -=\tfor example:\t x -= 2 \t   → \tx = x - 2\n",
    "- *=\tfor example:\t x *= 3    → \tx = x * 3\n",
    "- /=\tfor example:\t x /= 4    → \tx = x / 4\n",
    "- %=\tfor example:\t x += 5   → \tx = x + 5\n",
    "\n",
    "### String Functions\n",
    "- [variable name].title() \t capitalizes the first letter of each word\n",
    "```python\n",
    ">>> fun_fact = \"alberto likes food\"\n",
    ">>> print(fun_fact.title())\n",
    "Alberto Likes Food \n",
    "```\n",
    "\n",
    "-[variable name].upper() \t ALL CAPS\n",
    "```python\n",
    ">>> order = \"Alberto wants food\"\n",
    ">>> print(order.upper())\n",
    "ALBERTO WANTS FOOD \n",
    "``` \n",
    "\n",
    "-[variable name]. lower() \t all lowercase\n",
    "```python\n",
    ">>> text = \"I WAnT A ReFUnd\"\n",
    ">>> print(text.lower())\n",
    "i want a refund\n",
    "```\n",
    "\n",
    "### Input Function\n",
    "```python\n",
    ">>> name = input(\"Name: \")\n",
    ">>> print(name)\n",
    "Name: 笨蛋\n",
    "笨蛋\n",
    "```"
   ]
  },
  {
   "cell_type": "code",
   "execution_count": null,
   "metadata": {},
   "outputs": [],
   "source": []
  }
 ],
 "metadata": {
  "kernelspec": {
   "display_name": "Python 3",
   "language": "python",
   "name": "python3"
  },
  "language_info": {
   "codemirror_mode": {
    "name": "ipython",
    "version": 3
   },
   "file_extension": ".py",
   "mimetype": "text/x-python",
   "name": "python",
   "nbconvert_exporter": "python",
   "pygments_lexer": "ipython3",
   "version": "3.7.4"
  }
 },
 "nbformat": 4,
 "nbformat_minor": 4
}
