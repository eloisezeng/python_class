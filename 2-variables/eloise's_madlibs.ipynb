{
 "cells": [
  {
   "cell_type": "markdown",
   "metadata": {},
   "source": [
    "# Madlibs\n",
    "\n",
    "### Below is an example game:"
   ]
  },
  {
   "cell_type": "code",
   "execution_count": null,
   "metadata": {},
   "outputs": [],
   "source": [
    "# MAKE EASIER ONE"
   ]
  },
  {
   "cell_type": "markdown",
   "metadata": {},
   "source": [
    "### Here's a more complex one with more literal characters or backslashes."
   ]
  },
  {
   "cell_type": "code",
   "execution_count": 2,
   "metadata": {},
   "outputs": [
    {
     "name": "stdin",
     "output_type": "stream",
     "text": [
      "Item:  shoe\n",
      "Name:  Henry\n",
      "Number:  2\n",
      "Body part:  leg\n",
      "Expensive item (plural):  bag\n",
      "Male name:  bobby\n",
      "Emotion:  sad\n",
      "Past Tense Verb (ex: pushed, ate, threw) pushed\n"
     ]
    },
    {
     "name": "stdout",
     "output_type": "stream",
     "text": [
      "\n",
      "\"I'm only giving back your shoe if you hear my sob story,\" said Henry. \n",
      "\"2 years ago, I decided to get my leg chopped off-- 2 times. I stole all of bobby's bag and smashed them to bits.\"\n",
      "bobby was sad. He pushed Henry and snatched the shoe out of Henry's hands. Then he said, \"YEAHHHH! Good job, bobby, you did it again!\"\n"
     ]
    }
   ],
   "source": [
    "item = input(\"Item: \")\n",
    "name2 = input(\"Name: \")\n",
    "number = input(\"Number: \")\n",
    "body_part = input(\"Body part: \")\n",
    "expensive = input(\"Expensive item (plural): \")\n",
    "name = input(\"Male name: \")\n",
    "emotion = input(\"Emotion: \")\n",
    "past_tense = input(\"Past Tense Verb (ex: pushed, ate, threw)\")\n",
    "\n",
    "print(\"\\n\\\"I'm only giving back your \" + item + \" if you hear my sob story,\\\" said \" + name2 + \". \\n\\\"\" +\n",
    "      number + \" years ago, I decided to get my \" + body_part + \" chopped off-- \" + number + \n",
    "      \" times. I stole all of \" + name + \"'s \"+ expensive + \" and smashed them to bits.\\\"\\n\" \n",
    "      + name + \" was \" + emotion + \". He \"\n",
    "      + past_tense + \" \"+ name2 + \" and snatched the \" + item + \" out of \" + \n",
    "      name2 + \"'s hands. Then he said, \\\"YEAHHHH! Good job, \" + name + \", you did it again!\\\"\")"
   ]
  },
  {
   "cell_type": "code",
   "execution_count": null,
   "metadata": {},
   "outputs": [],
   "source": []
  }
 ],
 "metadata": {
  "kernelspec": {
   "display_name": "Python 3",
   "language": "python",
   "name": "python3"
  },
  "language_info": {
   "codemirror_mode": {
    "name": "ipython",
    "version": 3
   },
   "file_extension": ".py",
   "mimetype": "text/x-python",
   "name": "python",
   "nbconvert_exporter": "python",
   "pygments_lexer": "ipython3",
   "version": "3.7.4"
  }
 },
 "nbformat": 4,
 "nbformat_minor": 4
}
