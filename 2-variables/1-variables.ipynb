{
 "cells": [
  {
   "cell_type": "markdown",
   "metadata": {},
   "source": [
    "# Variables\n",
    "\n",
    "<p style='font-size:1.25rem;line-height:1.5'>\n",
    "    Imagine that you have <b style=\"color:red\">data that changes over time</b> (e.g. racecar speed, direction), or that you want to write code that is <b style=\"color:red\">easy to reuse</b>.\n",
    "    </p>\n",
    "    \n",
    "<p style='font-size:1.25rem;line-height:1.5'>\n",
    "    We can use placeholders, or <b style=\"color:blue\">variables</b>. Variables allow us to save and change data throughout a program.\n",
    "    </p>\n",
    "    \n",
    "<p style='font-size:1.25rem;line-height:1.5'>\n",
    "    In this lab, we will be learning how to <b style=\"color:blue\">define and use variables</b> in Python.\n",
    "    </p>"
   ]
  },
  {
   "cell_type": "markdown",
   "metadata": {},
   "source": [
    "# Assignment\n",
    "\n",
    "<p style='font-size:1.25rem;line-height:1.5'>\n",
    "    We can use the <b style=\"color:blue\">assignment operator</b> <code>=</code> to assign values (of any data type) to variables. \n",
    "    <br>For example:\n",
    "    </p>\n",
    "<ul style='font-size:1.25rem;line-height:1.5'>\n",
    "    <li><code>name = 'Augustus'</code></li>\n",
    "    <li><code>age = 26</code></li>\n",
    "    <li><code>glasses = True</code></li>\n",
    "</ul>"
   ]
  },
  {
   "cell_type": "markdown",
   "metadata": {},
   "source": [
    "<p style='font-size:1.25rem;line-height:1.5'>\n",
    "    Assign a grade (string, integer, or float) to a variable called <code>grade</code>. Then print the variable.\n",
    "    </p>"
   ]
  },
  {
   "cell_type": "code",
   "execution_count": null,
   "metadata": {},
   "outputs": [],
   "source": [
    "# Start your code here\n",
    "\n"
   ]
  },
  {
   "cell_type": "markdown",
   "metadata": {},
   "source": [
    "# Using Variables\n",
    "\n",
    "<p style='font-size:1.25rem;line-height:1.5'>\n",
    "    Once we have assigned a variable, we can <b style=\"color:blue\">use it in place of that value!</b>\n",
    "    </p>"
   ]
  },
  {
   "cell_type": "markdown",
   "metadata": {},
   "source": [
    "<p style='font-size:1.25rem;line-height:1.5'>\n",
    "    Set the variable <code>x</code> to a number. Then multiply <code>x</code> by 2 and print the result.\n",
    "    </p>"
   ]
  },
  {
   "cell_type": "code",
   "execution_count": null,
   "metadata": {},
   "outputs": [],
   "source": [
    "# Assign x to a number\n",
    "\n",
    "\n",
    "# Print x multiplied by 2\n",
    "\n"
   ]
  },
  {
   "cell_type": "markdown",
   "metadata": {},
   "source": [
    "<p style='font-size:1.25rem;line-height:1.5'>\n",
    "    Set the variable <code>name</code> to your name (a string). Then print <code>'Hello ' + name + '!'</code>\n",
    "    </p>"
   ]
  },
  {
   "cell_type": "code",
   "execution_count": null,
   "metadata": {
    "scrolled": true
   },
   "outputs": [],
   "source": [
    "# Assign name to a string\n",
    "\n",
    "\n",
    "# Print out 'Hello ' + name + '!'\n",
    "\n"
   ]
  },
  {
   "cell_type": "markdown",
   "metadata": {},
   "source": [
    "# Naming Variables\n",
    "<p style='font-size:1.25rem;line-height:1.5'>\n",
    "    A variable name can only contain letters (a&ndash;z, A&ndash;Z), digits (0&ndash;9), and the underscore <code>_</code>. Note that variable names <b style=\"color:red\">cannot begin with numbers</b> and <b style=\"color:red\">cannot contain spaces</b>. For example:\n",
    "    </p>\n",
    "    \n",
    "<ul style='font-size:1.25rem;line-height:1.5'>\n",
    "    <li>Valid variable names: <code>GPA</code>, <code>student_1</code>, <code>_bEaVeR_w0rKs_</code>\n",
    "    <li>Invalid variable names: <code>1_student</code>, <code>Beaver Works</code>, <code>&euro;&bdquo;&lsaquo;&acute;&permil;</code>\n",
    "</ul>"
   ]
  },
  {
   "cell_type": "markdown",
   "metadata": {},
   "source": [
    "<p style='font-size:1.25rem;line-height:1.5'>\n",
    "    Assign a number to a variable name with letters, digits, and an underscore <code>_</code>.\n",
    "    </p>"
   ]
  },
  {
   "cell_type": "code",
   "execution_count": null,
   "metadata": {},
   "outputs": [],
   "source": [
    "# Start your code here\n",
    "\n"
   ]
  },
  {
   "cell_type": "markdown",
   "metadata": {},
   "source": [
    "<p style='font-size:1.25rem;line-height:1.5'>\n",
    "    Assign a string to a variable name with only upper case letters.\n",
    "    </p>"
   ]
  },
  {
   "cell_type": "code",
   "execution_count": null,
   "metadata": {},
   "outputs": [],
   "source": [
    "# Start your code here\n",
    "\n"
   ]
  },
  {
   "cell_type": "markdown",
   "metadata": {},
   "source": [
    "<p style='font-size:1.25rem;line-height:1.5'>\n",
    "    Now print the two variables you made!\n",
    "    </p>"
   ]
  },
  {
   "cell_type": "code",
   "execution_count": 4,
   "metadata": {},
   "outputs": [],
   "source": [
    "# Start your code here\n"
   ]
  },
  {
   "cell_type": "markdown",
   "metadata": {},
   "source": [
    "# Other Restrictions\n",
    "\n",
    "<p style='font-size:1.25rem;line-height:1.5'>\n",
    "    <b style=\"color:red\">Variables also cannot be Python keywords.</b> For example, don't name your variables:\n",
    "    </p>\n",
    "\n",
    "```python\n",
    "True, False, None, is, not, and, or, for, if, elif, else, def\n",
    "```\n",
    "\n",
    "<p style='font-size:1.25rem;line-height:1.5'>\n",
    "    There are many others. These words should turn <b style=\"color:green\">green</b> when you type them, which should help you know not to use them.\n",
    "    </p>\n",
    "<p style='font-size:1.25rem;line-height:1.5'>\n",
    "    You should also not use names already used in Python, such as <code>str</code> or <code>int</code>, although they are technically allowed.\n",
    "    </p>"
   ]
  },
  {
   "cell_type": "markdown",
   "metadata": {},
   "source": [
    "<p style='font-size:1.25rem;line-height:1.5'>\n",
    "    Which of the following are valid variable names? First think with your partner and then run each code block to see if you get an error.\n",
    "    </p>"
   ]
  },
  {
   "cell_type": "code",
   "execution_count": null,
   "metadata": {},
   "outputs": [],
   "source": [
    "_test1 = 10"
   ]
  },
  {
   "cell_type": "code",
   "execution_count": null,
   "metadata": {},
   "outputs": [],
   "source": [
    "2test = \"is this valid?\""
   ]
  },
  {
   "cell_type": "code",
   "execution_count": null,
   "metadata": {
    "scrolled": true
   },
   "outputs": [],
   "source": [
    "True = False"
   ]
  },
  {
   "cell_type": "code",
   "execution_count": null,
   "metadata": {
    "scrolled": true
   },
   "outputs": [],
   "source": [
    "# Don't do this! \n",
    "# If you want to run this cell make sure to go to Kernel on the top left corner.\n",
    "# Then click restart kernel to erase what the variables were assigned to.\n",
    "float = int\n",
    "float(3.99)"
   ]
  },
  {
   "cell_type": "markdown",
   "metadata": {},
   "source": [
    "# Naming Conventions\n",
    "\n",
    "<p style='font-size:1.25rem;line-height:1.5'>\n",
    "    There are <b style=\"color:blue\">two main naming conventions</b> for variable names with multiple words:\n",
    "    </p>\n",
    "<ul style='font-size:1.25rem;line-height:1.5'>\n",
    "    <li><code>camelCase</code>: First word is lower case and following words are capitalized.</li>\n",
    "    <li><code>snake_case</code>: All words are lower case and separated by underscores.</li>\n",
    "</ul>\n",
    "<p style='font-size:1.25rem;line-height:1.5'>\n",
    "    In Python, we typically use <code>snake_case</code>.\n",
    "    </p>"
   ]
  },
  {
   "cell_type": "markdown",
   "metadata": {},
   "source": [
    "<p style='font-size:1.25rem;line-height:1.5'> \n",
    "Create a variable name with the words <code>fav</code> and <code>song</code>, combining the two words in snake_case style. Then, assign and print a string of your favorite song to this variable! (Please don't say Baby Shark)\n",
    "    </p>"
   ]
  },
  {
   "cell_type": "code",
   "execution_count": null,
   "metadata": {},
   "outputs": [],
   "source": [
    "# Start your code here\n",
    "\n"
   ]
  }
 ],
 "metadata": {
  "kernelspec": {
   "display_name": "Python 3",
   "language": "python",
   "name": "python3"
  },
  "language_info": {
   "codemirror_mode": {
    "name": "ipython",
    "version": 3
   },
   "file_extension": ".py",
   "mimetype": "text/x-python",
   "name": "python",
   "nbconvert_exporter": "python",
   "pygments_lexer": "ipython3",
   "version": "3.7.4"
  }
 },
 "nbformat": 4,
 "nbformat_minor": 4
}
