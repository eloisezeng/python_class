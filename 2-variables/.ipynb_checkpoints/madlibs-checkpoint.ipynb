{
 "cells": [
  {
   "cell_type": "markdown",
   "metadata": {},
   "source": [
    "# Madlibs\n",
    "\n",
    "1. Ask the user to input parts of speech (e.g. verbs, adjectives).\n",
    "2. Store these inputs in variables. \n",
    "3. Print the resulting story!\n",
    "\n",
    "## You may use: \n",
    "- **input function**\n",
    "```python\n",
    ">>> name = input(\"Name: \") \n",
    "``` \n",
    "<br>\n",
    "- **print function**\n",
    "```python\n",
    ">>> print(\"Hi.\")\n",
    "Hi.\n",
    "```\n",
    "<br>\n",
    "- **concatenation (adding strings together)**\n",
    "```python\n",
    ">>> animal = \"bird\"\n",
    ">>> print(\"Big \" + animal)\n",
    "Big bird\n",
    "```\n",
    "<br>\n",
    "- **convert strings to integers or floats**\n",
    "```python\n",
    ">>> number = 7\n",
    ">>> print(\"ha\" * int(number))\n",
    "hahahahahahaha\n",
    "``` \n",
    "<br>\n",
    "- **string functions**\n",
    "[variable name].title() \t capitalizes the first letter of each word <br>\n",
    "[variable name].upper() \t ALL CAPS <br>\n",
    "[variable name]. lower() \t all lowercase <br>"
   ]
  },
  {
   "cell_type": "code",
   "execution_count": 2,
   "metadata": {},
   "outputs": [],
   "source": [
    "# Write code here!"
   ]
  }
 ],
 "metadata": {
  "kernelspec": {
   "display_name": "Python 3",
   "language": "python",
   "name": "python3"
  },
  "language_info": {
   "codemirror_mode": {
    "name": "ipython",
    "version": 3
   },
   "file_extension": ".py",
   "mimetype": "text/x-python",
   "name": "python",
   "nbconvert_exporter": "python",
   "pygments_lexer": "ipython3",
   "version": "3.7.4"
  }
 },
 "nbformat": 4,
 "nbformat_minor": 4
}
