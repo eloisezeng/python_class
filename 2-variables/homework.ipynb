{
 "cells": [
  {
   "cell_type": "markdown",
   "metadata": {},
   "source": [
    "# Week 3 Variables\n",
    "<p style='font-size:1.25rem;line-height:1.5'>\n",
    "You can look at datatypes_cheatsheet.ipynb and variables_cheatsheet.ipynb to refresh your memory. \n",
    "    </p>"
   ]
  },
  {
   "cell_type": "markdown",
   "metadata": {},
   "source": [
    "---------------------------------------------------------------------------------------------------------\n",
    "### Concatenate/Add two strings together."
   ]
  },
  {
   "cell_type": "code",
   "execution_count": 2,
   "metadata": {},
   "outputs": [],
   "source": [
    "# Write code here. (The # tells Python that this line is a comment. So the computer doesn't run this line)\n"
   ]
  },
  {
   "cell_type": "markdown",
   "metadata": {},
   "source": [
    "# Variables\n",
    "\n",
    "<p style='font-size:1.25rem;line-height:1.5'>\n",
    "    Imagine that you have <b style=\"color:red\">data that changes over time</b> (e.g. racecar speed, room temperature), or that you want to write code that is <b style=\"color:red\">easy to reuse</b>.\n",
    "    </p>\n",
    "    \n",
    "<p style='font-size:1.25rem;line-height:1.5'>\n",
    "    We can use placeholders, or <b style=\"color:blue\">variables</b>. Variables allow us to save and change data throughout a program.\n",
    "    </p>\n",
    "    \n",
    "# Assignment\n",
    "\n",
    "<p style='font-size:1.25rem;line-height:1.5'>\n",
    "    We can use the <b style=\"color:blue\">assignment operator</b> <code>=</code> to assign values (of any data type) to variables. \n",
    "    <br>For example:\n",
    "    </p>\n",
    "<ul style='font-size:1.25rem;line-height:1.5'>\n",
    "    <li><code>name = 'Percy Jackson'</code></li>\n",
    "    <li><code>age = 12</code></li>\n",
    "    <li><code>glasses = False</code></li>\n",
    "</ul>"
   ]
  },
  {
   "cell_type": "markdown",
   "metadata": {},
   "source": [
    "<p style='font-size:1.25rem;line-height:1.5'>\n",
    "    Assign a grade (string, integer, or float) to a variable called <code>grade</code>. Then print the variable.\n",
    "    </p>"
   ]
  },
  {
   "cell_type": "code",
   "execution_count": 3,
   "metadata": {},
   "outputs": [],
   "source": [
    "# Code here\n"
   ]
  },
  {
   "cell_type": "markdown",
   "metadata": {},
   "source": [
    "<p style='font-size:1.25rem;line-height:1.5'>\n",
    "    Once we have assigned a variable, we can <b style=\"color:blue\">use it in place of that value!</b>\n",
    "    </p>"
   ]
  },
  {
   "cell_type": "markdown",
   "metadata": {},
   "source": [
    "<p style='font-size:1.25rem;line-height:1.5'>\n",
    "    Set the variable <code>name</code> to your name (a string). Then print <code>'Hello ' + name + '!'</code>\n",
    "    </p>"
   ]
  },
  {
   "cell_type": "code",
   "execution_count": 4,
   "metadata": {},
   "outputs": [],
   "source": [
    "# Code here\n"
   ]
  },
  {
   "cell_type": "markdown",
   "metadata": {},
   "source": [
    "<p style='font-size:1.25rem;line-height:1.5'>\n",
    "    Store the string \"pizza\" in a variable called food. Add the variable to a string.\n",
    "    </p> "
   ]
  },
  {
   "cell_type": "code",
   "execution_count": 5,
   "metadata": {},
   "outputs": [],
   "source": [
    "# Code here\n"
   ]
  },
  {
   "cell_type": "markdown",
   "metadata": {},
   "source": [
    "<p style='font-size:1.25rem;line-height:1.5'>\n",
    "    What happens if the variable as an integer, and I add strings?\n",
    "    </p>"
   ]
  },
  {
   "cell_type": "code",
   "execution_count": null,
   "metadata": {},
   "outputs": [],
   "source": [
    "# Run this cell\n",
    "age = '2'\n",
    "print(\"You are \" + age + \" years old\")"
   ]
  },
  {
   "cell_type": "markdown",
   "metadata": {},
   "source": [
    "### Hmmm... What does the error mean? Can you fix the code? <br> Click the three dots to see the answer."
   ]
  },
  {
   "cell_type": "markdown",
   "metadata": {},
   "source": [
    "### The error message says we can concatenate/add strings to strings. We can't add strings to integers.<br> Use a casting function to convert the variable into a string."
   ]
  },
  {
   "cell_type": "markdown",
   "metadata": {},
   "source": [
    "# Reassignment\n",
    "\n",
    "<p style='font-size:1.25rem;line-height:1.5'>\n",
    "    Variables that already exist can be <b style=\"color:blue\">reassigned to different values.</b>\n",
    "    </p>"
   ]
  },
  {
   "cell_type": "markdown",
   "metadata": {},
   "source": [
    "<p style='font-size:1.25rem;line-height:1.5'>\n",
    "    Go through the example below to see this in action.\n",
    "    </p>"
   ]
  },
  {
   "cell_type": "code",
   "execution_count": 6,
   "metadata": {},
   "outputs": [],
   "source": [
    "# Assign a value to a variable \n",
    "\n",
    "\n",
    "# Print the variable\n",
    "\n",
    "\n",
    "# Reassign a different value to the variable\n",
    "\n",
    "\n",
    "# Has the variable value changed? (Check by printing)\n",
    "\n"
   ]
  },
  {
   "cell_type": "markdown",
   "metadata": {},
   "source": [
    "<p style='font-size:1.25rem;line-height:1.5'>\n",
    "    When we reassign, the <b style=\"color:blue\">right side is evaluated first</b> before the reassignment takes place. This means that we can reassign a variable in terms of itself. For example, we can add one to a variable like this:\n",
    "    </p>\n",
    "\n",
    "```python\n",
    "x = 10\n",
    "x = x + 1\n",
    "```\n",
    "You can also do\n",
    "```python\n",
    "x += 1\n",
    "```"
   ]
  },
  {
   "cell_type": "markdown",
   "metadata": {},
   "source": [
    "<p style='font-size:1.25rem;line-height:1.5'>\n",
    "    Now <code>x</code> is equal to <code>11</code>. Try doubling a variable in the example below.\n",
    "    </p>"
   ]
  },
  {
   "cell_type": "code",
   "execution_count": 7,
   "metadata": {},
   "outputs": [],
   "source": [
    "# Create a new variable. Assign it an integer.\n",
    "\n",
    "\n",
    "# Set the variable equal to two times itself\n",
    "\n",
    "\n",
    "# Now print the variable\n",
    "\n"
   ]
  },
  {
   "cell_type": "markdown",
   "metadata": {},
   "source": [
    "<p style='font-size:1.25rem;line-height:1.5'>\n",
    "    <b style=\"color:blue\">Swapping variables</b> means that we have two variables (e.g. <code>A</code> and <code>B</code>), and we want to change the new value of <code>A</code> to be equal to the old value of <code>B</code>, and new value of <code>B</code> to be equal to the old value of <code>A</code>.\n",
    "    </p>"
   ]
  },
  {
   "cell_type": "markdown",
   "metadata": {},
   "source": [
    "<p style='font-size:1.25rem;line-height:1.5'>\n",
    "    Try to swap the two variables below by using a third variable.\n",
    "    </p>"
   ]
  },
  {
   "cell_type": "code",
   "execution_count": 8,
   "metadata": {},
   "outputs": [],
   "source": [
    "# Swap the variables by using a third variable \n",
    "\n",
    "\n",
    "# Print A and B to check if the values have swapped\n"
   ]
  },
  {
   "cell_type": "markdown",
   "metadata": {},
   "source": [
    "# Greeter\n",
    "<p style='font-size:1.25rem;line-height:1.5'>\n",
    "    The function <code>input()</code> takes <b style=\"color:blue\">input from the user</b> and <b style=\"color:blue\">The response is saved as a string in the variable <code>name</code>.\n",
    "    </p>"
   ]
  },
  {
   "cell_type": "code",
   "execution_count": null,
   "metadata": {},
   "outputs": [],
   "source": [
    "name = input(\"What's your name? \")\n",
    "print(name)"
   ]
  },
  {
   "cell_type": "markdown",
   "metadata": {},
   "source": [
    "## Sum of numbers\n",
    "<p style='font-size:1.25rem;line-height:1.5'>\n",
    "    Create a program that accepts 5 numbers from user input, and returns the sum of those numbers.\n",
    "    </p>\n",
    "    \n",
    "<p style='font-size:1.25rem;line-height:1.5'>\n",
    "    <strong>Hint:</strong> Cast the results of the user input into integers. \n",
    "    </p>"
   ]
  },
  {
   "cell_type": "code",
   "execution_count": 9,
   "metadata": {},
   "outputs": [],
   "source": [
    "# Code here\n"
   ]
  },
  {
   "cell_type": "markdown",
   "metadata": {},
   "source": [
    "## Paragraph generator\n",
    "<p style='font-size:1.25rem;line-height:1.5'>\n",
    "    Create a program that takes in 4 sentences and puts them into a paragraph format.\n",
    "    </p>\n",
    "\n",
    "<p style='font-size:1.25rem;line-height:1.5'>\n",
    "    Your paragraph should have an indent on the first line.\n",
    "    </p>"
   ]
  },
  {
   "cell_type": "code",
   "execution_count": 10,
   "metadata": {},
   "outputs": [],
   "source": [
    "# Code here\n"
   ]
  },
  {
   "cell_type": "markdown",
   "metadata": {},
   "source": [
    "## Alexa\n",
    "<p style='font-size:1.25rem;line-height:1.5'>\n",
    "    Create an Alexa-type program that accepts player input and responds.\n",
    "    </p>\n",
    "\n",
    "<p style='font-size:1.25rem;line-height:1.5'>\n",
    "    For example:\n",
    "    </p>\n",
    "<p style='font-size:1.25rem;line-height:1.5'>\n",
    "    Alexa: Hi, what is your name?\n",
    "    </p>\n",
    "\n",
    "<p style='font-size:1.25rem;line-height:1.5'>\n",
    "    User: Huncob\n",
    "    </p>\n",
    "<p style='font-size:1.25rem;line-height:1.5'>\n",
    "    Alexa: Hi Huncob! What is your favorite food?\n",
    "    </p>\n",
    "    \n",
    "<p style='font-size:1.25rem;line-height:1.5'>\n",
    "    User: Ice\n",
    "    </p>\n",
    "    \n",
    "<p style='font-size:1.25rem;line-height:1.5'>\n",
    "    Alexa: Ice is so delicious!\n",
    "    </p>\n",
    "    \n",
    "<p style='font-size:1.25rem;line-height:1.5'>\n",
    "    <strong>Hint:</strong> Store the user input as a variable. Then print it out with another string as Alexa's response.\n",
    "    </p>"
   ]
  },
  {
   "cell_type": "code",
   "execution_count": 1,
   "metadata": {},
   "outputs": [],
   "source": [
    "# Code here\n",
    "\n"
   ]
  }
 ],
 "metadata": {
  "kernelspec": {
   "display_name": "Python 3",
   "language": "python",
   "name": "python3"
  },
  "language_info": {
   "codemirror_mode": {
    "name": "ipython",
    "version": 3
   },
   "file_extension": ".py",
   "mimetype": "text/x-python",
   "name": "python",
   "nbconvert_exporter": "python",
   "pygments_lexer": "ipython3",
   "version": "3.7.4"
  }
 },
 "nbformat": 4,
 "nbformat_minor": 4
}
