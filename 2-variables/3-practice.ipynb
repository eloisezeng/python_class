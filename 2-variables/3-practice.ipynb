{
 "cells": [
  {
   "cell_type": "markdown",
   "metadata": {},
   "source": [
    "# Variables Practice\n",
    "<p style='font-size:1.25rem;line-height:1.5'>\n",
    "    Do questions 1-4. Then you have a choice. You can make an Alexa-type program or a Madlibs game! We will discuss this in class.\n",
    "    </p>"
   ]
  },
  {
   "cell_type": "markdown",
   "metadata": {},
   "source": [
    "<h1>1. Greeter</h1>\n",
    "<p style='font-size:1.25rem;line-height:1.5'>\n",
    "    The function <code>input()</code> takes <b style=\"color:blue\">input from the user</b> and <b style=\"color:blue\">returns the input as a string</b>. Don't worry too much about how this works, just know that the response is saved as a string in the variable <code>name</code>.\n",
    "    </p>"
   ]
  },
  {
   "cell_type": "markdown",
   "metadata": {},
   "source": [
    "<p style='font-size:1.25rem;line-height:1.5'>\n",
    "    Using string concatenation and the variable <code>name</code>, greet the person. For example, if the name is Alex, you might print:\n",
    "    </p>\n",
    "\n",
    "```\n",
    "Hello Alex!\n",
    "```"
   ]
  },
  {
   "cell_type": "code",
   "execution_count": null,
   "metadata": {},
   "outputs": [],
   "source": [
    "name = input('Hello! What is your name: ')\n",
    "\n",
    "# Greet the person\n",
    "\n"
   ]
  },
  {
   "cell_type": "markdown",
   "metadata": {},
   "source": [
    "<h1>2. Total Age</h1>\n",
    "\n",
    "<p style='font-size:1.25rem;line-height:1.5'>\n",
    "    Choose four friends or family members, and print out their total age by adding the ages together. This problem can be done without using variables, but variables help us keep track of the ages, and save them for later.\n",
    "    </p>"
   ]
  },
  {
   "cell_type": "code",
   "execution_count": null,
   "metadata": {},
   "outputs": [],
   "source": [
    "# Assign variables for the ages of four family members or friends\n",
    "\n",
    "\n",
    "# Print out the total age of the four\n",
    "\n"
   ]
  },
  {
   "cell_type": "markdown",
   "metadata": {},
   "source": [
    "<p style='font-size:1.25rem;line-height:1.5'>\n",
    "    Now suppose that 7 years have passed. Add <code>years</code> to each variable and print the new total age.\n",
    "    </p>"
   ]
  },
  {
   "cell_type": "code",
   "execution_count": null,
   "metadata": {},
   "outputs": [],
   "source": [
    "years = 7\n",
    "\n",
    "# Add years to each variable\n",
    "\n",
    "\n",
    "# Print out the total age of the four\n",
    "\n"
   ]
  },
  {
   "cell_type": "markdown",
   "metadata": {},
   "source": [
    "<h1>3. Sum of numbers</h1>\n",
    "<p style='font-size:1.25rem;line-height:1.5'>\n",
    "    Create a program that accepts 5 numbers from user input, and returns the sum of those numbers.\n",
    "    </p>\n",
    "    \n",
    "<p style='font-size:1.25rem;line-height:1.5'>\n",
    "    <strong>Hint:</strong> Cast the results of the user input into integers. \n",
    "    </p>"
   ]
  },
  {
   "cell_type": "code",
   "execution_count": null,
   "metadata": {},
   "outputs": [],
   "source": [
    "# Start your code here. \n",
    "# Hint: Ask for user input 5 times, then assign the result to different variables.\n",
    "\n"
   ]
  },
  {
   "cell_type": "markdown",
   "metadata": {},
   "source": [
    "<h1>4. Paragraph generator</h1>\n",
    "<p style='font-size:1.25rem;line-height:1.5'>\n",
    "    Create a program that takes in 4 sentences and puts them into a paragraph format.\n",
    "    </p>\n",
    "\n",
    "<p style='font-size:1.25rem;line-height:1.5'>\n",
    "    Your paragraph should have an indent on the first line.\n",
    "    </p>"
   ]
  },
  {
   "cell_type": "code",
   "execution_count": null,
   "metadata": {},
   "outputs": [],
   "source": [
    "# Start your code here. \n"
   ]
  },
  {
   "cell_type": "markdown",
   "metadata": {},
   "source": [
    "<h1>5. Alexa</h1>\n",
    "<p style='font-size:1.25rem;line-height:1.5'>\n",
    "    Create an Alexa-type program that accepts player input and responds.\n",
    "    </p>\n",
    "\n",
    "<p style='font-size:1.25rem;line-height:1.5'>\n",
    "    For example:\n",
    "    </p>\n",
    "<p style='font-size:1.25rem;line-height:1.5'>\n",
    "    Alexa: Hi, what is your name?\n",
    "    </p>\n",
    "\n",
    "<p style='font-size:1.25rem;line-height:1.5'>\n",
    "    User: Hunter\n",
    "    </p>\n",
    "<p style='font-size:1.25rem;line-height:1.5'>\n",
    "    Alexa: Hi Hunter! Do you know where is my cat?\n",
    "    </p>\n",
    "    \n",
    "<p style='font-size:1.25rem;line-height:1.5'>\n",
    "    User: Ha\n",
    "    </p>\n",
    "    \n",
    "<p style='font-size:1.25rem;line-height:1.5'>\n",
    "    Alexa: Ha is not a funny answer. This is not a joke.\n",
    "    </p>\n",
    "<p style='font-size:1.25rem;line-height:1.5'>\n",
    "    User: Haha\n",
    "</p>\n",
    "<p style='font-size:1.25rem;line-height:1.5'>\n",
    "    Alexa: You are making me uncomfortable with your 'Haha'\n",
    "</p>\n",
    "<p style='font-size:1.25rem;line-height:1.5'>\n",
    "    User: I need to go talk to Siri. You need to grow up and use Google instead of Bing as your search engine.\n",
    "</p>\n",
    "<p style='font-size:1.25rem;line-height:1.5'>\n",
    "    <strong>Hint:</strong> Store the user input as a variable. Then print it out with another string as Alexa's response.\n",
    "    </p>"
   ]
  },
  {
   "cell_type": "code",
   "execution_count": 1,
   "metadata": {},
   "outputs": [],
   "source": [
    "# Start your code here. \n",
    "\n",
    "\n",
    "\n"
   ]
  }
 ],
 "metadata": {
  "kernelspec": {
   "display_name": "Python 3",
   "language": "python",
   "name": "python3"
  },
  "language_info": {
   "codemirror_mode": {
    "name": "ipython",
    "version": 3
   },
   "file_extension": ".py",
   "mimetype": "text/x-python",
   "name": "python",
   "nbconvert_exporter": "python",
   "pygments_lexer": "ipython3",
   "version": "3.7.4"
  }
 },
 "nbformat": 4,
 "nbformat_minor": 4
}
