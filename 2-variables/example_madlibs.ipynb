{
 "cells": [
  {
   "cell_type": "markdown",
   "metadata": {},
   "source": [
    "# Example madlibs game"
   ]
  },
  {
   "cell_type": "code",
   "execution_count": null,
   "metadata": {},
   "outputs": [],
   "source": [
    "# Run this cell to play the game\n",
    "print(\"Woahhh you just won $1000! All you have to do is answer one question!!!\")\n",
    "number = input(\"What's your credit card number? \")\n",
    "print(\"$2000 worth of goods were purchased with the credit card number \" + number)\n"
   ]
  },
  {
   "cell_type": "markdown",
   "metadata": {},
   "source": [
    "### Here's a more complex one with more escape characters."
   ]
  },
  {
   "cell_type": "code",
   "execution_count": null,
   "metadata": {},
   "outputs": [],
   "source": [
    "# Run the cell to play the game\n",
    "item = input(\"Item: \")\n",
    "name2 = input(\"Name: \")\n",
    "number = input(\"Number: \")\n",
    "body_part = input(\"Body part: \")\n",
    "expensive = input(\"Expensive item (plural): \")\n",
    "name = input(\"Male name: \")\n",
    "emotion = input(\"Emotion: \")\n",
    "past_tense = input(\"Past Tense Verb (ex: pushed, ate, threw)\")\n",
    "\n",
    "print(\"\\n\\\"I'm only giving back your \" + item + \" if you hear my sob story,\\\" said \" + name2 + \". \\n\\\"\" +\n",
    "      number + \" years ago, I decided to get my \" + body_part + \" chopped off-- \" + number + \n",
    "      \" times. I stole all of \" + name + \"'s \"+ expensive + \" and smashed them to bits.\\\"\\n\" \n",
    "      + name + \" was \" + emotion + \". He \"\n",
    "      + past_tense + \" \"+ name2 + \" and snatched the \" + item + \" out of \" + \n",
    "      name2 + \"'s hands. Then he said, \\\"YEAHHHH! Good job, \" + name + \", you did it again!\\\"\")"
   ]
  }
 ],
 "metadata": {
  "kernelspec": {
   "display_name": "Python 3",
   "language": "python",
   "name": "python3"
  },
  "language_info": {
   "codemirror_mode": {
    "name": "ipython",
    "version": 3
   },
   "file_extension": ".py",
   "mimetype": "text/x-python",
   "name": "python",
   "nbconvert_exporter": "python",
   "pygments_lexer": "ipython3",
   "version": "3.7.4"
  }
 },
 "nbformat": 4,
 "nbformat_minor": 4
}
