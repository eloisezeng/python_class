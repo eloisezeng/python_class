{
 "cells": [
  {
   "cell_type": "code",
   "execution_count": null,
   "metadata": {},
   "outputs": [],
   "source": [
    "Caesar Cipher"
   ]
  },
  {
   "cell_type": "code",
   "execution_count": null,
   "metadata": {},
   "outputs": [],
   "source": [
    "# Write your code here\n",
    "plaintext = \"abcde\"\n",
    "ciphertext = \"\"\n",
    "key = \"1\"\n",
    "for char in plaintext:\n",
    "    if char not in \" ,.!?\" and (ord(char) + int(key)) <= 122:\n",
    "        new_char = chr(ord(char) + int(key))\n",
    "    elif (ord(char) + int(key)) > 122:\n",
    "        new_char = chr(ord(char) + int(key) - 26)\n",
    "    else:\n",
    "        new_char = char\n",
    "    ciphertext += new_char\n",
    "print(ciphertext)"
   ]
  }
 ],
 "metadata": {
  "kernelspec": {
   "display_name": "Python 3",
   "language": "python",
   "name": "python3"
  },
  "language_info": {
   "codemirror_mode": {
    "name": "ipython",
    "version": 3
   },
   "file_extension": ".py",
   "mimetype": "text/x-python",
   "name": "python",
   "nbconvert_exporter": "python",
   "pygments_lexer": "ipython3",
   "version": "3.7.4"
  }
 },
 "nbformat": 4,
 "nbformat_minor": 4
}
