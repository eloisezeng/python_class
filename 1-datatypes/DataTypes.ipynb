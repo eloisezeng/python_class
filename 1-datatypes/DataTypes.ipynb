{
 "cells": [
  {
   "cell_type": "markdown",
   "metadata": {},
   "source": [
    "# **Data Types**\n",
    "\n",
    "<p style='font-size:1.25rem;line-height:1.5'>\n",
    "    <b style=\"color:red\">We classify information all the time.</b> Classifying data makes it easier for both humans and computers alike to understand and process information! For example, we differentiate between words, letters, numbers, and symbols.\n",
    "    </p>\n",
    "    \n",
    "<p style='font-size:1.25rem;line-height:1.5'>\n",
    "    <b style=\"color:blue\">Computers classify information</b> in a similar way using <b style=\"color:blue\">data types.</b>\n",
    "    </p>\n",
    "    \n",
    "<p style='font-size:1.25rem;line-height:1.5'>\n",
    "    In this lab, we will learn about the <b style=\"color:blue\">basic data types</b> in Python: \n",
    "    <ul style='font-size:1.25rem;line-height:2'>\n",
    "        <li><code>integers</code> (whole numbers)</li>\n",
    "        <li><code>floats</code> (decimals)</li>\n",
    "        <li><code>strings</code> (letters)</li>\n",
    "        <li><code>booleans</code> (true/false)</li>\n",
    "        <li><code>None</code> type</li>\n",
    "    </ul>\n",
    "    </p>"
   ]
  },
  {
   "cell_type": "markdown",
   "metadata": {},
   "source": [
    "# Integers\n",
    "\n",
    "<p style='font-size:1.25rem;line-height:1.5'>\n",
    "    <b style=\"color:red\">Integers</b> are <b style=\"color:blue\">whole numbers</b> that do not contain decimals. They can be positive, negative, or zero.\n",
    "    </p>\n",
    "<ul style='font-size:1.25rem;line-height:1.25'>\n",
    "    <li>Integers: <code>-2</code>, <code>-1</code>, <code>0</code>, <code>1</code>, <code>2</code></li>\n",
    "    <li>NOT integers: <code>3.142</code>, <code>2.718</code>, <code>-1.618</code>, <code>1.0</code></li>\n",
    "</ul>"
   ]
  },
  {
   "cell_type": "markdown",
   "metadata": {},
   "source": [
    "# Math Operations\n",
    "\n",
    "<p style='font-size:1.25rem;line-height:1.5'>\n",
    "    We can apply the <b style=\"color:blue\">four standard mathematical operations</b> on integers:\n",
    "    </p>\n",
    "<ul style='font-size:1.25rem;line-height:1.25'>\n",
    "    <li>Addition: <code>+</code></li>\n",
    "    <li>Subtraction: <code>-</code></li>\n",
    "    <li>Multiplication: <code>*</code></li>\n",
    "    <li>Division: <code>/</code></li>\n",
    "</ul>"
   ]
  },
  {
   "cell_type": "markdown",
   "metadata": {},
   "source": [
    "<p style='font-size:1.25rem;line-height:1.5'>\n",
    "    Add three integers together.\n",
    "    </p>"
   ]
  },
  {
   "cell_type": "code",
   "execution_count": 51,
   "metadata": {},
   "outputs": [],
   "source": [
    "# Press shift enter or shift return to run the cell\n",
    "# Comments start with hashtags => #, so these lines are ignored\n",
    "# Start your code here\n",
    "\n"
   ]
  },
  {
   "cell_type": "markdown",
   "metadata": {},
   "source": [
    "<p style='font-size:1.25rem;line-height:1.5'>\n",
    "    Subtract two integers.\n",
    "    </p>"
   ]
  },
  {
   "cell_type": "code",
   "execution_count": null,
   "metadata": {},
   "outputs": [],
   "source": [
    "# Start your code here\n",
    "\n"
   ]
  },
  {
   "cell_type": "markdown",
   "metadata": {},
   "source": [
    "<p style='font-size:1.25rem;line-height:1.5'>\n",
    "    Multiply four integers.\n",
    "    </p>"
   ]
  },
  {
   "cell_type": "code",
   "execution_count": null,
   "metadata": {},
   "outputs": [],
   "source": [
    "# Start your code here\n",
    "\n"
   ]
  },
  {
   "cell_type": "markdown",
   "metadata": {},
   "source": [
    "# Division\n",
    "<p style='font-size:1.25rem;line-height:1.5'>\n",
    "    Implement the following statement in the code block below: <code>3 / 2</code>. What do you expect the result to be?\n",
    "    </p>"
   ]
  },
  {
   "cell_type": "markdown",
   "metadata": {},
   "source": [
    "## Let's try dividing Fibonacci Numbers\n",
    "<p style='font-size:1.25rem;line-height:1.5'>\n",
    "    Fibonacci Sequence: 0, 1, 1, 2, 3, 5, 8, 13, 21, 34, 55, 89, 144, 233, 377, 610, 987, 1597, 2584, 4181, 6765, 10946, 17711, 28657 ...\n",
    "    </p>\n",
    "<ul style='font-size:1.25rem;line-height:1.5'>\n",
    "    <li>The next number is found by adding up the two numbers before it. </li>\n",
    "    <li>0 + 1 = 1 </li>\n",
    "    <li>1 + 1 = 2 </li>\n",
    "    <li>1 + 2 = 3 </li>\n",
    "    <li>2 + 3 = 5 </li>\n",
    "</ul>\n",
    "\n",
    "### Pick two numbers that are next to each other. Divide the larger number by the smaller number. Ex: 8 and 5"
   ]
  },
  {
   "cell_type": "code",
   "execution_count": null,
   "metadata": {},
   "outputs": [],
   "source": [
    "# Start your code here\n",
    "\n"
   ]
  },
  {
   "cell_type": "markdown",
   "metadata": {},
   "source": [
    "### Try this with other pairs of numbers. Are the results close to each other?"
   ]
  },
  {
   "cell_type": "code",
   "execution_count": 21,
   "metadata": {},
   "outputs": [],
   "source": [
    "# Start your code here\n"
   ]
  },
  {
   "cell_type": "markdown",
   "metadata": {},
   "source": [
    "# Order of Operations\n",
    "\n",
    "<p style='font-size:1.25rem;line-height:1.5'>\n",
    "    Math in Python follows the normal <b style=\"color:blue\">order of operations (PEMDAS)</b>.\n",
    "    </p>"
   ]
  },
  {
   "cell_type": "markdown",
   "metadata": {},
   "source": [
    "<p style='font-size:1.25rem;line-height:1.5'>\n",
    "Implement the following statement in the code block below: <code>1 + 2 * 3</code>. Do you expect the result to be <code>9</code> or <code>7</code>? Why?\n",
    "    </p>"
   ]
  },
  {
   "cell_type": "code",
   "execution_count": null,
   "metadata": {},
   "outputs": [],
   "source": [
    "# Start your code here\n",
    "\n"
   ]
  },
  {
   "cell_type": "markdown",
   "metadata": {},
   "source": [
    "<p style='font-size:1.25rem;line-height:1.5'>\n",
    "    What do you think <code>(1 + 2) * 3</code> will be? Check below!\n",
    "    </p>"
   ]
  },
  {
   "cell_type": "code",
   "execution_count": null,
   "metadata": {},
   "outputs": [],
   "source": [
    "# Start your code here\n",
    "\n"
   ]
  },
  {
   "cell_type": "markdown",
   "metadata": {},
   "source": [
    "# Modulo Operator\n",
    "\n",
    "<p style='font-size:1.25rem;line-height:1.5'>\n",
    "    You may be less familiar with the modulo operator <code>%</code>, but it is common in programming. It returns the <b style=\"color:blue\">remainder</b> from <b style=\"color:blue\">integer division</b>.\n",
    "    </p>\n",
    "<p style='font-size:1.25rem;line-height:1.5'>\n",
    "    For example, <code>5 % 2</code> (read: \"five modulo two\") would return <code>1</code> because 2 goes into 5 twice, with 1 left over.\n",
    "    </p>"
   ]
  },
  {
   "cell_type": "markdown",
   "metadata": {},
   "source": [
    "<p style='font-size:1.25rem;line-height:1.5'>\n",
    "    What would <code>2 % 3</code> return? Check in the code block below.\n",
    "    </p>"
   ]
  },
  {
   "cell_type": "code",
   "execution_count": null,
   "metadata": {},
   "outputs": [],
   "source": [
    "# Start your code here\n",
    "\n"
   ]
  },
  {
   "cell_type": "markdown",
   "metadata": {},
   "source": [
    "<p style='font-size:1.25rem;line-height:1.5'>\n",
    "    Do you think 10001 is prime? Use the modulo operator to determine if 10001 is divisible by 137. \n",
    "    </p>"
   ]
  },
  {
   "cell_type": "code",
   "execution_count": 17,
   "metadata": {},
   "outputs": [],
   "source": [
    "# Start your code here\n"
   ]
  },
  {
   "cell_type": "markdown",
   "metadata": {},
   "source": [
    "# Exponent Operator\n",
    "<p style='font-size:1.25rem;line-height:1.5'>\n",
    "    <code>3 ** 2</code> returns 9 because <code>3 * 3</code> equals 9. <br> <code>2 ** 3</code> returns 8 because <code>2 * 2 * 2</code> equals 8\n",
    "    </p>"
   ]
  },
  {
   "cell_type": "markdown",
   "metadata": {},
   "source": [
    "<p style='font-size:1.25rem;line-height:1.5'>\n",
    "    What is <code>11111111111</code> squared? Use <code>**</code> instead of <code>*</code>\n",
    "    </p>"
   ]
  },
  {
   "cell_type": "code",
   "execution_count": 12,
   "metadata": {},
   "outputs": [],
   "source": [
    "# Code here\n"
   ]
  },
  {
   "cell_type": "markdown",
   "metadata": {},
   "source": [
    "# Floats\n",
    "<p style='font-size:1.25rem;line-height:1.5'>\n",
    "    <b style=\"color:red\">Floats</b> (or \"floating point numbers\") are numbers with <b style=\"color:blue\">decimals</b>. They can be positive, negative, or zero. For example, <code>3.14159</code>, <code>-1.2</code>, and <code>0.0</code> are all floats.\n",
    "    </p>\n",
    "<p style='font-size:1.25rem;line-height:1.5'>\n",
    "    We can also do <b style=\"color:blue\">mathematical operations</b> on floats, but now they return floats. \n",
    "    <br> We can also <b style=\"color:blue\">mix integers and floats</b>.\n",
    "    </p>"
   ]
  },
  {
   "cell_type": "markdown",
   "metadata": {},
   "source": [
    "<p style='font-size:1.25rem;line-height:1.5'>\n",
    "    Add two floats.\n",
    "    </p>"
   ]
  },
  {
   "cell_type": "code",
   "execution_count": null,
   "metadata": {},
   "outputs": [],
   "source": [
    "# Start your code here\n",
    "\n"
   ]
  },
  {
   "cell_type": "markdown",
   "metadata": {},
   "source": [
    "<p style='font-size:1.25rem;line-height:1.5'>\n",
    "    Subtract a float and an integer.\n",
    "    </p>"
   ]
  },
  {
   "cell_type": "code",
   "execution_count": null,
   "metadata": {},
   "outputs": [],
   "source": [
    "# Start your code here\n",
    "\n"
   ]
  },
  {
   "cell_type": "markdown",
   "metadata": {},
   "source": [
    "<p style='font-size:1.25rem;line-height:1.5'>\n",
    "    Multiply three numbers (floats or integers).\n",
    "    </p>"
   ]
  },
  {
   "cell_type": "code",
   "execution_count": null,
   "metadata": {},
   "outputs": [],
   "source": [
    "# Start your code here\n",
    "\n"
   ]
  },
  {
   "cell_type": "markdown",
   "metadata": {},
   "source": [
    "<p style='font-size:1.25rem;line-height:1.5'>\n",
    "    Divide two floats.\n",
    "    </p>"
   ]
  },
  {
   "cell_type": "code",
   "execution_count": null,
   "metadata": {},
   "outputs": [],
   "source": [
    "# Start your code here\n",
    "\n"
   ]
  },
  {
   "cell_type": "markdown",
   "metadata": {},
   "source": [
    "# <b style=\"color:red\">--- STOP HERE --- </b>\n",
    "\n",
    "---"
   ]
  },
  {
   "cell_type": "markdown",
   "metadata": {},
   "source": [
    "# Booleans\n",
    "\n",
    "<p style='font-size:1.25rem;line-height:1.5'>\n",
    "    <b style=\"color:red\">Booleans</b> have two values: <code>True</code> or <code>False</code>. In Python, these values must be capitalized.\n",
    "    </p>\n",
    "<p style='font-size:1.25rem;line-height:1.5'>\n",
    "    Comparison statements evaluate to booleans. We will learn more about comparison in later labs. As a preview, we can <b style=\"color:blue\">compare booleans values</b> using the following operators:\n",
    "    </p>\n",
    "<ul style='font-size:1.25rem;line-height:1.5'>\n",
    "    <li><code>==</code>: equals\n",
    "    <li><code>!=</code>: does not equal\n",
    "</ul>"
   ]
  },
  {
   "cell_type": "markdown",
   "metadata": {},
   "source": [
    "<p style='font-size:1.25rem;line-height:1.5'> \n",
    "    Check if <code>True</code> is equal to <code>False</code>.\n",
    "    </p>"
   ]
  },
  {
   "cell_type": "markdown",
   "metadata": {},
   "source": [
    "<p style='font-size:1.25rem;line-height:1.5'>\n",
    "    Booleans can also be represented by numbers, where <code>True</code> is 1 and <code>False</code> is 0. \n",
    "    <br>Check if <code>True</code> is equal to <code>1</code>.\n",
    "    </p>"
   ]
  },
  {
   "cell_type": "code",
   "execution_count": null,
   "metadata": {},
   "outputs": [],
   "source": [
    "# Start your code here\n",
    "\n"
   ]
  },
  {
   "cell_type": "markdown",
   "metadata": {},
   "source": [
    "## Which of the following output the boolean True?\n",
    "<p style='font-size:1.25rem;line-height:1.5'>\n",
    "    A. False == 0 <br> \n",
    "    B. True != 2 <br> \n",
    "    C. True * 3 == 3 <br> \n",
    "    D. True == 0.9999999999999999999999999999 <br>\n",
    "    E. True == 0.9999999999999999 <br>\n",
    "    F. True == 0.9999999999999999912345 <br>\n",
    "    </p>"
   ]
  },
  {
   "cell_type": "code",
   "execution_count": null,
   "metadata": {},
   "outputs": [],
   "source": [
    "# Start your code here\n",
    "\n"
   ]
  },
  {
   "cell_type": "markdown",
   "metadata": {},
   "source": [
    "# Strings\n",
    "\n",
    "<p style='font-size:1.25rem;line-height:1.5'>\n",
    "    <b style=\"color:red\">Strings</b> store <b style=\"color:blue\">characters</b>. Strings are enclosed in <b style=\"color:blue\">single quotes</b> <code>''</code> or <b style=\"color:blue\">double quotes</b> <code>\"\"</code>. \n",
    "    <br>For example, these are both strings:\n",
    "    </p>\n",
    "<ul style='font-size:1.25rem;line-height:1.5'>\n",
    "    <li>Single quotes: <code>'This string is using SINGLE quotes.'</code></li>\n",
    "    <li>Double quotes: <code>\"This string is using DOUBLE quotes!\"</code></li>\n",
    "</ul>\n",
    "<p style='font-size:1.25rem;line-height:1.5'>\n",
    "    Strings can also store <b style=\"color:blue\">non-English characters</b>! For example, these are all valid strings:\n",
    "    </p>\n",
    "<ul style='font-size:1.25rem;line-height:1.5'>\n",
    "    <li><code>'hello'</code>, <code>'&#x4F60;&#x597D;'</code>, <code>\"＼ʕ •ᴥ•ʔ／\"</code>, <code>\"123\"</code>, <code>'&pi;'</code>, <code>'+'</code></li>\n",
    "</ul>\n",
    "<p style='font-size:1.25rem;line-height:1.5'>\n",
    "    Create a string that stores a sentence.\n",
    "    </p>"
   ]
  },
  {
   "cell_type": "code",
   "execution_count": 2,
   "metadata": {},
   "outputs": [],
   "source": [
    "# Start your code here\n"
   ]
  },
  {
   "cell_type": "markdown",
   "metadata": {},
   "source": [
    "<p style='font-size:1.25rem;line-height:1.5'>\n",
    "    Create a string that stores numbers.\n",
    "    </p>"
   ]
  },
  {
   "cell_type": "code",
   "execution_count": null,
   "metadata": {},
   "outputs": [],
   "source": [
    "# Start your code here\n",
    "\n"
   ]
  },
  {
   "cell_type": "markdown",
   "metadata": {},
   "source": [
    "<p style='font-size:1.25rem;line-height:1.5'>\n",
    "    Create an empty string.\n",
    "    </p>"
   ]
  },
  {
   "cell_type": "code",
   "execution_count": null,
   "metadata": {},
   "outputs": [],
   "source": [
    "# Start your code here\n",
    "\n"
   ]
  },
  {
   "cell_type": "markdown",
   "metadata": {},
   "source": [
    "# String Concatenation\n",
    "\n",
    "<p style='font-size:1.25rem;line-height:1.5'>\n",
    "    We can also <b style=\"color:blue\">concatenate</b>, or <b style=\"color:blue\">add</b>, strings together using the <strong>+</strong> operator. For example:\n",
    "    </p>\n",
    "<ul style='font-size:1.25rem;line-height:1.5'>\n",
    "    <li><code>'worm' + 'hole'</code> &rarr; <code>'wormhole'</code></li>\n",
    "    <li><code>\"cat\" + \" mat\"</code> &rarr; <code>\"cat mat\"</code></li>\n",
    "</ul>\n",
    "<p style='font-size:1.25rem;line-height:1.5'>\n",
    "    We can also use the <code>*</code> operator to <b style=\"color:blue\">repeat a string</b> the specified number of times! For example:\n",
    "    </p>\n",
    "<ul style='font-size:1.25rem;line-height:1.5'>\n",
    "    <li><code>'ho' * 5</code> &rarr; <code>'hohohohoho'</code></li>\n",
    "</ul>"
   ]
  },
  {
   "cell_type": "markdown",
   "metadata": {},
   "source": [
    "<p style='font-size:1.25rem;line-height:1.5'>\n",
    "    Concatenate the strings: <code>'A cat'</code> <code>'in a hat'</code> from separate strings.\n",
    "    </p>"
   ]
  },
  {
   "cell_type": "code",
   "execution_count": null,
   "metadata": {},
   "outputs": [],
   "source": [
    "# Start your code here\n",
    "\n"
   ]
  },
  {
   "cell_type": "markdown",
   "metadata": {},
   "source": [
    "<p style='font-size:1.25rem;line-height:1.5'>\n",
    "    Repeat the string <code>'catdog'</code> <strong>ten</strong> times using <code>*</code>.\n",
    "    </p>"
   ]
  },
  {
   "cell_type": "code",
   "execution_count": null,
   "metadata": {},
   "outputs": [],
   "source": [
    "# Start your code here\n",
    "\n"
   ]
  },
  {
   "cell_type": "markdown",
   "metadata": {},
   "source": [
    "<p style='font-size:1.25rem;line-height:1.5'>\n",
    "    Repeat the string <code>'RACECA'</code> <strong>five</strong> times using <code>*</code>, and then add <code>'R'</code> to the end.\n",
    "    </p>"
   ]
  },
  {
   "cell_type": "code",
   "execution_count": null,
   "metadata": {},
   "outputs": [],
   "source": [
    "# Start your code here\n",
    "\n"
   ]
  },
  {
   "cell_type": "markdown",
   "metadata": {},
   "source": [
    "# None Type\n",
    "\n",
    "<p style='font-size:1.25rem;line-height:1.5'>\n",
    "    The <b style=\"color:red\">None</b> type has only one value: <code>None</code>. It is usually used as <b style=\"color:blue\">placeholder object</b> or to check if a variable has been assigned. We can use the <code>is</code> operator to check if something is identical to <code>None</code>.\n",
    "    </p>\n",
    "<p style='font-size:1.25rem;line-height:1.5'>\n",
    "    Run the following expressions. Did they return what you expected?\n",
    "    </p>"
   ]
  },
  {
   "cell_type": "code",
   "execution_count": null,
   "metadata": {},
   "outputs": [],
   "source": [
    "0 is None"
   ]
  },
  {
   "cell_type": "code",
   "execution_count": null,
   "metadata": {},
   "outputs": [],
   "source": [
    "False is None"
   ]
  },
  {
   "cell_type": "code",
   "execution_count": null,
   "metadata": {},
   "outputs": [],
   "source": [
    "'' is None"
   ]
  },
  {
   "cell_type": "code",
   "execution_count": null,
   "metadata": {},
   "outputs": [],
   "source": [
    "None is None"
   ]
  },
  {
   "cell_type": "markdown",
   "metadata": {},
   "source": [
    "# <b style=\"color:red\">--- STOP HERE --- </b>\n",
    "\n",
    "---"
   ]
  },
  {
   "cell_type": "markdown",
   "metadata": {},
   "source": [
    "# Casting Functions\n",
    "\n",
    "<p style='font-size:1.25rem;line-height:1.5'>\n",
    "    <b style=\"color:red\">Casting</b> <b style=\"color:blue\">converts data</b> from one type to another. Four useful casting functions are:\n",
    "    </p>\n",
    "<ul style='font-size:1.25rem;line-height:1.5'>\n",
    "    <li><code>int()</code>: creates an <b style=\"color:blue\">integer</b> from a float (e.g. <code>3.0</code>), or a string of an integer (e.g. <code>'3'</code>)</li>\n",
    "    <li><code>float()</code>: creates a <b style=\"color:blue\">float</b> from an integer (e.g. <code>2</code>), or string of a number (e.g. <code>'3.14'</code>).</li>\n",
    "    <li><code>str()</code>: creates a <b style=\"color:blue\">string</b> (works for most data types)</li>\n",
    "    <li><code>round()</code>: rounds a <b style=\"color:blue\">float</b> to an integer</li>\n",
    "</ul>"
   ]
  },
  {
   "cell_type": "markdown",
   "metadata": {},
   "source": [
    "<p style='font-size:1.25rem;line-height:1.5'>\n",
    "    Cast the float <code>12.99</code> into an integer.\n",
    "    </p>"
   ]
  },
  {
   "cell_type": "code",
   "execution_count": null,
   "metadata": {},
   "outputs": [],
   "source": [
    "# Start your code here\n",
    "\n"
   ]
  },
  {
   "cell_type": "markdown",
   "metadata": {},
   "source": [
    "<p style='font-size:1.25rem;line-height:1.5'>\n",
    "    Cast <code>None</code> into a string.\n",
    "    </p>"
   ]
  },
  {
   "cell_type": "code",
   "execution_count": null,
   "metadata": {},
   "outputs": [],
   "source": [
    "# Start your code here\n",
    "\n"
   ]
  },
  {
   "cell_type": "markdown",
   "metadata": {},
   "source": [
    "<p style='font-size:1.25rem;line-height:1.5'>\n",
    "    Cast the strings <code>'14'</code> and <code>'9'</code> into integers and add them.\n",
    "    </p>"
   ]
  },
  {
   "cell_type": "code",
   "execution_count": 3,
   "metadata": {},
   "outputs": [],
   "source": [
    "# Start your code here\n",
    "\n"
   ]
  },
  {
   "cell_type": "markdown",
   "metadata": {},
   "source": [
    "<p style='font-size:1.25rem;line-height:1.5'>\n",
    "    Round <code>421.667</code> to the nearest integer.\n",
    "    </p>"
   ]
  },
  {
   "cell_type": "code",
   "execution_count": null,
   "metadata": {},
   "outputs": [],
   "source": []
  },
  {
   "cell_type": "markdown",
   "metadata": {},
   "source": [
    "# Printing\n",
    "\n",
    "<p style='font-size:1.25rem;line-height:1.5'>\n",
    "    We can <b style=\"color:blue\">output a value to the screen</b> using the function <code>print()</code>.\n",
    "    </p>"
   ]
  },
  {
   "cell_type": "markdown",
   "metadata": {},
   "source": [
    "<p style='font-size:1.25rem;line-height:1.5'>\n",
    "    Print out the string <code>'Hello World!'</code>.\n",
    "    </p>"
   ]
  },
  {
   "cell_type": "code",
   "execution_count": null,
   "metadata": {},
   "outputs": [],
   "source": [
    "# Start your code here\n",
    "\n"
   ]
  },
  {
   "cell_type": "markdown",
   "metadata": {},
   "source": [
    "<p style='font-size:1.25rem;line-height:1.5'>\n",
    "    Print <code>1 + 1</code>. Then print <code>True + False</code> underneath.\n",
    "    </p>"
   ]
  },
  {
   "cell_type": "code",
   "execution_count": 69,
   "metadata": {},
   "outputs": [],
   "source": [
    "# Start your code here\n",
    "\n"
   ]
  },
  {
   "cell_type": "markdown",
   "metadata": {},
   "source": [
    "# Printing Multiple Datatypes\n",
    "\n",
    "<p style='font-size:1.25rem;line-height:1.5'>\n",
    "    To print out multiple pieces of data, possibly of different data types, in one line, we can <b style=\"color:blue\">cast the data into strings and concatenate</b>. For example:\n",
    "    </p>\n",
    "    \n",
    "<ul style='font-size:1.25rem;line-height:1.5'>\n",
    "    <li><code>print('Pi is ' + str(3.14159) + '...')</code> &rarr; <code>Pi is 3.14159...</code></li>\n",
    "</ul>"
   ]
  },
  {
   "cell_type": "markdown",
   "metadata": {},
   "source": [
    "<p style='font-size:1.25rem;line-height:1.5'>\n",
    "Try printing out <code>3.14</code>, <code>False</code>, and <code>'Beaver'</code> in one line. \n",
    "    </p>"
   ]
  },
  {
   "cell_type": "code",
   "execution_count": null,
   "metadata": {},
   "outputs": [],
   "source": [
    "# Start your code here\n",
    "\n"
   ]
  },
  {
   "cell_type": "markdown",
   "metadata": {},
   "source": [
    "<p style='font-size:1.25rem;line-height:1.5'>\n",
    "    You might wonder why don't we just <br><code>print('Pi is 3.14159')</code> instead of <br><code>print('Pi is' + str(3.14159))</code><br>\n",
    "    You will understand when you learn about variables!\n",
    "    </p>"
   ]
  },
  {
   "cell_type": "markdown",
   "metadata": {},
   "source": [
    "# Escape Characters\n",
    "\n",
    "<p style='font-size:1.25rem;line-height:1.5'>\n",
    "    Some characters <b style=\"color:blue\">cannot be displayed</b> inside of strings. These characters are instead reserved for <b style=\"color:blue\">special functions</b> inside strings. For example, how do we create a new line inside a string? Or what if we wanted to type quotes inside of a string? \n",
    "    </p>\n",
    "    \n",
    "<p style='font-size:1.25rem;line-height:1.5'>\n",
    "    In these cases, we can use <b style=\"color:red\">escape characters</b>. This involves typing a <b style=\"color:blue\">backslash</b> <code>\\</code> before the character. Here are some common escape characters:\n",
    "<ul style='font-size:1.25rem;line-height:1.5'>\n",
    "    <li><code>'\\n'</code>: new line</li>\n",
    "    <li><code>'\\t'</code>: tab</li>\n",
    "    <li><code>'\\''</code>: single quote (for comma, apostrophe, etc.)</li>\n",
    "    <li><code>\"\\\"\"</code>: double quote</li>\n",
    "    <li><code>'\\\\'</code>: backslash</li>\n",
    "</ul>\n",
    "<p style='font-size:1.25rem;line-height:1.5'>\n",
    "    For example, try running the following code and see what it prints.\n",
    "    </p>"
   ]
  },
  {
   "cell_type": "code",
   "execution_count": null,
   "metadata": {},
   "outputs": [],
   "source": [
    "print('Big\\nChungus')"
   ]
  },
  {
   "cell_type": "code",
   "execution_count": null,
   "metadata": {},
   "outputs": [],
   "source": [
    "print(\"Hey, that's MY throne\\n\\tYou can't take that!\")"
   ]
  },
  {
   "cell_type": "markdown",
   "metadata": {},
   "source": [
    "<p style='font-size:1.25rem;line-height:1.5'>\n",
    "    Also, note that we only need the escape character for quotes when we are inside a string using the same type of quotes. For example, both of these are valid:\n",
    "    </p> "
   ]
  },
  {
   "cell_type": "code",
   "execution_count": null,
   "metadata": {},
   "outputs": [],
   "source": [
    "print(\"Call someone and say \\\"sorry I can't talk right now\\\"\")\n",
    "print('Call someone and say \"sorry I can\\'t talk right now\"')"
   ]
  },
  {
   "cell_type": "markdown",
   "metadata": {},
   "source": [
    "### Using only one print function, output the following (in the same format):\n",
    "```raw\n",
    "Things that happened today\n",
    "    1) Jombo asked the teacher to give us more homework\n",
    "    2) Jombo got hit by a bus\n",
    "    3) i lost my bus driving license\n",
    "```"
   ]
  },
  {
   "cell_type": "code",
   "execution_count": 70,
   "metadata": {},
   "outputs": [],
   "source": [
    "# Start your code here\n"
   ]
  },
  {
   "cell_type": "markdown",
   "metadata": {},
   "source": [
    "### Using only one print function, output the following (in the same format):\n",
    "```raw\n",
    "Dear Gerald,\n",
    "    \"Thanks\" for stealing:\n",
    "        1. One Furry Costume\n",
    "        2. Five creepy dolls\n",
    "        3. Three Lambos for your TikTok\n",
    "Sincerely,\n",
    "Huncob\n",
    "```"
   ]
  },
  {
   "cell_type": "code",
   "execution_count": null,
   "metadata": {
    "scrolled": true
   },
   "outputs": [],
   "source": [
    "# Start your code here\n",
    "\n"
   ]
  },
  {
   "cell_type": "markdown",
   "metadata": {},
   "source": [
    "### You can print a really long string by surrounding it with <code>\"\"\"</code> What would happen if you used <code>\"</code> instead. Why do you think this is happening?"
   ]
  },
  {
   "cell_type": "code",
   "execution_count": null,
   "metadata": {},
   "outputs": [],
   "source": [
    "print(\"\"\"The good way to tell how much time you have left before nightfall is by knowing the temperature.\n",
    "See, the ancient natives didn't have watches like you and I, so what they would do is use temperature \n",
    "as a measurement of time The colder it gets, the later it is.\n",
    "Basically, the technique they used is actually pretty simple. What you do here is you \n",
    "pull out your cell phone and, uh, what you're gonna do here is just find the weather app\n",
    "it's not really moving because my gloves. It's actually getting really pretty difficult \n",
    "right now My gloves are making it nearly impossible to open the weather app and \n",
    "I can't take off my gloves because my hands are cold and the last thing you want in the Arctic is to be uncomfortable.\n",
    "If you still aren't able to open your weather app because of your gloves, what you want to do \n",
    "then is pull out your daily jacket thermometer. Basically, you use the thermometer as a sort of \n",
    "stylus or writing tool, so you can open your weather app. The ancient natives mimic this technique \n",
    "from the Nintendo DS. As you can see here, I had almost no problems at all It's working phenomenally\n",
    "\"\"\")"
   ]
  }
 ],
 "metadata": {
  "kernelspec": {
   "display_name": "Python 3",
   "language": "python",
   "name": "python3"
  },
  "language_info": {
   "codemirror_mode": {
    "name": "ipython",
    "version": 3
   },
   "file_extension": ".py",
   "mimetype": "text/x-python",
   "name": "python",
   "nbconvert_exporter": "python",
   "pygments_lexer": "ipython3",
   "version": "3.7.4"
  }
 },
 "nbformat": 4,
 "nbformat_minor": 4
}
