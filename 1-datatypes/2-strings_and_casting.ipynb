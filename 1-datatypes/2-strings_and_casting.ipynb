{
 "cells": [
  {
   "cell_type": "markdown",
   "metadata": {},
   "source": [
    "# Strings\n",
    "\n",
    "<p style='font-size:1.25rem;line-height:1.5'>\n",
    "    <b style=\"color:red\">Strings</b> store <b style=\"color:blue\">characters</b>. Strings are enclosed in <b style=\"color:blue\">single quotes</b> <code>''</code> or <b style=\"color:blue\">double quotes</b> <code>\"\"</code> or <b style=\"color:blue\">triple quotes</b> <code>\"\"\"</code>. We only use triple quotes for very long strings or docstrings.\n",
    "    <br>For example, these are all strings:\n",
    "    </p>\n",
    "<ul style='font-size:1.25rem;line-height:1.5'>\n",
    "    <li>Single quotes: <code>'This string is using SINGLE quotes.'</code></li>\n",
    "    <li>Double quotes: <code>\"This string is using DOUBLE quotes!\"</code></li>\n",
    "    <li>Triple quotes: <code>\"\"\"This string is using TRIPLE quotes!\"\"\"</code></li>\n",
    "</ul>\n",
    "<p style='font-size:1.25rem;line-height:1.5'>\n",
    "    Strings can also store <b style=\"color:blue\">non-English characters</b>! For example, these are all valid strings:\n",
    "    </p>\n",
    "<ul style='font-size:1.25rem;line-height:1.5'>\n",
    "    <li><code>'hello'</code>, <code>'&#x4F60;&#x597D;'</code>, <code>\"＼ʕ •ᴥ•ʔ／\"</code>, <code>\"123\"</code>, <code>'&pi;'</code>, <code>'+'</code></li>\n",
    "</ul>\n",
    "<p style='font-size:1.25rem;line-height:1.5'>\n",
    "    Create a string that stores a sentence.\n",
    "    </p>"
   ]
  },
  {
   "cell_type": "code",
   "execution_count": 2,
   "metadata": {},
   "outputs": [],
   "source": [
    "# Start your code here\n"
   ]
  },
  {
   "cell_type": "markdown",
   "metadata": {},
   "source": [
    "# String Concatenation\n",
    "\n",
    "<p style='font-size:1.25rem;line-height:1.5'>\n",
    "    We can also <b style=\"color:blue\">concatenate</b>, or <b style=\"color:blue\">add</b>, strings together using the <strong>+</strong> operator. For example:\n",
    "    </p>\n",
    "<ul style='font-size:1.25rem;line-height:1.5'>\n",
    "    <li><code>'worm' + 'hole'</code> &rarr; <code>'wormhole'</code></li>\n",
    "    <li><code>\"Big Chungus\" + \" is back\"</code> &rarr; <code>\"Big Chungus is back\"</code></li>\n",
    "</ul>\n",
    "<p style='font-size:1.25rem;line-height:1.5'>\n",
    "    We can also use the <code>*</code> operator to <b style=\"color:blue\">repeat a string</b> the specified number of times! For example:\n",
    "    </p>\n",
    "<ul style='font-size:1.25rem;line-height:1.5'>\n",
    "    <li><code>'ho' * 5</code> &rarr; <code>'hohohohoho'</code></li>\n",
    "</ul>"
   ]
  },
  {
   "cell_type": "markdown",
   "metadata": {},
   "source": [
    "<p style='font-size:1.25rem;line-height:1.5'>\n",
    "    Concatenate the strings: <code>'A cat'</code> <code>'in a hat'</code> from separate strings.\n",
    "    </p>"
   ]
  },
  {
   "cell_type": "code",
   "execution_count": null,
   "metadata": {},
   "outputs": [],
   "source": [
    "# Start your code here\n"
   ]
  },
  {
   "cell_type": "markdown",
   "metadata": {},
   "source": [
    "<p style='font-size:1.25rem;line-height:1.5'>\n",
    "    Repeat the string <code>'catdog'</code> <strong>ten</strong> times using <code>*</code>.\n",
    "    </p>"
   ]
  },
  {
   "cell_type": "code",
   "execution_count": null,
   "metadata": {},
   "outputs": [],
   "source": [
    "# Start your code here\n"
   ]
  },
  {
   "cell_type": "markdown",
   "metadata": {},
   "source": [
    "<p style='font-size:1.25rem;line-height:1.5'>\n",
    "    Repeat the string <code>'RACECA'</code> <strong>five</strong> times using <code>*</code>, and then add <code>'R'</code> to the end.\n",
    "    </p>"
   ]
  },
  {
   "cell_type": "code",
   "execution_count": null,
   "metadata": {},
   "outputs": [],
   "source": [
    "# Start your code here\n"
   ]
  },
  {
   "cell_type": "markdown",
   "metadata": {},
   "source": [
    "# Casting Functions\n",
    "\n",
    "<p style='font-size:1.25rem;line-height:1.5'>\n",
    "    <b style=\"color:red\">Casting</b> <b style=\"color:blue\">converts data</b> from one type to another. Four useful casting functions are:\n",
    "    </p>\n",
    "<ul style='font-size:1.25rem;line-height:1.5'>\n",
    "    <li><code>int()</code>: creates an <b style=\"color:blue\">integer</b> from a float (e.g. <code>3.0</code>), or a string of an integer (e.g. <code>'3'</code>)</li>\n",
    "    <li><code>float()</code>: creates a <b style=\"color:blue\">float</b> from an integer (e.g. <code>2</code>), or string of a number (e.g. <code>'3.14'</code>).</li>\n",
    "    <li><code>str()</code>: creates a <b style=\"color:blue\">string</b> (works for most data types)</li>\n",
    "    <li><code>round()</code>: rounds a <b style=\"color:blue\">float</b> to an integer</li>\n",
    "</ul>"
   ]
  },
  {
   "cell_type": "code",
   "execution_count": null,
   "metadata": {},
   "outputs": [],
   "source": [
    "# Start your code here\n"
   ]
  },
  {
   "cell_type": "markdown",
   "metadata": {},
   "source": [
    "<p style='font-size:1.25rem;line-height:1.5'>\n",
    "    Cast the float <code>12.99</code> into an integer.\n",
    "    </p>"
   ]
  },
  {
   "cell_type": "code",
   "execution_count": null,
   "metadata": {},
   "outputs": [],
   "source": [
    "# Start your code here\n"
   ]
  },
  {
   "cell_type": "markdown",
   "metadata": {},
   "source": [
    "<p style='font-size:1.25rem;line-height:1.5'>\n",
    "    Cast <code>True</code> into a string.\n",
    "    </p>"
   ]
  },
  {
   "cell_type": "code",
   "execution_count": null,
   "metadata": {},
   "outputs": [],
   "source": [
    "# Start your code here\n"
   ]
  },
  {
   "cell_type": "markdown",
   "metadata": {},
   "source": [
    "<p style='font-size:1.25rem;line-height:1.5'>\n",
    "    Cast the strings <code>'14'</code> and <code>'9'</code> into integers and add them.\n",
    "    </p>"
   ]
  },
  {
   "cell_type": "code",
   "execution_count": null,
   "metadata": {},
   "outputs": [],
   "source": [
    "# Start your code here\n"
   ]
  },
  {
   "cell_type": "markdown",
   "metadata": {},
   "source": [
    "<p style='font-size:1.25rem;line-height:1.5'>\n",
    "    Round <code>421.667</code> to the nearest integer.\n",
    "    </p>"
   ]
  },
  {
   "cell_type": "code",
   "execution_count": null,
   "metadata": {},
   "outputs": [],
   "source": [
    "# Start your code here\n"
   ]
  }
 ],
 "metadata": {
  "kernelspec": {
   "display_name": "Python 3",
   "language": "python",
   "name": "python3"
  },
  "language_info": {
   "codemirror_mode": {
    "name": "ipython",
    "version": 3
   },
   "file_extension": ".py",
   "mimetype": "text/x-python",
   "name": "python",
   "nbconvert_exporter": "python",
   "pygments_lexer": "ipython3",
   "version": "3.7.4"
  }
 },
 "nbformat": 4,
 "nbformat_minor": 4
}
