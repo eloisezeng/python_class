{
 "cells": [
  {
   "cell_type": "markdown",
   "metadata": {},
   "source": [
    "### Data Types\n",
    "- integers (whole numbers)\n",
    "- floats (decimals)\n",
    "- strings (letters)\n",
    "- booleans (True/False)\n",
    "- None (placeholder objects)\n",
    "\n",
    "### Integer/Float Operations\n",
    "- Add +\n",
    "- Subtract - \n",
    "- Multiply *\n",
    "- Divide /\n",
    "- Modulo %    (for integer only - returns remainder of division)\n",
    "- Exponent **\n",
    "\n",
    "### Booleans (True or False)\n",
    "- is equal to   ==\n",
    "- is NOT equal to  !=\n",
    "- is greater than >= \n",
    "- is less than <=\n",
    "\n",
    "### Strings (written characters) \n",
    "- Single Quotes ‘ ‘ \n",
    "- Double Quotes   “ “ \n",
    "- Concatenation    +\n",
    "- Repeat a String   *\n",
    "\n",
    "### Casting\n",
    "- int() \t convert to integer\n",
    "- float() \t convert to float\n",
    "- str() \t convert to string\n",
    "\n",
    "### Print\n",
    "- print()\n",
    "\n",
    "### Escape Characters (for strings)\n",
    "- ' \\n ' \tnew line\n",
    "- ' \\t ' \ttab\n",
    "\n",
    "### String Functions\n",
    "- [variable name].title() \t capitalizes the first letter of each word\n",
    "```python\n",
    ">>> fun_fact = alberto likes food\n",
    ">>> print(fun_fact.title())\n",
    "Alberto Likes Food \n",
    "```\n",
    "\n",
    "-[variable name].upper() \t ALL CAPS\n",
    "```python\n",
    ">>> order = Alberto wants food\n",
    ">>> print(order.upper()\n",
    "ALBERTO WANTS FOOD \n",
    "``` \n",
    "\n",
    "-[variable name]. lower() \t all lowercase\n",
    "```python\n",
    ">>> text = \"I WAnT A ReFUnd\"\n",
    ">>> print(text.lower())\n",
    "i want a refund\n",
    "```"
   ]
  },
  {
   "cell_type": "code",
   "execution_count": null,
   "metadata": {},
   "outputs": [],
   "source": []
  }
 ],
 "metadata": {
  "kernelspec": {
   "display_name": "Python 3",
   "language": "python",
   "name": "python3"
  },
  "language_info": {
   "codemirror_mode": {
    "name": "ipython",
    "version": 3
   },
   "file_extension": ".py",
   "mimetype": "text/x-python",
   "name": "python",
   "nbconvert_exporter": "python",
   "pygments_lexer": "ipython3",
   "version": "3.7.4"
  }
 },
 "nbformat": 4,
 "nbformat_minor": 4
}
