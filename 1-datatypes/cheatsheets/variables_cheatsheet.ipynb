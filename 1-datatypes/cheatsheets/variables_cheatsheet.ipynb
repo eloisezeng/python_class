{
 "cells": [
  {
   "cell_type": "markdown",
   "metadata": {},
   "source": [
    "### Variable Assignment"
   ]
  },
  {
   "cell_type": "code",
   "execution_count": 6,
   "metadata": {},
   "outputs": [
    {
     "name": "stdout",
     "output_type": "stream",
     "text": [
      "1\n"
     ]
    }
   ],
   "source": [
    "# Run this cell to confirm that 1 is assigned to 1 \n",
    "x = 1\n",
    "print(x)"
   ]
  },
  {
   "cell_type": "markdown",
   "metadata": {},
   "source": [
    "### Naming Variables\n",
    "- Can only contain letters (a–z, A–Z), digits (0–9), and the underscore _\n",
    "- CANNOT begin with numbers\n",
    "- CANNOT contain spaces or other symbols\n",
    "- CANNOT use Python keywords (ie. True, False, None, is, not, and, or, for, if, elif, else, def)\n",
    "\n",
    "### Naming Convention: snake_case\n",
    "Examples: \n",
    "```python \n",
    "last_name = \"Hardy\"\n",
    "favorite_number = 7\n",
    "you_are_hungry = True\n",
    "```\n",
    "### Reassignment\n",
    "x = x + 1\n",
    "\n",
    "### Assignment Operations\n",
    "- +=\tfor example:\t x += 1\t   → \tx = x + 1\n",
    "- -=\tfor example:\t x -= 2 \t   → \tx = x - 2\n",
    "- *=\tfor example:\t x *= 3    → \tx = x * 3\n",
    "- /=\tfor example:\t x /= 4    → \tx = x / 4\n",
    "- %=\tfor example:\t x += 5   → \tx = x + 5\n"
   ]
  }
 ],
 "metadata": {
  "kernelspec": {
   "display_name": "Python 3",
   "language": "python",
   "name": "python3"
  },
  "language_info": {
   "codemirror_mode": {
    "name": "ipython",
    "version": 3
   },
   "file_extension": ".py",
   "mimetype": "text/x-python",
   "name": "python",
   "nbconvert_exporter": "python",
   "pygments_lexer": "ipython3",
   "version": "3.7.4"
  }
 },
 "nbformat": 4,
 "nbformat_minor": 4
}
