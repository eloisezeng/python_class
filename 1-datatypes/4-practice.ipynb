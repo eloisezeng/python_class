{
 "cells": [
  {
   "cell_type": "markdown",
   "metadata": {},
   "source": [
    "# Practice Datatypes at Home!\n",
    "Post on the Piazza if you have a question.<br>\n",
    "Link: https://piazza.com/class/keupwx36g7m410<br>\n",
    "Access Code: cs7"
   ]
  },
  {
   "cell_type": "markdown",
   "metadata": {},
   "source": [
    "<p style='font-size:1.25rem;line-height:1.5'>\n",
    "    1. Use the modulo operator to determine if 1000001 is divisible by 101. \n",
    "    </p>"
   ]
  },
  {
   "cell_type": "code",
   "execution_count": 4,
   "metadata": {},
   "outputs": [],
   "source": [
    "# Start your code here\n"
   ]
  },
  {
   "cell_type": "markdown",
   "metadata": {},
   "source": [
    "<p style='font-size:1.25rem;line-height:1.5'>\n",
    "    2. Fibonacci Sequence: 0, 1, 1, 2, 3, 5, 8, 13, 21, 34, 55, 89, 144, 233, 377, 610, 987, 1597, 2584, 4181, 6765, 10946, 17711, 28657 ...\n",
    "    </p>\n",
    "<ul style='font-size:1.25rem;line-height:1.5'>\n",
    "    <li>The next number is found by adding up the two numbers before it. </li>\n",
    "    <li>0 + 1 = 1 </li>\n",
    "    <li>1 + 1 = 2 </li>\n",
    "    <li>1 + 2 = 3 </li>\n",
    "    <li>2 + 3 = 5 </li>\n",
    "</ul>\n",
    "\n",
    "### a. Pick two numbers that are next to each other in the Fibonacci Sequence. Divide the larger number by the smaller number. Ex: 8 and 5"
   ]
  },
  {
   "cell_type": "code",
   "execution_count": null,
   "metadata": {},
   "outputs": [],
   "source": [
    "# Start your code here\n",
    "\n"
   ]
  },
  {
   "cell_type": "markdown",
   "metadata": {},
   "source": [
    "### b. Try this with other pairs of numbers. Are the results close to each other?"
   ]
  },
  {
   "cell_type": "code",
   "execution_count": 1,
   "metadata": {},
   "outputs": [],
   "source": [
    "# Start your code here\n"
   ]
  },
  {
   "cell_type": "markdown",
   "metadata": {},
   "source": [
    "\n",
    "<p style='font-size:1.25rem;line-height:1.5'>\n",
    "    3. Which of the following output the boolean True?<br>\n",
    "    A. False == 0 <br> \n",
    "    B. True != 2 <br> \n",
    "    C. True * 3 == 3 <br> \n",
    "    D. True == 0.9999999999999999999999999999 <br>\n",
    "    E. True == 0.9999999999999999 <br>\n",
    "    </p>"
   ]
  },
  {
   "cell_type": "code",
   "execution_count": null,
   "metadata": {},
   "outputs": [],
   "source": [
    "# Start your code here\n"
   ]
  },
  {
   "cell_type": "markdown",
   "metadata": {},
   "source": [
    "### 4. Using only one print function, output the following (in the same format):\n",
    "```raw\n",
    "Dear Gerald,\n",
    "    \"Thanks\" for stealing:\n",
    "        1. One Furry Costume\n",
    "        2. Five creepy dolls\n",
    "        3. Three Lambos for your TikTok\n",
    "Sincerely,\n",
    "Huncob\n",
    "```"
   ]
  },
  {
   "cell_type": "code",
   "execution_count": null,
   "metadata": {},
   "outputs": [],
   "source": [
    "# Start your code here\n"
   ]
  },
  {
   "cell_type": "markdown",
   "metadata": {},
   "source": [
    "<p style='font-size:1.25rem;line-height:1.5'>\n",
    "    5. Cast the strings <code>'421'</code> and <code>'70'</code> into integers and add them.\n",
    "    </p>"
   ]
  },
  {
   "cell_type": "code",
   "execution_count": null,
   "metadata": {},
   "outputs": [],
   "source": [
    "# Start your code here\n"
   ]
  }
 ],
 "metadata": {
  "kernelspec": {
   "display_name": "Python 3",
   "language": "python",
   "name": "python3"
  },
  "language_info": {
   "codemirror_mode": {
    "name": "ipython",
    "version": 3
   },
   "file_extension": ".py",
   "mimetype": "text/x-python",
   "name": "python",
   "nbconvert_exporter": "python",
   "pygments_lexer": "ipython3",
   "version": "3.7.4"
  }
 },
 "nbformat": 4,
 "nbformat_minor": 4
}
