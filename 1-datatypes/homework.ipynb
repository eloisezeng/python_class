{
 "cells": [
  {
   "cell_type": "markdown",
   "metadata": {},
   "source": [
    "# Data Types Homework\n",
    "## <b style=\"color:red\"> *If you don't practice, you will forget a lot. (This happened to me)* </b> <b style=\"color:blue\"> <br><br> We'll go over the homework, learn variables, and make a game next week! </b>\n",
    "## <b style=\"color:green\"> Email me if you have any questions or suggestions :) </b>\n",
    "---------------------------------------------------------------------------------------------------------\n",
    "### 1. In one line of code, subtract 667 from 421, then multiply the result by 70. "
   ]
  },
  {
   "cell_type": "code",
   "execution_count": 1,
   "metadata": {},
   "outputs": [],
   "source": [
    "# Hold down shift and enter to run the cell\n"
   ]
  },
  {
   "cell_type": "markdown",
   "metadata": {},
   "source": [
    "### 2. Dividing Fibonacci Numbers\n",
    "Fibonacci Sequence: 0, 1, 1, 2, 3, 5, 8, 13, 21, 34, 55, 89, 144, 233, 377, 610, 987, 1597, 2584, 4181, 6765, 10946, 17711, 28657 ...\n",
    "\n",
    "The next number is found by adding up the two numbers before it. <br>\n",
    "0 + 1 = 1 <br>\n",
    "1 + 1 = 2 <br>\n",
    "1 + 2 = 3 <br>\n",
    "2 + 3 = 5 \n",
    "\n",
    "### a. Pick two numbers that are next to each other. Divide the larger number by the smaller number. Ex: 8/5"
   ]
  },
  {
   "cell_type": "code",
   "execution_count": null,
   "metadata": {},
   "outputs": [],
   "source": [
    "# Code here\n"
   ]
  },
  {
   "cell_type": "markdown",
   "metadata": {},
   "source": [
    "### b. Try this with other numbers. Ex: 34/21, 377/233. Are the results close to each other?"
   ]
  },
  {
   "cell_type": "code",
   "execution_count": null,
   "metadata": {},
   "outputs": [],
   "source": [
    "# Code here\n"
   ]
  },
  {
   "cell_type": "markdown",
   "metadata": {},
   "source": [
    "### 3. Which of the following output the boolean True? \n",
    "### A. False == 0 <br> B. True == 1 <br> C. True * 3 == 3. <br> D. True != 0.9999999999999999999999999999"
   ]
  },
  {
   "cell_type": "code",
   "execution_count": null,
   "metadata": {},
   "outputs": [],
   "source": [
    "# Code here\n"
   ]
  },
  {
   "cell_type": "markdown",
   "metadata": {},
   "source": [
    "### 4. In one line, concatenate \"cat\" and \"dog\", then multiply the string by 2. \n"
   ]
  },
  {
   "cell_type": "code",
   "execution_count": null,
   "metadata": {},
   "outputs": [],
   "source": [
    "# Code here\n"
   ]
  },
  {
   "cell_type": "markdown",
   "metadata": {},
   "source": [
    "### 5. Using only one print function, output the following (in the same format):\n",
    "```raw\n",
    "Dear Gerald,\n",
    "    Thanks for stealing:\n",
    "        1. One Furry Costume\n",
    "        2. Five creepy dolls\n",
    "        3. Three Lambos for your TikTok\n",
    "Sincerely,\n",
    "Huncob\n",
    "```"
   ]
  },
  {
   "cell_type": "code",
   "execution_count": 1,
   "metadata": {},
   "outputs": [],
   "source": [
    "# Code here\n"
   ]
  },
  {
   "cell_type": "code",
   "execution_count": null,
   "metadata": {},
   "outputs": [],
   "source": []
  }
 ],
 "metadata": {
  "kernelspec": {
   "display_name": "Python 3",
   "language": "python",
   "name": "python3"
  },
  "language_info": {
   "codemirror_mode": {
    "name": "ipython",
    "version": 3
   },
   "file_extension": ".py",
   "mimetype": "text/x-python",
   "name": "python",
   "nbconvert_exporter": "python",
   "pygments_lexer": "ipython3",
   "version": "3.7.4"
  }
 },
 "nbformat": 4,
 "nbformat_minor": 4
}
