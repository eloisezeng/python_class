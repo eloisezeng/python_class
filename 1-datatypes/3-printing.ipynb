{
 "cells": [
  {
   "cell_type": "markdown",
   "metadata": {},
   "source": [
    "# Printing\n",
    "\n",
    "<p style='font-size:1.25rem;line-height:1.5'>\n",
    "    We can <b style=\"color:blue\">output a value to the screen</b> using the function <code>print()</code>.\n",
    "    </p>"
   ]
  },
  {
   "cell_type": "markdown",
   "metadata": {},
   "source": [
    "<p style='font-size:1.25rem;line-height:1.5'>\n",
    "    Print out the string <code>'Hello World!'</code>.\n",
    "    </p>"
   ]
  },
  {
   "cell_type": "code",
   "execution_count": null,
   "metadata": {},
   "outputs": [],
   "source": [
    "# Code here\n"
   ]
  },
  {
   "cell_type": "markdown",
   "metadata": {},
   "source": [
    "<p style='font-size:1.25rem;line-height:1.5'>\n",
    "    Print <code>1 + 1</code>. Then print <code>True + False</code> underneath.\n",
    "    </p>"
   ]
  },
  {
   "cell_type": "code",
   "execution_count": null,
   "metadata": {},
   "outputs": [],
   "source": [
    "# Code here\n"
   ]
  },
  {
   "cell_type": "markdown",
   "metadata": {},
   "source": [
    "# Escape Characters\n",
    "\n",
    "<p style='font-size:1.25rem;line-height:1.5'>\n",
    "    Some characters <b style=\"color:blue\">cannot be displayed</b> inside of strings. These characters are instead reserved for <b style=\"color:blue\">special functions</b> inside strings. For example, how do we create a new line inside a string? Or what if we wanted to type quotes inside of a string? \n",
    "    </p>\n",
    "    \n",
    "<p style='font-size:1.25rem;line-height:1.5'>\n",
    "    In these cases, we can use <b style=\"color:red\">escape characters</b>. This involves typing a <b style=\"color:blue\">backslash</b> <code>\\</code> before the character. Here are some common escape characters:\n",
    "<ul style='font-size:1.25rem;line-height:1.5'>\n",
    "    <li><code>'\\n'</code>: new line</li>\n",
    "    <li><code>'\\t'</code>: tab</li>\n",
    "    <li><code>'\\''</code>: single quote (for comma, apostrophe, etc.)</li>\n",
    "    <li><code>\"\\\"\"</code>: double quote</li>\n",
    "    <li><code>'\\\\'</code>: backslash</li>\n",
    "</ul>\n",
    "<p style='font-size:1.25rem;line-height:1.5'>\n",
    "    For example, try running the following code and see what it prints.\n",
    "    </p>"
   ]
  },
  {
   "cell_type": "code",
   "execution_count": null,
   "metadata": {},
   "outputs": [],
   "source": [
    "print('Big\\nChungus') # Run this cell"
   ]
  },
  {
   "cell_type": "code",
   "execution_count": null,
   "metadata": {},
   "outputs": [],
   "source": [
    "print(\"Hey, that's MY throne\\n\\tYou can't take that!\") # Run this cell"
   ]
  },
  {
   "cell_type": "markdown",
   "metadata": {},
   "source": [
    "<p style='font-size:1.25rem;line-height:1.5'>\n",
    "    Also, note that we only need the escape character for quotes when we are inside a string using the same type of quotes. For example, both of these are valid:\n",
    "    </p> "
   ]
  },
  {
   "cell_type": "code",
   "execution_count": null,
   "metadata": {},
   "outputs": [],
   "source": [
    "print(\"Call someone and say \\\"sorry I can't talk right now\\\"\")\n",
    "print('Call someone and say \"sorry I can\\'t talk right now\"')"
   ]
  },
  {
   "cell_type": "markdown",
   "metadata": {},
   "source": [
    "### Using only one print function, output the following (in the same format):\n",
    "```raw\n",
    "Things that happened today\n",
    "    1) Jombo asked the teacher to give us more homework\n",
    "    2) Jombo got hit by a bus\n",
    "    3) i lost my bus driving license\n",
    "```"
   ]
  },
  {
   "cell_type": "code",
   "execution_count": null,
   "metadata": {},
   "outputs": [],
   "source": [
    "# Code here\n"
   ]
  },
  {
   "cell_type": "markdown",
   "metadata": {},
   "source": [
    "### You print a really long string by surrounding it with <code>\"\"\"</code> What would happen if you used <code>\"</code> instead. Why do you think this is happening?"
   ]
  },
  {
   "cell_type": "code",
   "execution_count": null,
   "metadata": {},
   "outputs": [],
   "source": [
    "print(\"\"\"The good way to tell how much time you have left before nightfall is by knowing the temperature.\n",
    "See, the ancient natives didn't have watches like you and I, so what they would do is use temperature \n",
    "as a measurement of time The colder it gets, the later it is.\n",
    "Basically, the technique they used is actually pretty simple. What you do here is you \n",
    "pull out your cell phone and, uh, what you're gonna do here is just find the weather app\n",
    "it's not really moving because my gloves. It's actually getting really pretty difficult \n",
    "right now My gloves are making it nearly impossible to open the weather app and \n",
    "I can't take off my gloves because my hands are cold and the last thing you want in the Arctic is to be uncomfortable.\n",
    "If you still aren't able to open your weather app because of your gloves, what you want to do \n",
    "then is pull out your daily jacket thermometer. Basically, you use the thermometer as a sort of \n",
    "stylus or writing tool, so you can open your weather app. The ancient natives mimic this technique \n",
    "from the Nintendo DS. As you can see here, I had almost no problems at all It's working phenomenally\n",
    "\"\"\")"
   ]
  },
  {
   "cell_type": "markdown",
   "metadata": {},
   "source": [
    "# Printing Multiple Datatypes\n",
    "\n",
    "<p style='font-size:1.25rem;line-height:1.5'>\n",
    "    To print out multiple pieces of data, possibly of different data types, in one line, we can <b style=\"color:blue\">cast the data into strings and concatenate</b>. For example:\n",
    "    </p>\n",
    "    \n",
    "<ul style='font-size:1.25rem;line-height:1.5'>\n",
    "    <li><code>print('Pi is ' + str(3.14159) + '...')</code> &rarr; <code>Pi is 3.14159...</code></li>\n",
    "</ul>"
   ]
  },
  {
   "cell_type": "markdown",
   "metadata": {},
   "source": [
    "<p style='font-size:1.25rem;line-height:1.5'>\n",
    "Try printing out <code>3.14</code>, <code>False</code>, and <code>'Beaver'</code> in one line. \n",
    "    </p>"
   ]
  },
  {
   "cell_type": "code",
   "execution_count": 2,
   "metadata": {},
   "outputs": [],
   "source": [
    "# Code here\n"
   ]
  },
  {
   "cell_type": "markdown",
   "metadata": {},
   "source": [
    "<p style='font-size:1.25rem;line-height:1.5'>\n",
    "    You might wonder why don't we just <br><code>print('Pi is 3.14159')</code> instead of <br><code>print('Pi is' + str(3.14159))</code><br>\n",
    "    You will understand when you learn about variables!\n",
    "    </p>"
   ]
  }
 ],
 "metadata": {
  "kernelspec": {
   "display_name": "Python 3",
   "language": "python",
   "name": "python3"
  },
  "language_info": {
   "codemirror_mode": {
    "name": "ipython",
    "version": 3
   },
   "file_extension": ".py",
   "mimetype": "text/x-python",
   "name": "python",
   "nbconvert_exporter": "python",
   "pygments_lexer": "ipython3",
   "version": "3.7.4"
  }
 },
 "nbformat": 4,
 "nbformat_minor": 4
}
