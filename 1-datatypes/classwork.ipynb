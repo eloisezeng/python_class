{
 "cells": [
  {
   "cell_type": "markdown",
   "metadata": {},
   "source": [
    "# Week 1 Coding Practice!"
   ]
  },
  {
   "cell_type": "markdown",
   "metadata": {},
   "source": [
    "### print(\"hello, world\")"
   ]
  },
  {
   "cell_type": "code",
   "execution_count": 1,
   "metadata": {},
   "outputs": [],
   "source": [
    "# Hold down shift and enter to run the cell\n"
   ]
  },
  {
   "cell_type": "markdown",
   "metadata": {},
   "source": [
    "## **Math**"
   ]
  },
  {
   "cell_type": "markdown",
   "metadata": {},
   "source": [
    "### Add an integer (whole number) and a float (decimal) together. <br> Example: 3 + 1.3. <br> 3 is an int. 1.3 is a float.\n"
   ]
  },
  {
   "cell_type": "code",
   "execution_count": null,
   "metadata": {},
   "outputs": [],
   "source": []
  },
  {
   "cell_type": "markdown",
   "metadata": {},
   "source": [
    "### Multiply two integers\n"
   ]
  },
  {
   "cell_type": "code",
   "execution_count": null,
   "metadata": {},
   "outputs": [],
   "source": []
  },
  {
   "cell_type": "markdown",
   "metadata": {},
   "source": [
    "### Use the modulo operator % to determine if 10001 is divisible by 137."
   ]
  },
  {
   "cell_type": "code",
   "execution_count": null,
   "metadata": {},
   "outputs": [],
   "source": []
  },
  {
   "cell_type": "markdown",
   "metadata": {},
   "source": [
    "### Check if the sum of two integers is greater than their product <br> (Use the boolean operator <=, >=, ==, or !=)"
   ]
  },
  {
   "cell_type": "code",
   "execution_count": null,
   "metadata": {},
   "outputs": [],
   "source": []
  },
  {
   "cell_type": "markdown",
   "metadata": {},
   "source": [
    "# <div style=\"text-align:center\"> <b style=\"color:red\">--- STOP HERE --- </b> <br> <div style=\"text-align:center\"> <b style=\"color:black\"> You may start the homework if you're waiting :) </b>"
   ]
  },
  {
   "cell_type": "markdown",
   "metadata": {},
   "source": [
    "## **Strings**"
   ]
  },
  {
   "cell_type": "markdown",
   "metadata": {},
   "source": [
    "### Concatenate or add two strings together. You can use single quotes ' ' or double quotes \" \"\n",
    "### 'worm' + 'hole' → 'wormhole'"
   ]
  },
  {
   "cell_type": "code",
   "execution_count": null,
   "metadata": {},
   "outputs": [],
   "source": []
  },
  {
   "cell_type": "markdown",
   "metadata": {},
   "source": [
    "### Repeat the string 'hi' ten times using *. Add \" there\" at the end."
   ]
  },
  {
   "cell_type": "code",
   "execution_count": null,
   "metadata": {},
   "outputs": [],
   "source": []
  },
  {
   "cell_type": "markdown",
   "metadata": {},
   "source": [
    "### Casting Functions\n",
    "Casting converts data from one type to another. <br>\n",
    "Three useful casting functions are:\n",
    "- int(): creates an integer from a float (e.g. 3.0), or a string of an integer (e.g. '3')\n",
    "- round(): rounds a float to an integer\n",
    "- float(): creates a float from an integer (e.g. 2), or string of a number (e.g. '3.14').\n",
    "- str(): creates a string (works for most data types)\n",
    "\n",
    "### Cast the strings '14' and '9' into integers and add them."
   ]
  },
  {
   "cell_type": "code",
   "execution_count": null,
   "metadata": {},
   "outputs": [],
   "source": []
  },
  {
   "cell_type": "markdown",
   "metadata": {},
   "source": [
    "### Escape Characters\n",
    "- '\\n': new line\n",
    "- '\\t': tab"
   ]
  },
  {
   "cell_type": "code",
   "execution_count": 2,
   "metadata": {},
   "outputs": [
    {
     "name": "stdout",
     "output_type": "stream",
     "text": [
      "1. Big\n",
      "Chungus\n",
      "\n",
      "2. Big\tFungus\n"
     ]
    }
   ],
   "source": [
    "# Run this cell\n",
    "print(\"1. Big\\nChungus\\n\")\n",
    "print(\"2. Big\\tFungus\")"
   ]
  },
  {
   "cell_type": "markdown",
   "metadata": {},
   "source": [
    "### Using only one print function, output the following (in the same format):\n",
    "```raw\n",
    "Dear Huncob,\n",
    "        GET OUT OF MY PROPERTY.\n",
    "Sincerely,\n",
    "Gerald\n",
    "```"
   ]
  },
  {
   "cell_type": "code",
   "execution_count": 3,
   "metadata": {},
   "outputs": [],
   "source": [
    "# Code here\n"
   ]
  },
  {
   "cell_type": "markdown",
   "metadata": {},
   "source": [
    "# <div style=\"text-align:center\"> <b style=\"color:blue\"> --- DONE --- <br> ＼ʕ •ᴥ•ʔ／ </b>"
   ]
  }
 ],
 "metadata": {
  "kernelspec": {
   "display_name": "Python 3",
   "language": "python",
   "name": "python3"
  },
  "language_info": {
   "codemirror_mode": {
    "name": "ipython",
    "version": 3
   },
   "file_extension": ".py",
   "mimetype": "text/x-python",
   "name": "python",
   "nbconvert_exporter": "python",
   "pygments_lexer": "ipython3",
   "version": "3.7.4"
  }
 },
 "nbformat": 4,
 "nbformat_minor": 4
}
