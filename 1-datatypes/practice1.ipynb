{
 "cells": [
  {
   "cell_type": "markdown",
   "metadata": {},
   "source": [
    "# Week 1 Coding Practice!"
   ]
  },
  {
   "cell_type": "markdown",
   "metadata": {},
   "source": [
    "### Print \"hello, world\""
   ]
  },
  {
   "cell_type": "code",
   "execution_count": null,
   "metadata": {},
   "outputs": [],
   "source": []
  },
  {
   "cell_type": "markdown",
   "metadata": {},
   "source": [
    "## **Math**"
   ]
  },
  {
   "cell_type": "markdown",
   "metadata": {},
   "source": [
    "### Add an integer and a float together\n"
   ]
  },
  {
   "cell_type": "code",
   "execution_count": null,
   "metadata": {},
   "outputs": [],
   "source": []
  },
  {
   "cell_type": "markdown",
   "metadata": {},
   "source": [
    "### Subtract two integers\n"
   ]
  },
  {
   "cell_type": "code",
   "execution_count": null,
   "metadata": {},
   "outputs": [],
   "source": []
  },
  {
   "cell_type": "markdown",
   "metadata": {},
   "source": [
    "### Check if the sum of two integers is greater than their product"
   ]
  },
  {
   "cell_type": "code",
   "execution_count": null,
   "metadata": {},
   "outputs": [],
   "source": []
  },
  {
   "cell_type": "markdown",
   "metadata": {},
   "source": [
    "### Use the modulo operator % to determine if 10001 is divisible by 137.\n"
   ]
  },
  {
   "cell_type": "code",
   "execution_count": null,
   "metadata": {},
   "outputs": [],
   "source": []
  },
  {
   "cell_type": "markdown",
   "metadata": {},
   "source": [
    "### Dividing Fibonacci Numbers\n",
    "Fibonacci Sequence: 0, 1, 1, 2, 3, 5, 8, 13, 21, 34, 55, 89, 144, 233, 377, 610, 987, 1597, 2584, 4181, 6765, 10946, 17711, 28657 ...\n",
    "\n",
    "The next number is found by adding up the two numbers before it. <br>\n",
    "0 + 1 = 1 <br>\n",
    "1 + 1 = 2 <br>\n",
    "1 + 2 = 3 <br>\n",
    "2 + 3 = 5 \n",
    "\n",
    "**Pick two numbers that are next to each other. Divide the larger number by the smaller number. Ex: 8/5.0 or 8.0/5**"
   ]
  },
  {
   "cell_type": "code",
   "execution_count": null,
   "metadata": {},
   "outputs": [],
   "source": []
  },
  {
   "cell_type": "markdown",
   "metadata": {},
   "source": [
    "**Try this with other numbers. Ex: 34/21.0, 377/233 <br> Are the results close to each other?**"
   ]
  },
  {
   "cell_type": "code",
   "execution_count": null,
   "metadata": {},
   "outputs": [],
   "source": []
  },
  {
   "cell_type": "markdown",
   "metadata": {},
   "source": [
    "# <b style=\"color:red\">--- STOP HERE --- </b>"
   ]
  },
  {
   "cell_type": "markdown",
   "metadata": {},
   "source": [
    "## **Strings**"
   ]
  },
  {
   "cell_type": "markdown",
   "metadata": {},
   "source": [
    "### Concatenate or add two strings together. You can use single quotes ' ' or double quotes \" \"\n",
    "### 'worm' + 'hole' → 'wormhole'"
   ]
  },
  {
   "cell_type": "code",
   "execution_count": null,
   "metadata": {},
   "outputs": [],
   "source": []
  },
  {
   "cell_type": "markdown",
   "metadata": {},
   "source": [
    "### Repeat the string 'hi' ten times using *. Add \" there\" at the end."
   ]
  },
  {
   "cell_type": "code",
   "execution_count": null,
   "metadata": {},
   "outputs": [],
   "source": []
  },
  {
   "cell_type": "markdown",
   "metadata": {},
   "source": [
    "## **Casting Functions**\n",
    "Casting converts data from one type to another. <br>\n",
    "Three useful casting functions are:\n",
    "- int(): creates an integer from a float (e.g. 3.0), or a string of an integer (e.g. '3')\n",
    "- float(): creates a float from an integer (e.g. 2), or string of a number (e.g. '3.14').\n",
    "- str(): creates a string (works for most data types)\n",
    "\n",
    "### Cast the strings '14' and '9' into integers and add them."
   ]
  },
  {
   "cell_type": "code",
   "execution_count": null,
   "metadata": {},
   "outputs": [],
   "source": []
  },
  {
   "cell_type": "markdown",
   "metadata": {},
   "source": [
    "### Print Multiple Datatypes in one line\n",
    "### Example: \n",
    "```python\n",
    ">>> print(\"You ordered \" + str(2) + \" pizzas.\")\n",
    "You ordered 2 pizzas\n",
    "```\n",
    "### Print a sentence using 'π', 3.14159, and True"
   ]
  },
  {
   "cell_type": "code",
   "execution_count": null,
   "metadata": {},
   "outputs": [],
   "source": []
  },
  {
   "cell_type": "markdown",
   "metadata": {},
   "source": [
    "### Escape Characters\n",
    "- '\\n': new line\n",
    "- '\\t': tab"
   ]
  },
  {
   "cell_type": "code",
   "execution_count": 20,
   "metadata": {},
   "outputs": []
    }
   ],
   "source": [
    "# Run this cell\n",
    "print(\"Big\\nChungus\\n\")\n",
    "print(\"Big\\tFungus\")"
   ]
  },
  {
   "cell_type": "code",
   "execution_count": null,
   "metadata": {},
   "outputs": [],
   "source": []
  },
  {
   "cell_type": "markdown",
   "metadata": {},
   "source": [
    "### Using only one print function, output the following (in the same format):\n",
    "```raw\n",
    "Dear Huncob,\n",
    "        GET OUT OF MY PROPERTY.\n",
    "Sincerely,\n",
    "Me\n",
    "```"
   ]
  },
  {
   "cell_type": "code",
   "execution_count": null,
   "metadata": {},
   "outputs": [],
   "source": []
  },
  {
   "cell_type": "markdown",
   "metadata": {},
   "source": [
    "## Input function\n",
    "Example:\n",
    "```python\n",
    ">>> age = input(\"How old are you? \")\n",
    ">>> print(\"You are \" + age \" years old.\")\n",
    "```\n",
    "```raw \n",
    "How old are you? 15\n",
    "You are 15 years old.\n",
    "```\n",
    "### Make your own input function and print the input."
   ]
  },
  {
   "cell_type": "code",
   "execution_count": null,
   "metadata": {},
   "outputs": [],
   "source": []
  },
  {
   "cell_type": "markdown",
   "metadata": {},
   "source": [
    "# <b style=\"color:red\">--- STOP HERE --- </b>"
   ]
  }
 ],
 "metadata": {
  "kernelspec": {
   "display_name": "Python 3",
   "language": "python",
   "name": "python3"
  },
  "language_info": {
   "codemirror_mode": {
    "name": "ipython",
    "version": 3
   },
   "file_extension": ".py",
   "mimetype": "text/x-python",
   "name": "python",
   "nbconvert_exporter": "python",
   "pygments_lexer": "ipython3",
   "version": "3.7.4"
  }
 },
 "nbformat": 4,
 "nbformat_minor": 4
}
