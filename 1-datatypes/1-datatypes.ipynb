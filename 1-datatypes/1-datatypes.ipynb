{
 "cells": [
  {
   "cell_type": "markdown",
   "metadata": {},
   "source": [
    "# **Data Types**\n",
    "\n",
    "<p style='font-size:1.25rem;line-height:1.5'>\n",
    "    <b style=\"color:red\">We classify information all the time.</b> Classifying data makes it easier for both humans and computers alike to understand and process information! For example, we differentiate between words, letters, numbers, and symbols.\n",
    "    </p>\n",
    "    \n",
    "<p style='font-size:1.25rem;line-height:1.5'>\n",
    "    <b style=\"color:blue\">Computers classify information</b> in a similar way using <b style=\"color:blue\">data types.</b>\n",
    "    </p>\n",
    "    \n",
    "<p style='font-size:1.25rem;line-height:1.5'>\n",
    "    In this lab, we will learn about the <b style=\"color:blue\">basic data types</b> in Python: \n",
    "    <ul style='font-size:1.25rem;line-height:2'>\n",
    "        <li><code>integers</code> (whole numbers)</li>\n",
    "        <li><code>floats</code> (decimals)</li>\n",
    "        <li><code>booleans</code> (true/false)</li>\n",
    "        <li><code>strings</code> (letters)</li>\n",
    "    </ul>\n",
    "    </p>"
   ]
  },
  {
   "cell_type": "markdown",
   "metadata": {},
   "source": [
    "<p style='font-size:1.25rem;line-height:1.5'>\n",
    "    <b style=\"color:red\">Integers</b> are <b style=\"color:blue\">whole numbers</b> that do not contain decimals. They can be positive, negative, or zero.\n",
    "    </p>\n",
    "<ul style='font-size:1.25rem;line-height:1.25'>\n",
    "    <li>Integers: <code>-2</code>, <code>-1</code>, <code>0</code>, <code>1</code>, <code>2</code></li>\n",
    "    <li>NOT integers: <code>3.142</code>, <code>2.718</code>, <code>-1.618</code>, <code>1.0</code></li>\n",
    "</ul>\n",
    "<p style='font-size:1.25rem;line-height:1.5'>\n",
    "    <b style=\"color:red\">Floats</b> (or \"floating point numbers\") are numbers with <b style=\"color:blue\">decimals</b>. They can be positive, negative, or zero. For example, <code>3.14159</code>, <code>-1.2</code>, and <code>0.0</code> are all floats.\n",
    "    </p>"
   ]
  },
  {
   "cell_type": "markdown",
   "metadata": {},
   "source": [
    "# Math Operations\n",
    "\n",
    "<p style='font-size:1.25rem;line-height:1.5'>\n",
    "    We can apply the <b style=\"color:blue\">four standard mathematical operations</b> on integers:\n",
    "    </p>\n",
    "<ul style='font-size:1.25rem;line-height:1.25'>\n",
    "    <li>Addition: <code>+</code></li>\n",
    "    <li>Subtraction: <code>-</code></li>\n",
    "    <li>Multiplication: <code>*</code></li>\n",
    "    <li>Division: <code>/</code></li>\n",
    "</ul>"
   ]
  },
  {
   "cell_type": "markdown",
   "metadata": {},
   "source": [
    "<p style='font-size:1.25rem;line-height:1.5'>\n",
    "    Add a float and an integer.\n",
    "    </p>"
   ]
  },
  {
   "cell_type": "code",
   "execution_count": 51,
   "metadata": {},
   "outputs": [],
   "source": [
    "# Press shift enter or shift return to run the cell\n",
    "# Comments start with hashtags => #, so these lines are ignored\n",
    "# Start your code here\n",
    "\n"
   ]
  },
  {
   "cell_type": "markdown",
   "metadata": {},
   "source": [
    "<p style='font-size:1.25rem;line-height:1.5'>\n",
    "    Subtract two integers.\n",
    "    </p>"
   ]
  },
  {
   "cell_type": "code",
   "execution_count": null,
   "metadata": {},
   "outputs": [],
   "source": [
    "# Start your code here\n",
    "\n"
   ]
  },
  {
   "cell_type": "markdown",
   "metadata": {},
   "source": [
    "<p style='font-size:1.25rem;line-height:1.5'>\n",
    "    Multiply an integer and a float.\n",
    "    </p>"
   ]
  },
  {
   "cell_type": "code",
   "execution_count": null,
   "metadata": {},
   "outputs": [],
   "source": [
    "# Start your code here\n",
    "\n"
   ]
  },
  {
   "cell_type": "markdown",
   "metadata": {},
   "source": [
    "<p style='font-size:1.25rem;line-height:1.5'>\n",
    "    Divide an integer by a float.\n",
    "    </p>"
   ]
  },
  {
   "cell_type": "code",
   "execution_count": 21,
   "metadata": {},
   "outputs": [],
   "source": [
    "# Start your code here\n"
   ]
  },
  {
   "cell_type": "markdown",
   "metadata": {},
   "source": [
    "# Order of Operations\n",
    "\n",
    "<p style='font-size:1.25rem;line-height:1.5'>\n",
    "    Math in Python follows the normal <b style=\"color:blue\">order of operations (PEMDAS)</b>.\n",
    "    </p>"
   ]
  },
  {
   "cell_type": "markdown",
   "metadata": {},
   "source": [
    "<p style='font-size:1.25rem;line-height:1.5'>\n",
    "Implement the following statement in the code block below: <code>1 + 2 * 3</code>. Do you expect the result to be <code>9</code> or <code>7</code>? Why?\n",
    "    </p>"
   ]
  },
  {
   "cell_type": "code",
   "execution_count": null,
   "metadata": {},
   "outputs": [],
   "source": [
    "# Start your code here\n",
    "\n"
   ]
  },
  {
   "cell_type": "markdown",
   "metadata": {},
   "source": [
    "<p style='font-size:1.25rem;line-height:1.5'>\n",
    "    What do you think <code>(1 + 2) * 3</code> will be? Check below!\n",
    "    </p>"
   ]
  },
  {
   "cell_type": "code",
   "execution_count": null,
   "metadata": {},
   "outputs": [],
   "source": [
    "# Start your code here\n",
    "\n"
   ]
  },
  {
   "cell_type": "markdown",
   "metadata": {},
   "source": [
    "# Modulo Operator\n",
    "\n",
    "<p style='font-size:1.25rem;line-height:1.5'>\n",
    "    You may be less familiar with the modulo operator <code>%</code>, but it is common in programming. It returns the <b style=\"color:blue\">remainder</b> from <b style=\"color:blue\"> division</b>.\n",
    "    </p>\n",
    "<p style='font-size:1.25rem;line-height:1.5'>\n",
    "    For example, <code>5 % 2</code> (read: \"five modulo two\") would return <code>1</code> because 2 goes into 5 twice, with 1 left over.\n",
    "    </p>"
   ]
  },
  {
   "cell_type": "markdown",
   "metadata": {},
   "source": [
    "<p style='font-size:1.25rem;line-height:1.5'>\n",
    "    What would <code>8 % 3</code> return? Check in the code block below.\n",
    "    </p>"
   ]
  },
  {
   "cell_type": "code",
   "execution_count": 5,
   "metadata": {},
   "outputs": [],
   "source": [
    "# Start your code here\n"
   ]
  },
  {
   "cell_type": "markdown",
   "metadata": {},
   "source": [
    "# Booleans\n",
    "\n",
    "<p style='font-size:1.25rem;line-height:1.5'>\n",
    "    <b style=\"color:red\">Booleans</b> have two values: <code>True</code> or <code>False</code>. In Python, these values must be capitalized.\n",
    "    </p>\n",
    "<p style='font-size:1.25rem;line-height:1.5'>\n",
    "    Comparison statements evaluate to booleans. We will learn more about comparison in later labs. As a preview, we can <b style=\"color:blue\">compare booleans values</b> using the following operators:\n",
    "    </p>\n",
    "<ul style='font-size:1.25rem;line-height:1.5'>\n",
    "    <li><code>==</code>: equals\n",
    "    <li><code>!=</code>: does not equal\n",
    "</ul>"
   ]
  },
  {
   "cell_type": "markdown",
   "metadata": {},
   "source": [
    "<p style='font-size:1.25rem;line-height:1.5'> \n",
    "    Check if <code>True</code> is equal to <code>False</code>.\n",
    "    </p>"
   ]
  },
  {
   "cell_type": "markdown",
   "metadata": {},
   "source": [
    "<p style='font-size:1.25rem;line-height:1.5'>\n",
    "    Booleans can also be represented by numbers, where <code>True</code> is 1 and <code>False</code> is 0. \n",
    "    <br>Check if <code>True</code> is equal to <code>1</code>.\n",
    "    </p>"
   ]
  },
  {
   "cell_type": "code",
   "execution_count": null,
   "metadata": {},
   "outputs": [],
   "source": [
    "# Start your code here\n",
    "\n"
   ]
  }
 ],
 "metadata": {
  "kernelspec": {
   "display_name": "Python 3",
   "language": "python",
   "name": "python3"
  },
  "language_info": {
   "codemirror_mode": {
    "name": "ipython",
    "version": 3
   },
   "file_extension": ".py",
   "mimetype": "text/x-python",
   "name": "python",
   "nbconvert_exporter": "python",
   "pygments_lexer": "ipython3",
   "version": "3.7.4"
  }
 },
 "nbformat": 4,
 "nbformat_minor": 4
}
